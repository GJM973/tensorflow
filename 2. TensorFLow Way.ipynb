{
 "cells": [
  {
   "cell_type": "markdown",
   "metadata": {},
   "source": [
    "### Agenda\n",
    "* Ops in a Computational Graph\n",
    "* Layering Nested Layers\n",
    "* Working with Multiple Layers\n",
    "* Implementing Loss Functions\n",
    "* Implementing BackPropogation\n",
    "* Working with Batch & Stochastic Training\n",
    "* Evaluating Models"
   ]
  },
  {
   "cell_type": "code",
   "execution_count": 1,
   "metadata": {
    "collapsed": true
   },
   "outputs": [],
   "source": [
    "import numpy as np\n",
    "import tensorflow as tf"
   ]
  },
  {
   "cell_type": "code",
   "execution_count": 2,
   "metadata": {
    "collapsed": true
   },
   "outputs": [],
   "source": [
    "x_vals = np.array([1., 3., 5., 7., 9.])\n",
    "x_data = tf.placeholder(tf.float32)\n",
    "m_const = tf.constant(3.)"
   ]
  },
  {
   "cell_type": "code",
   "execution_count": 3,
   "metadata": {
    "collapsed": true
   },
   "outputs": [],
   "source": [
    "my_product = tf.mul(x_data,m_const)"
   ]
  },
  {
   "cell_type": "code",
   "execution_count": 8,
   "metadata": {},
   "outputs": [
    {
     "name": "stdout",
     "output_type": "stream",
     "text": [
      "3.0\n",
      "9.0\n",
      "15.0\n",
      "21.0\n",
      "27.0\n"
     ]
    }
   ],
   "source": [
    "sess = tf.Session()\n",
    "for x_val in x_vals:\n",
    "    print(sess.run(my_product, feed_dict={x_data:x_val}))"
   ]
  },
  {
   "cell_type": "markdown",
   "metadata": {},
   "source": [
    "### Layering Nested Operations"
   ]
  },
  {
   "cell_type": "code",
   "execution_count": 9,
   "metadata": {
    "collapsed": true
   },
   "outputs": [],
   "source": [
    "my_array = np.array([[1., 3., 5., 7., 9.],\n",
    "                   [-2., 0., 2., 4., 6.],\n",
    "                   [-6., -3., 0., 3., 6.]])\n",
    "\n",
    "x_vals = np.array([my_array, my_array + 1])\n",
    "\n",
    "x_data = tf.placeholder(tf.float32, shape=(3, 5))"
   ]
  },
  {
   "cell_type": "code",
   "execution_count": 10,
   "metadata": {},
   "outputs": [
    {
     "data": {
      "text/plain": [
       "array([[[  1.,   3.,   5.,   7.,   9.],\n",
       "        [ -2.,   0.,   2.,   4.,   6.],\n",
       "        [ -6.,  -3.,   0.,   3.,   6.]],\n",
       "\n",
       "       [[  2.,   4.,   6.,   8.,  10.],\n",
       "        [ -1.,   1.,   3.,   5.,   7.],\n",
       "        [ -5.,  -2.,   1.,   4.,   7.]]])"
      ]
     },
     "execution_count": 10,
     "metadata": {},
     "output_type": "execute_result"
    }
   ],
   "source": [
    "x_vals"
   ]
  },
  {
   "cell_type": "code",
   "execution_count": 11,
   "metadata": {
    "collapsed": true
   },
   "outputs": [],
   "source": [
    "m1 = tf.constant([[1.],[0.],[-1.],[2.],[4.]])\n",
    "m2 = tf.constant([[2.]])\n",
    "a1 = tf.constant([[10.]])"
   ]
  },
  {
   "cell_type": "code",
   "execution_count": 12,
   "metadata": {
    "collapsed": true
   },
   "outputs": [],
   "source": [
    "prod1 = tf.matmul(x_data, m1)"
   ]
  },
  {
   "cell_type": "code",
   "execution_count": 13,
   "metadata": {
    "collapsed": true
   },
   "outputs": [],
   "source": [
    "prod2 = tf.matmul(prod1, m2)"
   ]
  },
  {
   "cell_type": "code",
   "execution_count": 14,
   "metadata": {},
   "outputs": [
    {
     "data": {
      "text/plain": [
       "<tf.Tensor 'Const_1:0' shape=(5, 1) dtype=float32>"
      ]
     },
     "execution_count": 14,
     "metadata": {},
     "output_type": "execute_result"
    }
   ],
   "source": [
    "m1"
   ]
  },
  {
   "cell_type": "code",
   "execution_count": 15,
   "metadata": {
    "collapsed": true
   },
   "outputs": [],
   "source": [
    "add1 = tf.add(prod2, m2)"
   ]
  },
  {
   "cell_type": "code",
   "execution_count": 16,
   "metadata": {},
   "outputs": [
    {
     "name": "stdout",
     "output_type": "stream",
     "text": [
      "[[ 94.]\n",
      " [ 58.]\n",
      " [ 50.]]\n",
      "[[ 106.]\n",
      " [  70.]\n",
      " [  62.]]\n"
     ]
    }
   ],
   "source": [
    "for x_val in x_vals:\n",
    "    print (sess.run(add1, feed_dict={x_data:x_val}))"
   ]
  },
  {
   "cell_type": "code",
   "execution_count": 17,
   "metadata": {},
   "outputs": [
    {
     "data": {
      "text/plain": [
       "array([[  2.,   4.,   6.,   8.,  10.],\n",
       "       [ -1.,   1.,   3.,   5.,   7.],\n",
       "       [ -5.,  -2.,   1.,   4.,   7.]])"
      ]
     },
     "execution_count": 17,
     "metadata": {},
     "output_type": "execute_result"
    }
   ],
   "source": [
    "x_val"
   ]
  },
  {
   "cell_type": "markdown",
   "metadata": {},
   "source": [
    "### Working with Multiple Layers"
   ]
  },
  {
   "cell_type": "code",
   "execution_count": 18,
   "metadata": {
    "collapsed": true
   },
   "outputs": [],
   "source": [
    "#2D image with numpy. Image with 4X4 pixel\n",
    "#image number, height,width,channel\n",
    "x_shape = [1, 4, 4, 1]\n",
    "x_val = np.random.uniform(size=x_shape)"
   ]
  },
  {
   "cell_type": "code",
   "execution_count": 20,
   "metadata": {},
   "outputs": [
    {
     "data": {
      "text/plain": [
       "(1, 4, 4, 1)"
      ]
     },
     "execution_count": 20,
     "metadata": {},
     "output_type": "execute_result"
    }
   ],
   "source": [
    "x_val.shape"
   ]
  },
  {
   "cell_type": "code",
   "execution_count": 21,
   "metadata": {
    "collapsed": true
   },
   "outputs": [],
   "source": [
    "x_data = tf.placeholder(tf.float32, shape=x_shape)"
   ]
  },
  {
   "cell_type": "code",
   "execution_count": 22,
   "metadata": {
    "collapsed": true
   },
   "outputs": [],
   "source": [
    "my_filter = tf.constant(0.25, shape=[2,2,1,1])"
   ]
  },
  {
   "cell_type": "code",
   "execution_count": 24,
   "metadata": {},
   "outputs": [],
   "source": [
    "my_strides = [1,2,2,1]"
   ]
  },
  {
   "cell_type": "code",
   "execution_count": 30,
   "metadata": {},
   "outputs": [],
   "source": [
    "mov_avg_layer = tf.nn.conv2d(x_data, my_filter, my_strides, padding='SAME')"
   ]
  },
  {
   "cell_type": "code",
   "execution_count": 29,
   "metadata": {
    "collapsed": true
   },
   "outputs": [],
   "source": [
    "def custom_layer(input_matrix):\n",
    "    input_matrix_sqeezed = tf.squeeze(input_matrix)\n",
    "    A = tf.constant([[1., 2.], [-1., 3.]])\n",
    "    b = tf.constant(1., shape=[2, 2]) \n",
    "    temp1 = tf.matmul(A,input_matrix_sqeezed)\n",
    "    temp = tf.add(temp1, b)\n",
    "    return tf.sigmoid(temp)"
   ]
  },
  {
   "cell_type": "code",
   "execution_count": 31,
   "metadata": {},
   "outputs": [],
   "source": [
    "with tf.name_scope('Custome_Layer') as scope:\n",
    "    custom_layer1 = custom_layer(mov_avg_layer)"
   ]
  },
  {
   "cell_type": "code",
   "execution_count": 32,
   "metadata": {},
   "outputs": [
    {
     "data": {
      "text/plain": [
       "array([[ 0.90649736,  0.93201917],\n",
       "       [ 0.83657342,  0.90521866]], dtype=float32)"
      ]
     },
     "execution_count": 32,
     "metadata": {},
     "output_type": "execute_result"
    }
   ],
   "source": [
    "sess.run(custom_layer1, feed_dict={x_data:x_val})"
   ]
  },
  {
   "cell_type": "markdown",
   "metadata": {},
   "source": [
    "<img src=\"https://www.safaribooksonline.com/library/view/tensorflow-machine-learning/9781786462169/graphics/B05480_02_03.jpg\">"
   ]
  },
  {
   "cell_type": "markdown",
   "metadata": {},
   "source": [
    "### Loss Functions"
   ]
  },
  {
   "cell_type": "code",
   "execution_count": 33,
   "metadata": {
    "collapsed": true
   },
   "outputs": [],
   "source": [
    "x_vals = tf.linspace(-1., 1., 500)\n",
    "target = tf.constant(0.)"
   ]
  },
  {
   "cell_type": "code",
   "execution_count": 34,
   "metadata": {
    "collapsed": true
   },
   "outputs": [],
   "source": [
    "l2_y_vals = tf.square(target - x_vals)\n",
    "l2_y_out = sess.run(l2_y_vals)"
   ]
  },
  {
   "cell_type": "code",
   "execution_count": 35,
   "metadata": {
    "collapsed": true
   },
   "outputs": [],
   "source": [
    "l1_y_vals = tf.abs(target - x_vals)\n",
    "l1_y_out = sess.run(l1_y_vals)"
   ]
  },
  {
   "cell_type": "code",
   "execution_count": 43,
   "metadata": {},
   "outputs": [
    {
     "data": {
      "text/plain": [
       "[<matplotlib.lines.Line2D at 0x12e2abc62e8>]"
      ]
     },
     "execution_count": 43,
     "metadata": {},
     "output_type": "execute_result"
    },
    {
     "data": {
      "image/png": "[encoded data removed]",
      "text/plain": [
       "<matplotlib.figure.Figure at 0x12e2abc67f0>"
      ]
     },
     "metadata": {},
     "output_type": "display_data"
    }
   ],
   "source": [
    "x_array = sess.run(x_vals)\n",
    "\n",
    "import matplotlib.pyplot as plt\n",
    "%matplotlib inline\n",
    "\n",
    "plt.plot(x_array, l1_y_out, 'r--', label='L1 Loss')\n",
    "plt.plot(x_array, l2_y_out, 'b-', label='L2 Loss')"
   ]
  },
  {
   "cell_type": "markdown",
   "metadata": {},
   "source": [
    "### Back Propogation\n",
    "* It can keep track of operations & automatically update model variables based on back propogation\n",
    "* Minimize loss function"
   ]
  },
  {
   "cell_type": "code",
   "execution_count": 44,
   "metadata": {
    "collapsed": true
   },
   "outputs": [],
   "source": [
    "x_vals = np.random.normal(1, 0.1, 100)\n",
    "y_vals = np.repeat(10., 100)\n",
    "x_data = tf.placeholder(shape=[1], dtype=tf.float32)\n",
    "y_target = tf.placeholder(shape=[1], dtype=tf.float32)\n",
    "A = tf.Variable(tf.random_normal(shape=[1]))"
   ]
  },
  {
   "cell_type": "code",
   "execution_count": 45,
   "metadata": {},
   "outputs": [
    {
     "data": {
      "text/plain": [
       "array([ 10.,  10.,  10.,  10.,  10.,  10.,  10.,  10.,  10.,  10.,  10.,\n",
       "        10.,  10.,  10.,  10.,  10.,  10.,  10.,  10.,  10.,  10.,  10.,\n",
       "        10.,  10.,  10.,  10.,  10.,  10.,  10.,  10.,  10.,  10.,  10.,\n",
       "        10.,  10.,  10.,  10.,  10.,  10.,  10.,  10.,  10.,  10.,  10.,\n",
       "        10.,  10.,  10.,  10.,  10.,  10.,  10.,  10.,  10.,  10.,  10.,\n",
       "        10.,  10.,  10.,  10.,  10.,  10.,  10.,  10.,  10.,  10.,  10.,\n",
       "        10.,  10.,  10.,  10.,  10.,  10.,  10.,  10.,  10.,  10.,  10.,\n",
       "        10.,  10.,  10.,  10.,  10.,  10.,  10.,  10.,  10.,  10.,  10.,\n",
       "        10.,  10.,  10.,  10.,  10.,  10.,  10.,  10.,  10.,  10.,  10.,\n",
       "        10.])"
      ]
     },
     "execution_count": 45,
     "metadata": {},
     "output_type": "execute_result"
    }
   ],
   "source": [
    "y_vals"
   ]
  },
  {
   "cell_type": "code",
   "execution_count": 48,
   "metadata": {},
   "outputs": [
    {
     "data": {
      "text/plain": [
       "array([ 0.96727524,  1.04696738,  1.04569504,  0.90581905,  1.02735944,\n",
       "        0.92236171,  1.07339619,  0.80527031,  0.89690801,  0.9187634 ,\n",
       "        0.99167368,  1.21924735,  1.06508388,  0.91346623,  0.87038911,\n",
       "        1.00209266,  1.0988418 ,  0.9564379 ,  1.08451251,  1.14720616,\n",
       "        0.97421059,  0.75005957,  1.00514868,  0.88947382,  0.92551077,\n",
       "        1.02922274,  0.80994198,  0.93239088,  0.95713069,  1.06055085,\n",
       "        1.00317452,  0.98869983,  0.83858811,  1.08068019,  1.0897093 ,\n",
       "        1.04847203,  1.14777602,  0.99948277,  0.97286985,  1.02884656,\n",
       "        0.78426923,  1.0099864 ,  0.92375207,  0.86365626,  0.98346889,\n",
       "        1.06127619,  1.0180148 ,  1.06508045,  0.91185556,  1.10779932,\n",
       "        0.94185985,  0.91680898,  0.94315404,  1.00096129,  1.05616261,\n",
       "        1.01207684,  0.80418888,  0.96706901,  1.24391973,  0.81147358,\n",
       "        1.08656906,  0.93477843,  0.96271066,  0.98447399,  0.9583596 ,\n",
       "        0.94378991,  0.96300808,  1.02769399,  1.08669075,  0.99506158,\n",
       "        0.959161  ,  0.95122205,  0.86644056,  0.85841082,  1.07295983,\n",
       "        1.00563485,  1.03276571,  1.02331752,  0.84562402,  1.15385203,\n",
       "        0.89268452,  1.14016902,  0.94465678,  0.93136944,  1.24489321,\n",
       "        0.78892832,  1.04107605,  0.78536649,  0.93555014,  0.92780373,\n",
       "        1.05578411,  0.86902438,  1.15236419,  1.02327726,  1.08611432,\n",
       "        1.06768882,  0.85840625,  0.98598138,  1.05564931,  0.93265112])"
      ]
     },
     "execution_count": 48,
     "metadata": {},
     "output_type": "execute_result"
    }
   ],
   "source": [
    "x_vals"
   ]
  },
  {
   "cell_type": "code",
   "execution_count": 50,
   "metadata": {},
   "outputs": [],
   "source": [
    "my_output = tf.mul(x_data, A)"
   ]
  },
  {
   "cell_type": "code",
   "execution_count": 51,
   "metadata": {
    "collapsed": true
   },
   "outputs": [],
   "source": [
    "loss = tf.square(my_output - y_target)"
   ]
  },
  {
   "cell_type": "code",
   "execution_count": 53,
   "metadata": {},
   "outputs": [],
   "source": [
    "init = tf.global_variables_initializer()\n",
    "sess.run(init)"
   ]
  },
  {
   "cell_type": "code",
   "execution_count": 54,
   "metadata": {
    "collapsed": true
   },
   "outputs": [],
   "source": [
    "my_opt = tf.train.GradientDescentOptimizer(learning_rate=0.02)\n",
    "train_step = my_opt.minimize(loss)"
   ]
  },
  {
   "cell_type": "code",
   "execution_count": 55,
   "metadata": {},
   "outputs": [
    {
     "name": "stdout",
     "output_type": "stream",
     "text": [
      "Loss [ 72.73432922]\n",
      "Loss [ 64.07601166]\n",
      "Loss [ 62.92261124]\n",
      "Loss [ 54.55478668]\n",
      "Loss [ 51.98026276]\n",
      "Loss [ 47.87427139]\n",
      "Loss [ 38.76089478]\n",
      "Loss [ 51.03902435]\n",
      "Loss [ 48.17140579]\n",
      "Loss [ 37.31684113]\n",
      "Loss [ 40.37000275]\n",
      "Loss [ 32.57803726]\n",
      "Loss [ 25.75200272]\n",
      "Loss [ 36.30051804]\n",
      "Loss [ 21.6240921]\n",
      "Loss [ 29.28386688]\n",
      "Loss [ 32.52169037]\n",
      "Loss [ 17.96669006]\n",
      "Loss [ 13.47986507]\n",
      "Loss [ 12.76614761]\n",
      "Loss [ 19.17869949]\n",
      "Loss [ 20.2830162]\n",
      "Loss [ 14.81246662]\n",
      "Loss [ 13.37816238]\n",
      "Loss [ 14.1294775]\n",
      "Loss [ 7.3286171]\n",
      "Loss [ 11.84623051]\n",
      "Loss [ 4.77955675]\n",
      "Loss [ 6.64821625]\n",
      "Loss [ 6.661201]\n",
      "Loss [ 3.77145076]\n",
      "Loss [ 7.11289835]\n",
      "Loss [ 11.79492664]\n",
      "Loss [ 10.70361805]\n",
      "Loss [ 6.14356899]\n",
      "Loss [ 6.20595598]\n",
      "Loss [ 6.22654009]\n",
      "Loss [ 3.49200058]\n",
      "Loss [ 1.3263427]\n",
      "Loss [ 5.53844547]\n",
      "Loss [ 0.94972771]\n",
      "Loss [ 2.33993626]\n",
      "Loss [ 4.78512096]\n",
      "Loss [ 0.0718959]\n",
      "Loss [ 10.40126133]\n",
      "Loss [ 6.16333675]\n",
      "Loss [ 2.61272669]\n",
      "Loss [ 0.00093092]\n",
      "Loss [ 3.50964808]\n",
      "Loss [ 7.70241213]\n",
      "Loss [ 0.28372109]\n",
      "Loss [ 0.25876635]\n",
      "Loss [ 0.52568227]\n",
      "Loss [ 1.83016694]\n",
      "Loss [ 0.45572698]\n",
      "Loss [ 0.48276213]\n",
      "Loss [ 0.44316658]\n",
      "Loss [ 0.40726978]\n",
      "Loss [ 1.73382187]\n",
      "Loss [ 9.1772871]\n",
      "Loss [ 0.60822999]\n",
      "Loss [ 0.42535207]\n",
      "Loss [ 0.33060503]\n",
      "Loss [ 2.36780334]\n",
      "Loss [ 2.42730927]\n",
      "Loss [ 1.18498182]\n",
      "Loss [ 2.84865737]\n",
      "Loss [ 0.00092958]\n",
      "Loss [ 2.93753028]\n",
      "Loss [ 0.54700136]\n",
      "Loss [ 0.04498966]\n",
      "Loss [ 0.86139899]\n",
      "Loss [ 0.42659196]\n",
      "Loss [ 0.15547812]\n",
      "Loss [ 0.87274265]\n",
      "Loss [ 0.49202991]\n",
      "Loss [ 1.5993309]\n",
      "Loss [ 0.44460636]\n",
      "Loss [ 0.05165171]\n",
      "Loss [ 3.90794539]\n",
      "Loss [ 3.76253271]\n",
      "Loss [ 0.00876387]\n",
      "Loss [ 0.67963058]\n",
      "Loss [ 0.23244938]\n",
      "Loss [ 3.62066817]\n",
      "Loss [ 0.72360188]\n",
      "Loss [ 2.06664491]\n",
      "Loss [ 0.01594828]\n",
      "Loss [ 0.15647924]\n",
      "Loss [ 0.0492121]\n",
      "Loss [ 0.09551284]\n",
      "Loss [ 0.00489422]\n",
      "Loss [ 0.11933664]\n",
      "Loss [ 0.71467352]\n",
      "Loss [ 0.08831209]\n",
      "Loss [ 0.45770946]\n",
      "Loss [ 0.00451208]\n",
      "Loss [ 0.65844494]\n",
      "Loss [ 0.44617462]\n",
      "Loss [ 0.32031819]\n"
     ]
    }
   ],
   "source": [
    "for i in range(100):\n",
    "    rand_index = np.random.choice(100)\n",
    "    rand_x = [x_vals[rand_index]]\n",
    "    rand_y = [y_vals[rand_index]]\n",
    "    sess.run(train_step, feed_dict={x_data:rand_x, y_target:rand_y})\n",
    "    print('Loss ' + str(sess.run(loss, feed_dict={x_data: rand_x, y_target: rand_y})))"
   ]
  },
  {
   "cell_type": "code",
   "execution_count": null,
   "metadata": {
    "collapsed": true
   },
   "outputs": [],
   "source": []
  }
 ],
 "metadata": {
  "kernelspec": {
   "display_name": "Python 3",
   "language": "python",
   "name": "python3"
  },
  "language_info": {
   "codemirror_mode": {
    "name": "ipython",
    "version": 3
   },
   "file_extension": ".py",
   "mimetype": "text/x-python",
   "name": "python",
   "nbconvert_exporter": "python",
   "pygments_lexer": "ipython3",
   "version": "3.5.0"
  }
 },
 "nbformat": 4,
 "nbformat_minor": 2
}
