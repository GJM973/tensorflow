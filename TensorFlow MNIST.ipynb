{
 "cells": [
  {
   "cell_type": "code",
   "execution_count": 1,
   "metadata": {},
   "outputs": [
    {
     "name": "stdout",
     "output_type": "stream",
     "text": [
      "Extracting MNIST_data/train-images-idx3-ubyte.gz\n",
      "Extracting MNIST_data/train-labels-idx1-ubyte.gz\n",
      "Extracting MNIST_data/t10k-images-idx3-ubyte.gz\n",
      "Extracting MNIST_data/t10k-labels-idx1-ubyte.gz\n"
     ]
    }
   ],
   "source": [
    "import tensorflow as tf\n",
    "from tensorflow.contrib import rnn\n",
    "import numpy as np\n",
    "\n",
    "# Import MINST data\n",
    "from tensorflow.examples.tutorials.mnist import input_data\n",
    "mnist = input_data.read_data_sets(\"MNIST_data/\", one_hot=True)"
   ]
  },
  {
   "cell_type": "code",
   "execution_count": 2,
   "metadata": {
    "collapsed": true
   },
   "outputs": [],
   "source": [
    "# Parameters\n",
    "learning_rate = 0.001\n",
    "training_iters = 100000\n",
    "batch_size = 128\n",
    "display_step = 10\n",
    "\n",
    "# Network Parameters\n",
    "n_input = 28 # MNIST data input (img shape: 28*28)\n",
    "n_steps = 28 # timesteps\n",
    "n_hidden = 128 # hidden layer num of features\n",
    "n_classes = 10 # MNIST total classes (0-9 digits)\n",
    "\n",
    "# tf Graph input\n",
    "x = tf.placeholder(\"float\", [None, n_steps, n_input])\n",
    "y = tf.placeholder(\"float\", [None, n_classes])\n",
    "\n",
    "# Define weights\n",
    "weights = {\n",
    "    'out': tf.Variable(tf.random_normal([n_hidden, n_classes]))\n",
    "}\n",
    "biases = {\n",
    "    'out': tf.Variable(tf.random_normal([n_classes]))\n",
    "}"
   ]
  },
  {
   "cell_type": "code",
   "execution_count": 3,
   "metadata": {
    "collapsed": true
   },
   "outputs": [],
   "source": [
    "def RNN(x, weights, biases):\n",
    "\n",
    "    # Prepare data shape to match `rnn` function requirements\n",
    "    # Current data input shape: (batch_size, n_steps, n_input)\n",
    "    # Required shape: 'n_steps' tensors list of shape (batch_size, n_input)\n",
    "    \n",
    "    # Unstack to get a list of 'n_steps' tensors of shape (batch_size, n_input)\n",
    "    x = tf.unstack(x, n_steps, 1)\n",
    "\n",
    "    # Define a lstm cell with tensorflow\n",
    "    lstm_cell = rnn.BasicLSTMCell(n_hidden, forget_bias=1.0)\n",
    "\n",
    "    # Get lstm cell output\n",
    "    outputs, states = rnn.static_rnn(lstm_cell, x, dtype=tf.float32)\n",
    "\n",
    "    # Linear activation, using rnn inner loop last output\n",
    "    return tf.matmul(outputs[-1], weights['out']) + biases['out']\n",
    "\n",
    "pred = RNN(x, weights, biases)\n",
    "\n",
    "# Define loss and optimizer\n",
    "cost = tf.reduce_mean(tf.nn.softmax_cross_entropy_with_logits(logits=pred, labels=y))\n",
    "optimizer = tf.train.AdamOptimizer(learning_rate=learning_rate).minimize(cost)\n",
    "\n",
    "# Evaluate model\n",
    "correct_pred = tf.equal(tf.argmax(pred,1), tf.argmax(y,1))\n",
    "accuracy = tf.reduce_mean(tf.cast(correct_pred, tf.float32))\n",
    "\n",
    "# Initializing the variables\n",
    "init = tf.global_variables_initializer()"
   ]
  },
  {
   "cell_type": "code",
   "execution_count": 6,
   "metadata": {},
   "outputs": [
    {
     "name": "stdout",
     "output_type": "stream",
     "text": [
      "Iter 1280, Minibatch Loss= 1.792637, Training Accuracy= 0.31250\n",
      "Iter 2560, Minibatch Loss= 1.603052, Training Accuracy= 0.47656\n",
      "Iter 3840, Minibatch Loss= 1.264459, Training Accuracy= 0.60156\n",
      "Iter 5120, Minibatch Loss= 1.018581, Training Accuracy= 0.69531\n",
      "Iter 6400, Minibatch Loss= 0.872231, Training Accuracy= 0.70312\n",
      "Iter 7680, Minibatch Loss= 1.051134, Training Accuracy= 0.60938\n",
      "Iter 8960, Minibatch Loss= 0.736011, Training Accuracy= 0.75000\n",
      "Iter 10240, Minibatch Loss= 0.675116, Training Accuracy= 0.77344\n",
      "Iter 11520, Minibatch Loss= 0.413482, Training Accuracy= 0.86719\n",
      "Iter 12800, Minibatch Loss= 0.700885, Training Accuracy= 0.73438\n",
      "Iter 14080, Minibatch Loss= 0.504988, Training Accuracy= 0.84375\n",
      "Iter 15360, Minibatch Loss= 0.346785, Training Accuracy= 0.88281\n",
      "Iter 16640, Minibatch Loss= 0.527396, Training Accuracy= 0.89062\n",
      "Iter 17920, Minibatch Loss= 0.275803, Training Accuracy= 0.92188\n",
      "Iter 19200, Minibatch Loss= 0.285315, Training Accuracy= 0.91406\n",
      "Iter 20480, Minibatch Loss= 0.179631, Training Accuracy= 0.93750\n",
      "Iter 21760, Minibatch Loss= 0.437639, Training Accuracy= 0.83594\n",
      "Iter 23040, Minibatch Loss= 0.195680, Training Accuracy= 0.93750\n",
      "Iter 24320, Minibatch Loss= 0.385094, Training Accuracy= 0.86719\n",
      "Iter 25600, Minibatch Loss= 0.433163, Training Accuracy= 0.85938\n",
      "Iter 26880, Minibatch Loss= 0.245081, Training Accuracy= 0.92188\n",
      "Iter 28160, Minibatch Loss= 0.400396, Training Accuracy= 0.82812\n",
      "Iter 29440, Minibatch Loss= 0.341831, Training Accuracy= 0.87500\n",
      "Iter 30720, Minibatch Loss= 0.306539, Training Accuracy= 0.87500\n",
      "Iter 32000, Minibatch Loss= 0.192750, Training Accuracy= 0.93750\n",
      "Iter 33280, Minibatch Loss= 0.265473, Training Accuracy= 0.92969\n",
      "Iter 34560, Minibatch Loss= 0.245772, Training Accuracy= 0.92969\n",
      "Iter 35840, Minibatch Loss= 0.262728, Training Accuracy= 0.90625\n",
      "Iter 37120, Minibatch Loss= 0.333557, Training Accuracy= 0.89062\n",
      "Iter 38400, Minibatch Loss= 0.163351, Training Accuracy= 0.94531\n",
      "Iter 39680, Minibatch Loss= 0.169278, Training Accuracy= 0.93750\n",
      "Iter 40960, Minibatch Loss= 0.325830, Training Accuracy= 0.89844\n",
      "Iter 42240, Minibatch Loss= 0.184176, Training Accuracy= 0.95312\n",
      "Iter 43520, Minibatch Loss= 0.168626, Training Accuracy= 0.92969\n",
      "Iter 44800, Minibatch Loss= 0.186706, Training Accuracy= 0.92969\n",
      "Iter 46080, Minibatch Loss= 0.124868, Training Accuracy= 0.95312\n",
      "Iter 47360, Minibatch Loss= 0.282601, Training Accuracy= 0.88281\n",
      "Iter 48640, Minibatch Loss= 0.248919, Training Accuracy= 0.93750\n",
      "Iter 49920, Minibatch Loss= 0.273753, Training Accuracy= 0.89844\n",
      "Iter 51200, Minibatch Loss= 0.135950, Training Accuracy= 0.94531\n",
      "Iter 52480, Minibatch Loss= 0.188972, Training Accuracy= 0.93750\n",
      "Iter 53760, Minibatch Loss= 0.057849, Training Accuracy= 0.97656\n",
      "Iter 55040, Minibatch Loss= 0.140532, Training Accuracy= 0.94531\n",
      "Iter 56320, Minibatch Loss= 0.195674, Training Accuracy= 0.95312\n",
      "Iter 57600, Minibatch Loss= 0.068809, Training Accuracy= 0.96094\n",
      "Iter 58880, Minibatch Loss= 0.089618, Training Accuracy= 0.97656\n",
      "Iter 60160, Minibatch Loss= 0.076478, Training Accuracy= 0.98438\n",
      "Iter 61440, Minibatch Loss= 0.144317, Training Accuracy= 0.96094\n",
      "Iter 62720, Minibatch Loss= 0.191651, Training Accuracy= 0.92188\n",
      "Iter 64000, Minibatch Loss= 0.072124, Training Accuracy= 0.96875\n",
      "Iter 65280, Minibatch Loss= 0.193700, Training Accuracy= 0.93750\n",
      "Iter 66560, Minibatch Loss= 0.196303, Training Accuracy= 0.93750\n",
      "Iter 67840, Minibatch Loss= 0.142844, Training Accuracy= 0.96094\n",
      "Iter 69120, Minibatch Loss= 0.201155, Training Accuracy= 0.95312\n",
      "Iter 70400, Minibatch Loss= 0.120252, Training Accuracy= 0.98438\n",
      "Iter 71680, Minibatch Loss= 0.221000, Training Accuracy= 0.93750\n",
      "Iter 72960, Minibatch Loss= 0.156515, Training Accuracy= 0.94531\n",
      "Iter 74240, Minibatch Loss= 0.071747, Training Accuracy= 0.98438\n",
      "Iter 75520, Minibatch Loss= 0.201820, Training Accuracy= 0.92188\n",
      "Iter 76800, Minibatch Loss= 0.104480, Training Accuracy= 0.98438\n",
      "Iter 78080, Minibatch Loss= 0.232565, Training Accuracy= 0.91406\n",
      "Iter 79360, Minibatch Loss= 0.083662, Training Accuracy= 0.96875\n",
      "Iter 80640, Minibatch Loss= 0.064142, Training Accuracy= 0.97656\n",
      "Iter 81920, Minibatch Loss= 0.118866, Training Accuracy= 0.96094\n",
      "Iter 83200, Minibatch Loss= 0.048503, Training Accuracy= 0.99219\n",
      "Iter 84480, Minibatch Loss= 0.119734, Training Accuracy= 0.96094\n",
      "Iter 85760, Minibatch Loss= 0.130093, Training Accuracy= 0.96875\n",
      "Iter 87040, Minibatch Loss= 0.100711, Training Accuracy= 0.96875\n",
      "Iter 88320, Minibatch Loss= 0.130474, Training Accuracy= 0.96875\n",
      "Iter 89600, Minibatch Loss= 0.074456, Training Accuracy= 0.98438\n",
      "Iter 90880, Minibatch Loss= 0.059415, Training Accuracy= 0.97656\n",
      "Iter 92160, Minibatch Loss= 0.234080, Training Accuracy= 0.94531\n",
      "Iter 93440, Minibatch Loss= 0.076488, Training Accuracy= 0.96875\n",
      "Iter 94720, Minibatch Loss= 0.120964, Training Accuracy= 0.95312\n",
      "Iter 96000, Minibatch Loss= 0.132979, Training Accuracy= 0.96875\n",
      "Iter 97280, Minibatch Loss= 0.135159, Training Accuracy= 0.95312\n",
      "Iter 98560, Minibatch Loss= 0.112109, Training Accuracy= 0.95312\n",
      "Iter 99840, Minibatch Loss= 0.100730, Training Accuracy= 0.97656\n",
      "Optimization Finished!\n",
      "Testing Accuracy: 0.984375\n"
     ]
    }
   ],
   "source": [
    "# Launch the graph\n",
    "with tf.Session() as sess:\n",
    "    sess.run(init)\n",
    "    step = 1\n",
    "    # Keep training until reach max iterations\n",
    "    while step * batch_size < training_iters:\n",
    "        batch_x, batch_y = mnist.train.next_batch(batch_size)\n",
    "        # Reshape data to get 28 seq of 28 elements\n",
    "        batch_x = batch_x.reshape((batch_size, n_steps, n_input))\n",
    "        # Run optimization op (backprop)\n",
    "        sess.run(optimizer, feed_dict={x: batch_x, y: batch_y})\n",
    "        if step % display_step == 0:\n",
    "            # Calculate batch accuracy\n",
    "            acc = sess.run(accuracy, feed_dict={x: batch_x, y: batch_y})\n",
    "            # Calculate batch loss\n",
    "            loss = sess.run(cost, feed_dict={x: batch_x, y: batch_y})\n",
    "            print (\"Iter \" + str(step*batch_size) + \", Minibatch Loss= \" + \\\n",
    "                  \"{:.6f}\".format(loss) + \", Training Accuracy= \" + \\\n",
    "                  \"{:.5f}\".format(acc))\n",
    "        step += 1\n",
    "    print (\"Optimization Finished!\")\n",
    "\n",
    "    # Calculate accuracy for 128 mnist test images\n",
    "    test_len = 128\n",
    "    test_data = mnist.test.images[:test_len].reshape((-1, n_steps, n_input))\n",
    "    test_label = mnist.test.labels[:test_len]\n",
    "    print (\"Testing Accuracy:\", \\\n",
    "        sess.run(accuracy, feed_dict={x: test_data, y: test_label}))"
   ]
  },
  {
   "cell_type": "code",
   "execution_count": 10,
   "metadata": {},
   "outputs": [
    {
     "data": {
      "text/plain": [
       "(55000, 784)"
      ]
     },
     "execution_count": 10,
     "metadata": {},
     "output_type": "execute_result"
    }
   ],
   "source": [
    "mnist.train.images.shape"
   ]
  },
  {
   "cell_type": "code",
   "execution_count": null,
   "metadata": {
    "collapsed": true
   },
   "outputs": [],
   "source": []
  }
 ],
 "metadata": {
  "kernelspec": {
   "display_name": "Python 3",
   "language": "python",
   "name": "python3"
  },
  "language_info": {
   "codemirror_mode": {
    "name": "ipython",
    "version": 3
   },
   "file_extension": ".py",
   "mimetype": "text/x-python",
   "name": "python",
   "nbconvert_exporter": "python",
   "pygments_lexer": "ipython3",
   "version": "3.5.0"
  }
 },
 "nbformat": 4,
 "nbformat_minor": 2
}
