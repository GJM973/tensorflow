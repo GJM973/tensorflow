{
 "cells": [
  {
   "cell_type": "code",
   "execution_count": 2,
   "metadata": {
    "collapsed": true
   },
   "outputs": [],
   "source": [
    "import matplotlib.pyplot as plt\n",
    "%matplotlib inline"
   ]
  },
  {
   "cell_type": "code",
   "execution_count": 3,
   "metadata": {
    "collapsed": true
   },
   "outputs": [],
   "source": [
    "import numpy as np\n",
    "import tensorflow as tf\n",
    "sess = tf.Session()\n",
    "\n",
    "x_vals = np.linspace(0, 10, 100)\n",
    "y_vals = x_vals + np.random.normal(0, 1, 100)"
   ]
  },
  {
   "cell_type": "code",
   "execution_count": null,
   "metadata": {},
   "outputs": [],
   "source": []
  },
  {
   "cell_type": "code",
   "execution_count": null,
   "metadata": {},
   "outputs": [],
   "source": []
  },
  {
   "cell_type": "code",
   "execution_count": 10,
   "metadata": {},
   "outputs": [],
   "source": [
    "#Convert 1D to 2D\n",
    "x_vals_column = x_vals[:,np.newaxis]"
   ]
  },
  {
   "cell_type": "code",
   "execution_count": 14,
   "metadata": {},
   "outputs": [
    {
     "data": {
      "text/plain": [
       "2"
      ]
     },
     "execution_count": 14,
     "metadata": {},
     "output_type": "execute_result"
    }
   ],
   "source": [
    "x_vals_column.ndim"
   ]
  },
  {
   "cell_type": "code",
   "execution_count": 13,
   "metadata": {},
   "outputs": [
    {
     "data": {
      "text/plain": [
       "1"
      ]
     },
     "execution_count": 13,
     "metadata": {},
     "output_type": "execute_result"
    }
   ],
   "source": [
    "x_vals.ndim"
   ]
  },
  {
   "cell_type": "code",
   "execution_count": 17,
   "metadata": {
    "collapsed": true
   },
   "outputs": [],
   "source": [
    "ones_column = np.repeat(1, 100)[:,np.newaxis]"
   ]
  },
  {
   "cell_type": "code",
   "execution_count": null,
   "metadata": {},
   "outputs": [],
   "source": []
  },
  {
   "cell_type": "code",
   "execution_count": 25,
   "metadata": {},
   "outputs": [],
   "source": [
    "A = np.hstack([x_vals_column, ones_column])"
   ]
  },
  {
   "cell_type": "code",
   "execution_count": 27,
   "metadata": {},
   "outputs": [
    {
     "data": {
      "text/plain": [
       "(100, 2)"
      ]
     },
     "execution_count": 27,
     "metadata": {},
     "output_type": "execute_result"
    }
   ],
   "source": [
    "A.shape"
   ]
  },
  {
   "cell_type": "code",
   "execution_count": 30,
   "metadata": {},
   "outputs": [],
   "source": [
    "b = y_vals[:,np.newaxis]"
   ]
  },
  {
   "cell_type": "code",
   "execution_count": 31,
   "metadata": {
    "collapsed": true
   },
   "outputs": [],
   "source": [
    "A_tensor = tf.constant(A)\n",
    "b_tensor = tf.constant(b)"
   ]
  },
  {
   "cell_type": "code",
   "execution_count": 32,
   "metadata": {
    "collapsed": true
   },
   "outputs": [],
   "source": [
    "tA_A = tf.matmul(tf.transpose(A_tensor), A_tensor)"
   ]
  },
  {
   "cell_type": "code",
   "execution_count": 34,
   "metadata": {},
   "outputs": [],
   "source": [
    "sess = tf.Session()"
   ]
  },
  {
   "cell_type": "code",
   "execution_count": 35,
   "metadata": {},
   "outputs": [
    {
     "name": "stdout",
     "output_type": "stream",
     "text": [
      "[[ 3350.16835017   500.        ]\n",
      " [  500.           100.        ]]\n"
     ]
    }
   ],
   "source": [
    "print(sess.run(tA_A))"
   ]
  },
  {
   "cell_type": "code",
   "execution_count": 36,
   "metadata": {
    "collapsed": true
   },
   "outputs": [],
   "source": [
    "tA_A_inv = tf.matrix_inverse(tA_A)"
   ]
  },
  {
   "cell_type": "code",
   "execution_count": 37,
   "metadata": {},
   "outputs": [
    {
     "name": "stdout",
     "output_type": "stream",
     "text": [
      "[[ 0.00117624 -0.00588119]\n",
      " [-0.00588119  0.03940594]]\n"
     ]
    }
   ],
   "source": [
    "print(sess.run(tA_A_inv))"
   ]
  },
  {
   "cell_type": "code",
   "execution_count": 38,
   "metadata": {
    "collapsed": true
   },
   "outputs": [],
   "source": [
    "product = tf.matmul(tA_A_inv,tf.transpose(A_tensor))\n",
    "solution = tf.matmul(product, b_tensor)"
   ]
  },
  {
   "cell_type": "code",
   "execution_count": 39,
   "metadata": {
    "collapsed": true
   },
   "outputs": [],
   "source": [
    "solution_eval = sess.run(solution)"
   ]
  },
  {
   "cell_type": "code",
   "execution_count": 45,
   "metadata": {},
   "outputs": [
    {
     "data": {
      "text/plain": [
       "array([[ 1.03561411],\n",
       "       [ 0.03014179]])"
      ]
     },
     "execution_count": 45,
     "metadata": {},
     "output_type": "execute_result"
    }
   ],
   "source": [
    "solution_eval"
   ]
  },
  {
   "cell_type": "code",
   "execution_count": 41,
   "metadata": {},
   "outputs": [
    {
     "name": "stdout",
     "output_type": "stream",
     "text": [
      "slope: 1.03561410644\n",
      "y_intercept: 0.0301417892892\n"
     ]
    }
   ],
   "source": [
    "slope = solution_eval[0][0]\n",
    "y_intercept = solution_eval[1][0]\n",
    "print('slope: ' + str(slope))\n",
    "print('y_intercept: ' + str(y_intercept))"
   ]
  },
  {
   "cell_type": "code",
   "execution_count": 44,
   "metadata": {},
   "outputs": [
    {
     "data": {
      "image/png": "[encoded data removed]",
      "text/plain": [
       "<matplotlib.figure.Figure at 0x1d9e1acdcf8>"
      ]
     },
     "metadata": {},
     "output_type": "display_data"
    }
   ],
   "source": [
    "best_fit = []\n",
    "for i in x_vals:\n",
    "    best_fit.append(slope*i+y_intercept)\n",
    "plt.plot(x_vals, y_vals, 'o', label='Data')\n",
    "plt.plot(x_vals, best_fit, 'r-', label='Best fit line', linewidth=3)\n",
    "plt.legend(loc='upper left')\n",
    "plt.show()"
   ]
  },
  {
   "cell_type": "code",
   "execution_count": 46,
   "metadata": {},
   "outputs": [
    {
     "data": {
      "text/plain": [
       "[0.030141789289219983,\n",
       " 0.13474927478829346,\n",
       " 0.23935676028736691,\n",
       " 0.34396424578644036,\n",
       " 0.44857173128551386,\n",
       " 0.55317921678458726,\n",
       " 0.65778670228366076,\n",
       " 0.76239418778273416,\n",
       " 0.86700167328180766,\n",
       " 0.97160915878088105,\n",
       " 1.0762166442799546,\n",
       " 1.1808241297790281,\n",
       " 1.2854316152781016,\n",
       " 1.3900391007771751,\n",
       " 1.4946465862762484,\n",
       " 1.5992540717753219,\n",
       " 1.7038615572743954,\n",
       " 1.8084690427734689,\n",
       " 1.9130765282725422,\n",
       " 2.0176840137716159,\n",
       " 2.1222914992706894,\n",
       " 2.2268989847697629,\n",
       " 2.3315064702688364,\n",
       " 2.4361139557679099,\n",
       " 2.5407214412669834,\n",
       " 2.6453289267660565,\n",
       " 2.7499364122651304,\n",
       " 2.8545438977642035,\n",
       " 2.959151383263277,\n",
       " 3.0637588687623505,\n",
       " 3.168366354261424,\n",
       " 3.2729738397604975,\n",
       " 3.377581325259571,\n",
       " 3.4821888107586445,\n",
       " 3.586796296257718,\n",
       " 3.6914037817567915,\n",
       " 3.7960112672558646,\n",
       " 3.9006187527549385,\n",
       " 4.0052262382540116,\n",
       " 4.1098337237530851,\n",
       " 4.2144412092521586,\n",
       " 4.3190486947512321,\n",
       " 4.4236561802503056,\n",
       " 4.5282636657493791,\n",
       " 4.6328711512484526,\n",
       " 4.7374786367475252,\n",
       " 4.8420861222465996,\n",
       " 4.9466936077456731,\n",
       " 5.0513010932447466,\n",
       " 5.1559085787438201,\n",
       " 5.2605160642428928,\n",
       " 5.3651235497419671,\n",
       " 5.4697310352410407,\n",
       " 5.5743385207401142,\n",
       " 5.6789460062391868,\n",
       " 5.7835534917382603,\n",
       " 5.8881609772373338,\n",
       " 5.9927684627364082,\n",
       " 6.0973759482354808,\n",
       " 6.2019834337345543,\n",
       " 6.3065909192336278,\n",
       " 6.4111984047327013,\n",
       " 6.5158058902317748,\n",
       " 6.6204133757308483,\n",
       " 6.7250208612299218,\n",
       " 6.8296283467289953,\n",
       " 6.9342358322280688,\n",
       " 7.0388433177271423,\n",
       " 7.1434508032262158,\n",
       " 7.2480582887252893,\n",
       " 7.3526657742243628,\n",
       " 7.4572732597234355,\n",
       " 7.561880745222509,\n",
       " 7.6664882307215834,\n",
       " 7.7710957162206569,\n",
       " 7.8757032017197295,\n",
       " 7.980310687218803,\n",
       " 8.0849181727178756,\n",
       " 8.1895256582169491,\n",
       " 8.2941331437160226,\n",
       " 8.3987406292150961,\n",
       " 8.5033481147141696,\n",
       " 8.6079556002132431,\n",
       " 8.7125630857123166,\n",
       " 8.8171705712113901,\n",
       " 8.9217780567104636,\n",
       " 9.0263855422095371,\n",
       " 9.1309930277086107,\n",
       " 9.2356005132076842,\n",
       " 9.3402079987067577,\n",
       " 9.4448154842058294,\n",
       " 9.5494229697049047,\n",
       " 9.6540304552039782,\n",
       " 9.7586379407030517,\n",
       " 9.8632454262021252,\n",
       " 9.9678529117011969,\n",
       " 10.072460397200272,\n",
       " 10.177067882699346,\n",
       " 10.281675368198419,\n",
       " 10.386282853697493]"
      ]
     },
     "execution_count": 46,
     "metadata": {},
     "output_type": "execute_result"
    }
   ],
   "source": [
    "best_fit"
   ]
  },
  {
   "cell_type": "markdown",
   "metadata": {},
   "source": [
    "### Linear Regression in the TensorFlow Way"
   ]
  },
  {
   "cell_type": "code",
   "execution_count": 47,
   "metadata": {
    "collapsed": true
   },
   "outputs": [],
   "source": [
    "from sklearn import datasets\n",
    "from tensorflow.python.framework import ops\n",
    "\n",
    "#Re-init new graph\n",
    "ops.reset_default_graph()\n",
    "sess = tf.Session()\n",
    "iris = datasets.load_iris()"
   ]
  },
  {
   "cell_type": "code",
   "execution_count": 51,
   "metadata": {
    "collapsed": true
   },
   "outputs": [],
   "source": [
    "x_vals = np.array([x[3] for x in iris.data])\n",
    "y_vals = np.array([y[0] for y in iris.data])"
   ]
  },
  {
   "cell_type": "code",
   "execution_count": 53,
   "metadata": {},
   "outputs": [
    {
     "data": {
      "text/plain": [
       "array([0, 0, 0, 0, 0, 0, 0, 0, 0, 0, 0, 0, 0, 0, 0, 0, 0, 0, 0, 0, 0, 0, 0,\n",
       "       0, 0, 0, 0, 0, 0, 0, 0, 0, 0, 0, 0, 0, 0, 0, 0, 0, 0, 0, 0, 0, 0, 0,\n",
       "       0, 0, 0, 0, 1, 1, 1, 1, 1, 1, 1, 1, 1, 1, 1, 1, 1, 1, 1, 1, 1, 1, 1,\n",
       "       1, 1, 1, 1, 1, 1, 1, 1, 1, 1, 1, 1, 1, 1, 1, 1, 1, 1, 1, 1, 1, 1, 1,\n",
       "       1, 1, 1, 1, 1, 1, 1, 1, 2, 2, 2, 2, 2, 2, 2, 2, 2, 2, 2, 2, 2, 2, 2,\n",
       "       2, 2, 2, 2, 2, 2, 2, 2, 2, 2, 2, 2, 2, 2, 2, 2, 2, 2, 2, 2, 2, 2, 2,\n",
       "       2, 2, 2, 2, 2, 2, 2, 2, 2, 2, 2, 2])"
      ]
     },
     "execution_count": 53,
     "metadata": {},
     "output_type": "execute_result"
    }
   ],
   "source": [
    "iris.target"
   ]
  },
  {
   "cell_type": "code",
   "execution_count": 56,
   "metadata": {},
   "outputs": [],
   "source": [
    "learning_rate = 0.05\n",
    "batch_size = 25"
   ]
  },
  {
   "cell_type": "code",
   "execution_count": 57,
   "metadata": {
    "collapsed": true
   },
   "outputs": [],
   "source": [
    "x_data = tf.placeholder(shape=[None, 1], dtype=tf.float32)\n",
    "y_target = tf.placeholder(shape=[None, 1], dtype=tf.float32)"
   ]
  },
  {
   "cell_type": "code",
   "execution_count": 58,
   "metadata": {
    "collapsed": true
   },
   "outputs": [],
   "source": [
    "A = tf.Variable(tf.random_normal(shape=[1,1]))\n",
    "b = tf.Variable(tf.random_normal(shape=[1,1]))"
   ]
  },
  {
   "cell_type": "code",
   "execution_count": 59,
   "metadata": {
    "collapsed": true
   },
   "outputs": [],
   "source": [
    "model_output = tf.add(tf.matmul(x_data, A), b)"
   ]
  },
  {
   "cell_type": "code",
   "execution_count": 60,
   "metadata": {
    "collapsed": true
   },
   "outputs": [],
   "source": [
    "loss = tf.reduce_mean(tf.square(y_target - model_output))"
   ]
  },
  {
   "cell_type": "code",
   "execution_count": 61,
   "metadata": {
    "collapsed": true
   },
   "outputs": [],
   "source": [
    "init = tf.global_variables_initializer()\n",
    "sess.run(init)"
   ]
  },
  {
   "cell_type": "code",
   "execution_count": 62,
   "metadata": {
    "collapsed": true
   },
   "outputs": [],
   "source": [
    "my_opt = tf.train.GradientDescentOptimizer(learning_rate)\n",
    "train_step = my_opt.minimize(loss)"
   ]
  },
  {
   "cell_type": "code",
   "execution_count": 63,
   "metadata": {},
   "outputs": [
    {
     "name": "stdout",
     "output_type": "stream",
     "text": [
      "Step #1 A = [[ 1.32532144]] b = [[-2.19702816]]\n",
      "Loss = 43.2042\n",
      "Step #2 A = [[ 2.21996093]] b = [[-1.57014275]]\n",
      "Loss = 20.1767\n",
      "Step #3 A = [[ 2.7416625]] b = [[-1.1085633]]\n",
      "Loss = 14.637\n",
      "Step #4 A = [[ 3.14331079]] b = [[-0.77118969]]\n",
      "Loss = 8.54148\n",
      "Step #5 A = [[ 3.38938665]] b = [[-0.48098269]]\n",
      "Loss = 8.29293\n",
      "Step #6 A = [[ 3.54085636]] b = [[-0.23431876]]\n",
      "Loss = 8.05245\n",
      "Step #7 A = [[ 3.62814474]] b = [[-0.05039357]]\n",
      "Loss = 6.12767\n",
      "Step #8 A = [[ 3.63563585]] b = [[ 0.05866937]]\n",
      "Loss = 5.08892\n",
      "Step #9 A = [[ 3.66413403]] b = [[ 0.25592712]]\n",
      "Loss = 7.7726\n",
      "Step #10 A = [[ 3.62150049]] b = [[ 0.33920306]]\n",
      "Loss = 4.94016\n",
      "Step #11 A = [[ 3.60434508]] b = [[ 0.47368592]]\n",
      "Loss = 6.53916\n",
      "Step #12 A = [[ 3.58317709]] b = [[ 0.59112287]]\n",
      "Loss = 5.62065\n",
      "Step #13 A = [[ 3.60867453]] b = [[ 0.73149401]]\n",
      "Loss = 4.88675\n",
      "Step #14 A = [[ 3.56334782]] b = [[ 0.80189508]]\n",
      "Loss = 3.78618\n",
      "Step #15 A = [[ 3.51755309]] b = [[ 0.89463866]]\n",
      "Loss = 4.69005\n",
      "Step #16 A = [[ 3.44465351]] b = [[ 0.96746844]]\n",
      "Loss = 4.58892\n",
      "Step #17 A = [[ 3.36890316]] b = [[ 1.01011741]]\n",
      "Loss = 3.42831\n",
      "Step #18 A = [[ 3.3153379]] b = [[ 1.0516727]]\n",
      "Loss = 3.20974\n",
      "Step #19 A = [[ 3.26013279]] b = [[ 1.11832964]]\n",
      "Loss = 4.02807\n",
      "Step #20 A = [[ 3.18774676]] b = [[ 1.1748389]]\n",
      "Loss = 4.17248\n",
      "Step #21 A = [[ 3.1385839]] b = [[ 1.26135111]]\n",
      "Loss = 4.36487\n",
      "Step #22 A = [[ 3.13104296]] b = [[ 1.35232079]]\n",
      "Loss = 3.56849\n",
      "Step #23 A = [[ 3.05876732]] b = [[ 1.40814424]]\n",
      "Loss = 3.59685\n",
      "Step #24 A = [[ 2.98208809]] b = [[ 1.43296099]]\n",
      "Loss = 2.4528\n",
      "Step #25 A = [[ 2.99547052]] b = [[ 1.53407097]]\n",
      "Loss = 3.03373\n",
      "Step #26 A = [[ 2.90076137]] b = [[ 1.52219582]]\n",
      "Loss = 1.62281\n",
      "Step #27 A = [[ 2.9607625]] b = [[ 1.65833974]]\n",
      "Loss = 2.92215\n",
      "Step #28 A = [[ 2.97455716]] b = [[ 1.77096272]]\n",
      "Loss = 3.15142\n",
      "Step #29 A = [[ 2.94749594]] b = [[ 1.83995676]]\n",
      "Loss = 2.7082\n",
      "Step #30 A = [[ 2.91156387]] b = [[ 1.91567349]]\n",
      "Loss = 2.97946\n",
      "Step #31 A = [[ 2.83526278]] b = [[ 1.94086266]]\n",
      "Loss = 2.32974\n",
      "Step #32 A = [[ 2.78975105]] b = [[ 1.97646511]]\n",
      "Loss = 1.96269\n",
      "Step #33 A = [[ 2.77010012]] b = [[ 2.05318689]]\n",
      "Loss = 2.69121\n",
      "Step #34 A = [[ 2.68590069]] b = [[ 2.07439446]]\n",
      "Loss = 2.1003\n",
      "Step #35 A = [[ 2.65833354]] b = [[ 2.15111876]]\n",
      "Loss = 2.5016\n",
      "Step #36 A = [[ 2.60973144]] b = [[ 2.19649029]]\n",
      "Loss = 2.12064\n",
      "Step #37 A = [[ 2.55586696]] b = [[ 2.24069786]]\n",
      "Loss = 2.18692\n",
      "Step #38 A = [[ 2.50141215]] b = [[ 2.28281116]]\n",
      "Loss = 2.1191\n",
      "Step #39 A = [[ 2.47232533]] b = [[ 2.33034587]]\n",
      "Loss = 1.69383\n",
      "Step #40 A = [[ 2.47442174]] b = [[ 2.40071058]]\n",
      "Loss = 1.79016\n",
      "Step #41 A = [[ 2.44840097]] b = [[ 2.45727348]]\n",
      "Loss = 1.80907\n",
      "Step #42 A = [[ 2.42037845]] b = [[ 2.49375081]]\n",
      "Loss = 1.44278\n",
      "Step #43 A = [[ 2.37241292]] b = [[ 2.54498005]]\n",
      "Loss = 2.03867\n",
      "Step #44 A = [[ 2.32146549]] b = [[ 2.57174563]]\n",
      "Loss = 1.43122\n",
      "Step #45 A = [[ 2.29942393]] b = [[ 2.6226666]]\n",
      "Loss = 1.51234\n",
      "Step #46 A = [[ 2.27981853]] b = [[ 2.67734814]]\n",
      "Loss = 1.53421\n",
      "Step #47 A = [[ 2.28400683]] b = [[ 2.74398565]]\n",
      "Loss = 1.32002\n",
      "Step #48 A = [[ 2.23504019]] b = [[ 2.76095271]]\n",
      "Loss = 1.22811\n",
      "Step #49 A = [[ 2.18431973]] b = [[ 2.76637578]]\n",
      "Loss = 0.849798\n",
      "Step #50 A = [[ 2.17539167]] b = [[ 2.81424093]]\n",
      "Loss = 1.32303\n",
      "Step #51 A = [[ 2.14562297]] b = [[ 2.85071015]]\n",
      "Loss = 1.21268\n",
      "Step #52 A = [[ 2.13885498]] b = [[ 2.90108871]]\n",
      "Loss = 1.23448\n",
      "Step #53 A = [[ 2.06746578]] b = [[ 2.91691804]]\n",
      "Loss = 1.29673\n",
      "Step #54 A = [[ 2.07386827]] b = [[ 2.99741459]]\n",
      "Loss = 1.58131\n",
      "Step #55 A = [[ 2.03895521]] b = [[ 3.04409528]]\n",
      "Loss = 1.49899\n",
      "Step #56 A = [[ 2.02668071]] b = [[ 3.06447625]]\n",
      "Loss = 0.720017\n",
      "Step #57 A = [[ 2.00844932]] b = [[ 3.11443257]]\n",
      "Loss = 1.12253\n",
      "Step #58 A = [[ 1.94079411]] b = [[ 3.13113141]]\n",
      "Loss = 1.3061\n",
      "Step #59 A = [[ 1.91844952]] b = [[ 3.17229939]]\n",
      "Loss = 1.20108\n",
      "Step #60 A = [[ 1.86328971]] b = [[ 3.1724453]]\n",
      "Loss = 0.98151\n",
      "Step #61 A = [[ 1.88841236]] b = [[ 3.22912812]]\n",
      "Loss = 0.673309\n",
      "Step #62 A = [[ 1.88128984]] b = [[ 3.25764871]]\n",
      "Loss = 0.587063\n",
      "Step #63 A = [[ 1.87324715]] b = [[ 3.30130172]]\n",
      "Loss = 1.03354\n",
      "Step #64 A = [[ 1.82146049]] b = [[ 3.29657316]]\n",
      "Loss = 0.763153\n",
      "Step #65 A = [[ 1.80347919]] b = [[ 3.33779812]]\n",
      "Loss = 0.964712\n",
      "Step #66 A = [[ 1.78700161]] b = [[ 3.38382053]]\n",
      "Loss = 0.899327\n",
      "Step #67 A = [[ 1.79639995]] b = [[ 3.43380547]]\n",
      "Loss = 0.789464\n",
      "Step #68 A = [[ 1.69042504]] b = [[ 3.41751337]]\n",
      "Loss = 1.03596\n",
      "Step #69 A = [[ 1.6972059]] b = [[ 3.44841647]]\n",
      "Loss = 0.555651\n",
      "Step #70 A = [[ 1.6776706]] b = [[ 3.46550393]]\n",
      "Loss = 0.592997\n",
      "Step #71 A = [[ 1.65921342]] b = [[ 3.49667764]]\n",
      "Loss = 0.685242\n",
      "Step #72 A = [[ 1.65389431]] b = [[ 3.5260675]]\n",
      "Loss = 0.762554\n",
      "Step #73 A = [[ 1.65551341]] b = [[ 3.59002542]]\n",
      "Loss = 0.955856\n",
      "Step #74 A = [[ 1.65982389]] b = [[ 3.62492585]]\n",
      "Loss = 0.59041\n",
      "Step #75 A = [[ 1.64866745]] b = [[ 3.64544797]]\n",
      "Loss = 0.45954\n",
      "Step #76 A = [[ 1.62640882]] b = [[ 3.6619494]]\n",
      "Loss = 0.561559\n",
      "Step #77 A = [[ 1.64183807]] b = [[ 3.70383811]]\n",
      "Loss = 0.65737\n",
      "Step #78 A = [[ 1.60869563]] b = [[ 3.71186638]]\n",
      "Loss = 0.490348\n",
      "Step #79 A = [[ 1.59946322]] b = [[ 3.73937535]]\n",
      "Loss = 0.480398\n",
      "Step #80 A = [[ 1.5981102]] b = [[ 3.76278186]]\n",
      "Loss = 0.412334\n",
      "Step #81 A = [[ 1.58409917]] b = [[ 3.77218103]]\n",
      "Loss = 0.264059\n",
      "Step #82 A = [[ 1.54348814]] b = [[ 3.7746191]]\n",
      "Loss = 0.46866\n",
      "Step #83 A = [[ 1.51473022]] b = [[ 3.77261686]]\n",
      "Loss = 0.325533\n",
      "Step #84 A = [[ 1.52964807]] b = [[ 3.79836965]]\n",
      "Loss = 0.383544\n",
      "Step #85 A = [[ 1.49332976]] b = [[ 3.8055377]]\n",
      "Loss = 0.62463\n",
      "Step #86 A = [[ 1.47176933]] b = [[ 3.81718707]]\n",
      "Loss = 0.416773\n",
      "Step #87 A = [[ 1.4318682]] b = [[ 3.81775284]]\n",
      "Loss = 0.511185\n",
      "Step #88 A = [[ 1.48760819]] b = [[ 3.87690806]]\n",
      "Loss = 0.484236\n",
      "Step #89 A = [[ 1.44425619]] b = [[ 3.86927271]]\n",
      "Loss = 0.359035\n",
      "Step #90 A = [[ 1.45367587]] b = [[ 3.89072514]]\n",
      "Loss = 0.24035\n",
      "Step #91 A = [[ 1.42674387]] b = [[ 3.91324472]]\n",
      "Loss = 0.590326\n",
      "Step #92 A = [[ 1.41000307]] b = [[ 3.93371987]]\n",
      "Loss = 0.507871\n",
      "Step #93 A = [[ 1.40703607]] b = [[ 3.96035552]]\n",
      "Loss = 0.462142\n",
      "Step #94 A = [[ 1.39208961]] b = [[ 3.96849871]]\n",
      "Loss = 0.296221\n",
      "Step #95 A = [[ 1.34836113]] b = [[ 3.97417498]]\n",
      "Loss = 0.408752\n",
      "Step #96 A = [[ 1.32258534]] b = [[ 3.97844601]]\n",
      "Loss = 0.349653\n",
      "Step #97 A = [[ 1.32010865]] b = [[ 4.00423956]]\n",
      "Loss = 0.455965\n",
      "Step #98 A = [[ 1.34409332]] b = [[ 4.06020689]]\n",
      "Loss = 0.499926\n",
      "Step #99 A = [[ 1.32547784]] b = [[ 4.06322145]]\n",
      "Loss = 0.389426\n",
      "Step #100 A = [[ 1.32653689]] b = [[ 4.0849762]]\n",
      "Loss = 0.411454\n"
     ]
    }
   ],
   "source": [
    "loss_vec = []\n",
    "for i in range(100):\n",
    "    rand_index = np.random.choice(len(x_vals), size=batch_size)\n",
    "    rand_x = np.transpose([x_vals[rand_index]])\n",
    "    rand_y = np.transpose([y_vals[rand_index]])\n",
    "    sess.run(train_step, feed_dict={x_data: rand_x, y_target: rand_y})\n",
    "    temp_loss = sess.run(loss, feed_dict={x_data: rand_x, y_target: rand_y})\n",
    "    loss_vec.append(temp_loss)\n",
    "    print('Step #' + str(i+1) + ' A = ' + str(sess.run(A)) + ' b = ' + str(sess.run(b)))\n",
    "    print('Loss = ''' + str(temp_loss))"
   ]
  },
  {
   "cell_type": "code",
   "execution_count": 64,
   "metadata": {
    "collapsed": true
   },
   "outputs": [],
   "source": [
    "[slope] = sess.run(A)"
   ]
  },
  {
   "cell_type": "code",
   "execution_count": 65,
   "metadata": {
    "collapsed": true
   },
   "outputs": [],
   "source": [
    "[y_intercept] = sess.run(b)"
   ]
  },
  {
   "cell_type": "code",
   "execution_count": 66,
   "metadata": {},
   "outputs": [
    {
     "data": {
      "text/plain": [
       "array([ 1.32653689], dtype=float32)"
      ]
     },
     "execution_count": 66,
     "metadata": {},
     "output_type": "execute_result"
    }
   ],
   "source": [
    "slope"
   ]
  },
  {
   "cell_type": "code",
   "execution_count": 67,
   "metadata": {
    "collapsed": true
   },
   "outputs": [],
   "source": [
    "best_fit = []\n",
    "for i in x_vals:\n",
    "    best_fit.append(slope*i+y_intercept)"
   ]
  },
  {
   "cell_type": "code",
   "execution_count": 70,
   "metadata": {},
   "outputs": [
    {
     "data": {
      "image/png": "[encoded data removed]",
      "text/plain": [
       "<matplotlib.figure.Figure at 0x1d9e383e668>"
      ]
     },
     "metadata": {},
     "output_type": "display_data"
    },
    {
     "data": {
      "image/png": "[encoded data removed]",
      "text/plain": [
       "<matplotlib.figure.Figure at 0x1d9e38a7b00>"
      ]
     },
     "metadata": {},
     "output_type": "display_data"
    }
   ],
   "source": [
    "plt.plot(x_vals, y_vals, 'o', label='Data Points')\n",
    "plt.plot(x_vals, best_fit, 'r-', label='Best fit line', linewidth=3)\n",
    "plt.legend(loc='upper left')\n",
    "plt.title('Sepal Length vs Pedal Width')\n",
    "plt.xlabel('Pedal Width')\n",
    "plt.ylabel('Sepal Length')\n",
    "plt.show()\n",
    "plt.plot(loss_vec, 'k-')\n",
    "plt.title('L2 Loss per Generation')\n",
    "plt.xlabel('Generation')\n",
    "plt.ylabel('L2 Loss')\n",
    "plt.show()"
   ]
  },
  {
   "cell_type": "markdown",
   "metadata": {},
   "source": [
    "### Lasso & Ridge Regression"
   ]
  },
  {
   "cell_type": "code",
   "execution_count": 71,
   "metadata": {
    "collapsed": true
   },
   "outputs": [],
   "source": [
    "ops.reset_default_graph()\n",
    "sess = tf.Session()\n",
    "iris = datasets.load_iris()\n",
    "x_vals = np.array([x[3] for x in iris.data])\n",
    "y_vals = np.array([y[0] for y in iris.data])\n",
    "batch_size = 50\n",
    "learning_rate = 0.001"
   ]
  },
  {
   "cell_type": "code",
   "execution_count": 72,
   "metadata": {
    "collapsed": true
   },
   "outputs": [],
   "source": [
    "x_data = tf.placeholder(shape=[None, 1], dtype=tf.float32)\n",
    "y_target = tf.placeholder(shape=[None, 1], dtype=tf.float32)\n",
    "\n",
    "A = tf.Variable(tf.random_normal(shape=[1,1]))\n",
    "b = tf.Variable(tf.random_normal(shape=[1,1]))\n",
    "\n",
    "model_output = tf.add(tf.matmul(x_data, A), b)"
   ]
  },
  {
   "cell_type": "code",
   "execution_count": null,
   "metadata": {
    "collapsed": true
   },
   "outputs": [],
   "source": []
  }
 ],
 "metadata": {
  "kernelspec": {
   "display_name": "Python 3",
   "language": "python",
   "name": "python3"
  },
  "language_info": {
   "codemirror_mode": {
    "name": "ipython",
    "version": 3
   },
   "file_extension": ".py",
   "mimetype": "text/x-python",
   "name": "python",
   "nbconvert_exporter": "python",
   "pygments_lexer": "ipython3",
   "version": "3.5.0"
  }
 },
 "nbformat": 4,
 "nbformat_minor": 2
}
