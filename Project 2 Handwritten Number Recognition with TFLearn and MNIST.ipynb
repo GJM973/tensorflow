{
 "cells": [
  {
   "cell_type": "code",
   "execution_count": 1,
   "metadata": {
    "collapsed": true
   },
   "outputs": [],
   "source": [
    "import numpy as np"
   ]
  },
  {
   "cell_type": "code",
   "execution_count": 2,
   "metadata": {
    "collapsed": true
   },
   "outputs": [],
   "source": [
    "import tensorflow as tf"
   ]
  },
  {
   "cell_type": "code",
   "execution_count": 3,
   "metadata": {},
   "outputs": [
    {
     "name": "stdout",
     "output_type": "stream",
     "text": [
      "curses is not supported on this machine (please install/reinstall curses for an optimal experience)\n"
     ]
    }
   ],
   "source": [
    "import tflearn\n",
    "import tflearn.datasets.mnist as mnist"
   ]
  },
  {
   "cell_type": "code",
   "execution_count": 4,
   "metadata": {
    "collapsed": true
   },
   "outputs": [],
   "source": [
    "## Shape of datsets - 55000 (image) , 28 X 28 ( each image is 28 X 28)"
   ]
  },
  {
   "cell_type": "code",
   "execution_count": 5,
   "metadata": {},
   "outputs": [
    {
     "name": "stdout",
     "output_type": "stream",
     "text": [
      "Downloading MNIST...\n",
      "Succesfully downloaded train-images-idx3-ubyte.gz 9912422 bytes.\n",
      "Extracting mnist/train-images-idx3-ubyte.gz\n",
      "Downloading MNIST...\n",
      "Succesfully downloaded train-labels-idx1-ubyte.gz 28881 bytes.\n",
      "Extracting mnist/train-labels-idx1-ubyte.gz\n",
      "Downloading MNIST...\n",
      "Succesfully downloaded t10k-images-idx3-ubyte.gz 1648877 bytes.\n",
      "Extracting mnist/t10k-images-idx3-ubyte.gz\n",
      "Downloading MNIST...\n",
      "Succesfully downloaded t10k-labels-idx1-ubyte.gz 4542 bytes.\n",
      "Extracting mnist/t10k-labels-idx1-ubyte.gz\n"
     ]
    }
   ],
   "source": [
    "trainX, trainY, testX, testY = mnist.load_data(one_hot=True)"
   ]
  },
  {
   "cell_type": "code",
   "execution_count": 6,
   "metadata": {
    "collapsed": true
   },
   "outputs": [],
   "source": [
    "import matplotlib.pyplot as plt\n",
    "%matplotlib inline"
   ]
  },
  {
   "cell_type": "code",
   "execution_count": 9,
   "metadata": {},
   "outputs": [
    {
     "data": {
      "image/png": "[encoded data removed]",
      "text/plain": [
       "<matplotlib.figure.Figure at 0x18feb95b550>"
      ]
     },
     "metadata": {},
     "output_type": "display_data"
    }
   ],
   "source": [
    "def display_digit(index):\n",
    "    label = trainY[index].argmax(axis=0)\n",
    "    image = trainX[index].reshape([28,28])\n",
    "    plt.title(label)\n",
    "    plt.imshow(image, cmap='gray_r')\n",
    "    \n",
    "display_digit(0)"
   ]
  },
  {
   "cell_type": "code",
   "execution_count": 20,
   "metadata": {},
   "outputs": [
    {
     "data": {
      "text/plain": [
       "(10000, 784)"
      ]
     },
     "execution_count": 20,
     "metadata": {},
     "output_type": "execute_result"
    }
   ],
   "source": [
    "testX.shape"
   ]
  },
  {
   "cell_type": "markdown",
   "metadata": {},
   "source": [
    "### Build neural network\n",
    "* Build input layer - number of features - 28 X 28\n",
    "* Build hidden layer - Layers for feature identification\n",
    "* Build output layer - Predict the label of given image"
   ]
  },
  {
   "cell_type": "code",
   "execution_count": 17,
   "metadata": {
    "collapsed": true
   },
   "outputs": [],
   "source": [
    "#creating a input layer of 100 features\n",
    "#net = tflearn.input_data([None, 100]) \n",
    "\n",
    "#Adding layers\n",
    "#n_units = 32\n",
    "#This adds fully connected layer where every unit in the previous layer is connected to each unit of this layer\n",
    "#net = tflearn.fully_connected(net, n_units, activation='ReLU')\n",
    "\n",
    "#net = tflearn.regression(net, optimizer='sgd', learning_rate=0.1, loss='categorical_cross_entropy')"
   ]
  },
  {
   "cell_type": "code",
   "execution_count": 23,
   "metadata": {
    "collapsed": true
   },
   "outputs": [],
   "source": [
    "def build_model():\n",
    "    tf.reset_default_graph()\n",
    "    \n",
    "    #Inputs\n",
    "    net = tflearn.input_data([None, trainX.shape[1]])\n",
    "    \n",
    "    #Hidden layers\n",
    "    net = tflearn.fully_connected(net, 128, activation='ReLU')\n",
    "    net = tflearn.fully_connected(net, 32, activation='ReLU')\n",
    "    \n",
    "    #Output Layer & training model\n",
    "    #activation for output layer is softmax\n",
    "    #\n",
    "    net = tflearn.fully_connected(net,10, activation='softmax')\n",
    "    net = tflearn.regression(net, optimizer='sgd', learning_rate=0.01, loss='categorical_crossentropy')\n",
    "    \n",
    "    model = tflearn.DNN(net)\n",
    "    return model"
   ]
  },
  {
   "cell_type": "code",
   "execution_count": 24,
   "metadata": {
    "collapsed": true
   },
   "outputs": [],
   "source": [
    "model = build_model()"
   ]
  },
  {
   "cell_type": "code",
   "execution_count": 25,
   "metadata": {},
   "outputs": [
    {
     "name": "stdout",
     "output_type": "stream",
     "text": [
      "Training Step: 49499  | total loss: \u001b[1m\u001b[32m0.05589\u001b[0m\u001b[0m | time: 7.747s\n",
      "| SGD | epoch: 100 | loss: 0.05589 - acc: 0.9847 -- iter: 49400/49500\n",
      "Training Step: 49500  | total loss: \u001b[1m\u001b[32m0.05358\u001b[0m\u001b[0m | time: 9.015s\n",
      "| SGD | epoch: 100 | loss: 0.05358 - acc: 0.9853 | val_loss: 0.10768 - val_acc: 0.9647 -- iter: 49500/49500\n",
      "--\n"
     ]
    }
   ],
   "source": [
    "model.fit(trainX,trainY, validation_set=0.1, show_metric=True, batch_size=100, n_epoch=100)"
   ]
  },
  {
   "cell_type": "code",
   "execution_count": 33,
   "metadata": {
    "collapsed": true
   },
   "outputs": [],
   "source": [
    "pred = np.argmax(model.predict(testX),axis=1)\n"
   ]
  },
  {
   "cell_type": "code",
   "execution_count": 42,
   "metadata": {
    "collapsed": true
   },
   "outputs": [],
   "source": [
    "act = np.argmax(testY,axis=1)"
   ]
  },
  {
   "cell_type": "code",
   "execution_count": 44,
   "metadata": {},
   "outputs": [
    {
     "data": {
      "text/plain": [
       "9715"
      ]
     },
     "execution_count": 44,
     "metadata": {},
     "output_type": "execute_result"
    }
   ],
   "source": [
    "sum(pred == act)"
   ]
  },
  {
   "cell_type": "code",
   "execution_count": 52,
   "metadata": {},
   "outputs": [
    {
     "data": {
      "text/plain": [
       "<module 'tflearn.layers' from 'C:\\\\Users\\\\ZekeLabs\\\\Anaconda3-N\\\\lib\\\\site-packages\\\\tflearn\\\\layers\\\\__init__.py'>"
      ]
     },
     "execution_count": 52,
     "metadata": {},
     "output_type": "execute_result"
    }
   ],
   "source": []
  },
  {
   "cell_type": "code",
   "execution_count": 5,
   "metadata": {},
   "outputs": [
    {
     "name": "stdout",
     "output_type": "stream",
     "text": [
      "Help on function fully_connected in module tflearn.layers.core:\n",
      "\n",
      "fully_connected(incoming, n_units, activation='linear', bias=True, weights_init='truncated_normal', bias_init='zeros', regularizer=None, weight_decay=0.001, trainable=True, restore=True, reuse=False, scope=None, name='FullyConnected')\n",
      "    Fully Connected.\n",
      "    \n",
      "    A fully connected layer.\n",
      "    \n",
      "    Input:\n",
      "        (2+)-D Tensor [samples, input dim]. If not 2D, input will be flatten.\n",
      "    \n",
      "    Output:\n",
      "        2D Tensor [samples, n_units].\n",
      "    \n",
      "    Arguments:\n",
      "        incoming: `Tensor`. Incoming (2+)D Tensor.\n",
      "        n_units: `int`, number of units for this layer.\n",
      "        activation: `str` (name) or `function` (returning a `Tensor`).\n",
      "            Activation applied to this layer (see tflearn.activations).\n",
      "            Default: 'linear'.\n",
      "        bias: `bool`. If True, a bias is used.\n",
      "        weights_init: `str` (name) or `Tensor`. Weights initialization.\n",
      "            (see tflearn.initializations) Default: 'truncated_normal'.\n",
      "        bias_init: `str` (name) or `Tensor`. Bias initialization.\n",
      "            (see tflearn.initializations) Default: 'zeros'.\n",
      "        regularizer: `str` (name) or `Tensor`. Add a regularizer to this\n",
      "            layer weights (see tflearn.regularizers). Default: None.\n",
      "        weight_decay: `float`. Regularizer decay parameter. Default: 0.001.\n",
      "        trainable: `bool`. If True, weights will be trainable.\n",
      "        restore: `bool`. If True, this layer weights will be restored when\n",
      "            loading a model.\n",
      "        reuse: `bool`. If True and 'scope' is provided, this layer variables\n",
      "            will be reused (shared).\n",
      "        scope: `str`. Define this layer scope (optional). A scope can be\n",
      "            used to share variables between layers. Note that scope will\n",
      "            override name.\n",
      "        name: A name for this layer (optional). Default: 'FullyConnected'.\n",
      "    \n",
      "    Attributes:\n",
      "        scope: `Scope`. This layer scope.\n",
      "        W: `Tensor`. Variable representing units weights.\n",
      "        b: `Tensor`. Variable representing biases.\n",
      "\n"
     ]
    }
   ],
   "source": [
    "help(tflearn.fully_connected)"
   ]
  },
  {
   "cell_type": "code",
   "execution_count": null,
   "metadata": {
    "collapsed": true
   },
   "outputs": [],
   "source": []
  }
 ],
 "metadata": {
  "kernelspec": {
   "display_name": "Python 3",
   "language": "python",
   "name": "python3"
  },
  "language_info": {
   "codemirror_mode": {
    "name": "ipython",
    "version": 3
   },
   "file_extension": ".py",
   "mimetype": "text/x-python",
   "name": "python",
   "nbconvert_exporter": "python",
   "pygments_lexer": "ipython3",
   "version": "3.5.4"
  }
 },
 "nbformat": 4,
 "nbformat_minor": 2
}
