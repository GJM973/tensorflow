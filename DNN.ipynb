{
 "cells": [
  {
   "cell_type": "code",
   "execution_count": 1,
   "metadata": {
    "collapsed": true
   },
   "outputs": [],
   "source": [
    "import tensorflow as tf"
   ]
  },
  {
   "cell_type": "code",
   "execution_count": 2,
   "metadata": {},
   "outputs": [
    {
     "data": {
      "text/plain": [
       "'1.3.0'"
      ]
     },
     "execution_count": 2,
     "metadata": {},
     "output_type": "execute_result"
    }
   ],
   "source": [
    "tf.__version__"
   ]
  },
  {
   "cell_type": "code",
   "execution_count": 3,
   "metadata": {
    "collapsed": true
   },
   "outputs": [],
   "source": [
    "from sklearn import datasets"
   ]
  },
  {
   "cell_type": "code",
   "execution_count": 4,
   "metadata": {
    "collapsed": true
   },
   "outputs": [],
   "source": [
    "from tensorflow.python.framework import ops\n",
    "ops.reset_default_graph()\n",
    "\n",
    "iris = datasets.load_iris()"
   ]
  },
  {
   "cell_type": "code",
   "execution_count": 5,
   "metadata": {},
   "outputs": [
    {
     "data": {
      "text/plain": [
       "array([[ 5.1,  3.5,  1.4],\n",
       "       [ 4.9,  3. ,  1.4],\n",
       "       [ 4.7,  3.2,  1.3],\n",
       "       [ 4.6,  3.1,  1.5],\n",
       "       [ 5. ,  3.6,  1.4],\n",
       "       [ 5.4,  3.9,  1.7],\n",
       "       [ 4.6,  3.4,  1.4],\n",
       "       [ 5. ,  3.4,  1.5],\n",
       "       [ 4.4,  2.9,  1.4],\n",
       "       [ 4.9,  3.1,  1.5],\n",
       "       [ 5.4,  3.7,  1.5],\n",
       "       [ 4.8,  3.4,  1.6],\n",
       "       [ 4.8,  3. ,  1.4],\n",
       "       [ 4.3,  3. ,  1.1],\n",
       "       [ 5.8,  4. ,  1.2],\n",
       "       [ 5.7,  4.4,  1.5],\n",
       "       [ 5.4,  3.9,  1.3],\n",
       "       [ 5.1,  3.5,  1.4],\n",
       "       [ 5.7,  3.8,  1.7],\n",
       "       [ 5.1,  3.8,  1.5],\n",
       "       [ 5.4,  3.4,  1.7],\n",
       "       [ 5.1,  3.7,  1.5],\n",
       "       [ 4.6,  3.6,  1. ],\n",
       "       [ 5.1,  3.3,  1.7],\n",
       "       [ 4.8,  3.4,  1.9],\n",
       "       [ 5. ,  3. ,  1.6],\n",
       "       [ 5. ,  3.4,  1.6],\n",
       "       [ 5.2,  3.5,  1.5],\n",
       "       [ 5.2,  3.4,  1.4],\n",
       "       [ 4.7,  3.2,  1.6],\n",
       "       [ 4.8,  3.1,  1.6],\n",
       "       [ 5.4,  3.4,  1.5],\n",
       "       [ 5.2,  4.1,  1.5],\n",
       "       [ 5.5,  4.2,  1.4],\n",
       "       [ 4.9,  3.1,  1.5],\n",
       "       [ 5. ,  3.2,  1.2],\n",
       "       [ 5.5,  3.5,  1.3],\n",
       "       [ 4.9,  3.1,  1.5],\n",
       "       [ 4.4,  3. ,  1.3],\n",
       "       [ 5.1,  3.4,  1.5],\n",
       "       [ 5. ,  3.5,  1.3],\n",
       "       [ 4.5,  2.3,  1.3],\n",
       "       [ 4.4,  3.2,  1.3],\n",
       "       [ 5. ,  3.5,  1.6],\n",
       "       [ 5.1,  3.8,  1.9],\n",
       "       [ 4.8,  3. ,  1.4],\n",
       "       [ 5.1,  3.8,  1.6],\n",
       "       [ 4.6,  3.2,  1.4],\n",
       "       [ 5.3,  3.7,  1.5],\n",
       "       [ 5. ,  3.3,  1.4],\n",
       "       [ 7. ,  3.2,  4.7],\n",
       "       [ 6.4,  3.2,  4.5],\n",
       "       [ 6.9,  3.1,  4.9],\n",
       "       [ 5.5,  2.3,  4. ],\n",
       "       [ 6.5,  2.8,  4.6],\n",
       "       [ 5.7,  2.8,  4.5],\n",
       "       [ 6.3,  3.3,  4.7],\n",
       "       [ 4.9,  2.4,  3.3],\n",
       "       [ 6.6,  2.9,  4.6],\n",
       "       [ 5.2,  2.7,  3.9],\n",
       "       [ 5. ,  2. ,  3.5],\n",
       "       [ 5.9,  3. ,  4.2],\n",
       "       [ 6. ,  2.2,  4. ],\n",
       "       [ 6.1,  2.9,  4.7],\n",
       "       [ 5.6,  2.9,  3.6],\n",
       "       [ 6.7,  3.1,  4.4],\n",
       "       [ 5.6,  3. ,  4.5],\n",
       "       [ 5.8,  2.7,  4.1],\n",
       "       [ 6.2,  2.2,  4.5],\n",
       "       [ 5.6,  2.5,  3.9],\n",
       "       [ 5.9,  3.2,  4.8],\n",
       "       [ 6.1,  2.8,  4. ],\n",
       "       [ 6.3,  2.5,  4.9],\n",
       "       [ 6.1,  2.8,  4.7],\n",
       "       [ 6.4,  2.9,  4.3],\n",
       "       [ 6.6,  3. ,  4.4],\n",
       "       [ 6.8,  2.8,  4.8],\n",
       "       [ 6.7,  3. ,  5. ],\n",
       "       [ 6. ,  2.9,  4.5],\n",
       "       [ 5.7,  2.6,  3.5],\n",
       "       [ 5.5,  2.4,  3.8],\n",
       "       [ 5.5,  2.4,  3.7],\n",
       "       [ 5.8,  2.7,  3.9],\n",
       "       [ 6. ,  2.7,  5.1],\n",
       "       [ 5.4,  3. ,  4.5],\n",
       "       [ 6. ,  3.4,  4.5],\n",
       "       [ 6.7,  3.1,  4.7],\n",
       "       [ 6.3,  2.3,  4.4],\n",
       "       [ 5.6,  3. ,  4.1],\n",
       "       [ 5.5,  2.5,  4. ],\n",
       "       [ 5.5,  2.6,  4.4],\n",
       "       [ 6.1,  3. ,  4.6],\n",
       "       [ 5.8,  2.6,  4. ],\n",
       "       [ 5. ,  2.3,  3.3],\n",
       "       [ 5.6,  2.7,  4.2],\n",
       "       [ 5.7,  3. ,  4.2],\n",
       "       [ 5.7,  2.9,  4.2],\n",
       "       [ 6.2,  2.9,  4.3],\n",
       "       [ 5.1,  2.5,  3. ],\n",
       "       [ 5.7,  2.8,  4.1],\n",
       "       [ 6.3,  3.3,  6. ],\n",
       "       [ 5.8,  2.7,  5.1],\n",
       "       [ 7.1,  3. ,  5.9],\n",
       "       [ 6.3,  2.9,  5.6],\n",
       "       [ 6.5,  3. ,  5.8],\n",
       "       [ 7.6,  3. ,  6.6],\n",
       "       [ 4.9,  2.5,  4.5],\n",
       "       [ 7.3,  2.9,  6.3],\n",
       "       [ 6.7,  2.5,  5.8],\n",
       "       [ 7.2,  3.6,  6.1],\n",
       "       [ 6.5,  3.2,  5.1],\n",
       "       [ 6.4,  2.7,  5.3],\n",
       "       [ 6.8,  3. ,  5.5],\n",
       "       [ 5.7,  2.5,  5. ],\n",
       "       [ 5.8,  2.8,  5.1],\n",
       "       [ 6.4,  3.2,  5.3],\n",
       "       [ 6.5,  3. ,  5.5],\n",
       "       [ 7.7,  3.8,  6.7],\n",
       "       [ 7.7,  2.6,  6.9],\n",
       "       [ 6. ,  2.2,  5. ],\n",
       "       [ 6.9,  3.2,  5.7],\n",
       "       [ 5.6,  2.8,  4.9],\n",
       "       [ 7.7,  2.8,  6.7],\n",
       "       [ 6.3,  2.7,  4.9],\n",
       "       [ 6.7,  3.3,  5.7],\n",
       "       [ 7.2,  3.2,  6. ],\n",
       "       [ 6.2,  2.8,  4.8],\n",
       "       [ 6.1,  3. ,  4.9],\n",
       "       [ 6.4,  2.8,  5.6],\n",
       "       [ 7.2,  3. ,  5.8],\n",
       "       [ 7.4,  2.8,  6.1],\n",
       "       [ 7.9,  3.8,  6.4],\n",
       "       [ 6.4,  2.8,  5.6],\n",
       "       [ 6.3,  2.8,  5.1],\n",
       "       [ 6.1,  2.6,  5.6],\n",
       "       [ 7.7,  3. ,  6.1],\n",
       "       [ 6.3,  3.4,  5.6],\n",
       "       [ 6.4,  3.1,  5.5],\n",
       "       [ 6. ,  3. ,  4.8],\n",
       "       [ 6.9,  3.1,  5.4],\n",
       "       [ 6.7,  3.1,  5.6],\n",
       "       [ 6.9,  3.1,  5.1],\n",
       "       [ 5.8,  2.7,  5.1],\n",
       "       [ 6.8,  3.2,  5.9],\n",
       "       [ 6.7,  3.3,  5.7],\n",
       "       [ 6.7,  3. ,  5.2],\n",
       "       [ 6.3,  2.5,  5. ],\n",
       "       [ 6.5,  3. ,  5.2],\n",
       "       [ 6.2,  3.4,  5.4],\n",
       "       [ 5.9,  3. ,  5.1]])"
      ]
     },
     "execution_count": 5,
     "metadata": {},
     "output_type": "execute_result"
    }
   ],
   "source": [
    "iris.data[:,:3]"
   ]
  },
  {
   "cell_type": "code",
   "execution_count": 6,
   "metadata": {
    "collapsed": true
   },
   "outputs": [],
   "source": [
    "sl= tf.feature_column.numeric_column(\"sl\")\n",
    "sw = tf.feature_column.numeric_column(\"sw\")\n",
    "pl = tf.feature_column.numeric_column(\"pl\")"
   ]
  },
  {
   "cell_type": "code",
   "execution_count": 7,
   "metadata": {},
   "outputs": [
    {
     "name": "stdout",
     "output_type": "stream",
     "text": [
      "INFO:tensorflow:Using default config.\n",
      "WARNING:tensorflow:Using temporary folder as model directory: C:\\Users\\ZekeLabs\\AppData\\Local\\Temp\\tmp_50tblq6\n",
      "INFO:tensorflow:Using config: {'_keep_checkpoint_every_n_hours': 10000, '_keep_checkpoint_max': 5, '_session_config': None, '_tf_random_seed': 1, '_model_dir': 'C:\\\\Users\\\\ZekeLabs\\\\AppData\\\\Local\\\\Temp\\\\tmp_50tblq6', '_log_step_count_steps': 100, '_save_summary_steps': 100, '_save_checkpoints_steps': None, '_save_checkpoints_secs': 600}\n"
     ]
    }
   ],
   "source": [
    "estimator = tf.estimator.DNNRegressor(\n",
    "    feature_columns = [sl,sw,pl],\n",
    "    hidden_units = [5]\n",
    ")"
   ]
  },
  {
   "cell_type": "code",
   "execution_count": 8,
   "metadata": {
    "collapsed": true
   },
   "outputs": [],
   "source": [
    "def input_fn( num_epochs, shuffle):\n",
    "    \n",
    "    x = {'sl':iris.data.T[0],\n",
    "         'sw':iris.data.T[1],\n",
    "         'pl':iris.data.T[2]\n",
    "        }\n",
    "    \n",
    "    labels = iris.data.T[3]\n",
    "    return tf.estimator.inputs.numpy_input_fn(\n",
    "      x,\n",
    "      y=labels,\n",
    "      batch_size=100,\n",
    "      num_epochs=num_epochs,\n",
    "      shuffle=shuffle\n",
    "      )"
   ]
  },
  {
   "cell_type": "code",
   "execution_count": 9,
   "metadata": {},
   "outputs": [
    {
     "name": "stdout",
     "output_type": "stream",
     "text": [
      "INFO:tensorflow:Create CheckpointSaverHook.\n",
      "INFO:tensorflow:Saving checkpoints for 1 into C:\\Users\\ZekeLabs\\AppData\\Local\\Temp\\tmp_50tblq6\\model.ckpt.\n",
      "INFO:tensorflow:loss = 8.89996, step = 1\n",
      "INFO:tensorflow:Saving checkpoints for 100 into C:\\Users\\ZekeLabs\\AppData\\Local\\Temp\\tmp_50tblq6\\model.ckpt.\n",
      "INFO:tensorflow:Loss for final step: 3.13087.\n"
     ]
    },
    {
     "data": {
      "text/plain": [
       "<tensorflow.python.estimator.canned.dnn.DNNRegressor at 0x1f1467c6668>"
      ]
     },
     "execution_count": 9,
     "metadata": {},
     "output_type": "execute_result"
    }
   ],
   "source": [
    "estimator.train(input_fn=input_fn(num_epochs=None, shuffle=True), steps=100)"
   ]
  },
  {
   "cell_type": "code",
   "execution_count": 10,
   "metadata": {
    "collapsed": true
   },
   "outputs": [],
   "source": [
    "df_data = iris.data.T[:3]"
   ]
  },
  {
   "cell_type": "code",
   "execution_count": 11,
   "metadata": {},
   "outputs": [
    {
     "data": {
      "text/plain": [
       "<bound method Estimator.predict of <tensorflow.python.estimator.canned.dnn.DNNRegressor object at 0x000001F1467C6668>>"
      ]
     },
     "execution_count": 11,
     "metadata": {},
     "output_type": "execute_result"
    }
   ],
   "source": [
    "estimator.predict"
   ]
  },
  {
   "cell_type": "code",
   "execution_count": 12,
   "metadata": {
    "collapsed": true
   },
   "outputs": [],
   "source": [
    "def input_fn_pred( num_epochs, shuffle):\n",
    "    \n",
    "    x = {'sl':iris.data.T[0][:5],\n",
    "         'sw':iris.data.T[1][:5],\n",
    "         'pl':iris.data.T[2][:5]\n",
    "        }\n",
    "    \n",
    "    labels = None\n",
    "    return tf.estimator.inputs.numpy_input_fn(\n",
    "      x,\n",
    "      y=labels,\n",
    "      batch_size=100,\n",
    "      num_epochs=num_epochs,\n",
    "      shuffle=shuffle\n",
    "      )"
   ]
  },
  {
   "cell_type": "code",
   "execution_count": 48,
   "metadata": {
    "collapsed": true
   },
   "outputs": [],
   "source": [
    "pred = estimator.predict(input_fn=input_fn_pred)"
   ]
  },
  {
   "cell_type": "code",
   "execution_count": 56,
   "metadata": {},
   "outputs": [
    {
     "name": "stdout",
     "output_type": "stream",
     "text": [
      "Help on method predict in module tensorflow.python.estimator.estimator:\n",
      "\n",
      "predict(input_fn, predict_keys=None, hooks=None, checkpoint_path=None) method of tensorflow.python.estimator.canned.dnn.DNNRegressor instance\n",
      "    Returns predictions for given features.\n",
      "    \n",
      "    Args:\n",
      "      input_fn: Input function returning features which is a dictionary of\n",
      "        string feature name to `Tensor` or `SparseTensor`. If it returns a\n",
      "        tuple, first item is extracted as features. Prediction continues until\n",
      "        `input_fn` raises an end-of-input exception (`OutOfRangeError` or\n",
      "        `StopIteration`).\n",
      "      predict_keys: list of `str`, name of the keys to predict. It is used if\n",
      "        the `EstimatorSpec.predictions` is a `dict`. If `predict_keys` is used\n",
      "        then rest of the predictions will be filtered from the dictionary. If\n",
      "        `None`, returns all.\n",
      "      hooks: List of `SessionRunHook` subclass instances. Used for callbacks\n",
      "        inside the prediction call.\n",
      "      checkpoint_path: Path of a specific checkpoint to predict. If `None`, the\n",
      "        latest checkpoint in `model_dir` is used.\n",
      "    \n",
      "    Yields:\n",
      "      Evaluated values of `predictions` tensors.\n",
      "    \n",
      "    Raises:\n",
      "      ValueError: Could not find a trained model in model_dir.\n",
      "      ValueError: if batch length of predictions are not same.\n",
      "      ValueError: If there is a conflict between `predict_keys` and\n",
      "        `predictions`. For example if `predict_keys` is not `None` but\n",
      "        `EstimatorSpec.predictions` is not a `dict`.\n",
      "\n"
     ]
    }
   ],
   "source": []
  },
  {
   "cell_type": "code",
   "execution_count": null,
   "metadata": {
    "collapsed": true
   },
   "outputs": [],
   "source": []
  },
  {
   "cell_type": "code",
   "execution_count": null,
   "metadata": {},
   "outputs": [],
   "source": []
  },
  {
   "cell_type": "code",
   "execution_count": null,
   "metadata": {},
   "outputs": [],
   "source": [
    "\n"
   ]
  },
  {
   "cell_type": "code",
   "execution_count": null,
   "metadata": {
    "collapsed": true
   },
   "outputs": [],
   "source": []
  }
 ],
 "metadata": {
  "kernelspec": {
   "display_name": "Python 3",
   "language": "python",
   "name": "python3"
  },
  "language_info": {
   "codemirror_mode": {
    "name": "ipython",
    "version": 3
   },
   "file_extension": ".py",
   "mimetype": "text/x-python",
   "name": "python",
   "nbconvert_exporter": "python",
   "pygments_lexer": "ipython3",
   "version": "3.5.4"
  }
 },
 "nbformat": 4,
 "nbformat_minor": 2
}
