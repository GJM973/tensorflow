{
 "cells": [
  {
   "cell_type": "markdown",
   "metadata": {},
   "source": [
    "### Agenda \n",
    "* Working with Nearest Neighbors\n",
    "* Test-Based Distances\n",
    "* Computing Mixed Distance Functions\n",
    "* Nearest for Image Recognition\n"
   ]
  },
  {
   "cell_type": "code",
   "execution_count": 49,
   "metadata": {
    "collapsed": true
   },
   "outputs": [],
   "source": [
    "# import required libraries\n",
    "import matplotlib.pyplot as plt\n",
    "%matplotlib inline\n",
    "import numpy as np\n",
    "import tensorflow as tf\n",
    "import requests\n",
    "from tensorflow.python.framework import ops\n",
    "ops.reset_default_graph()"
   ]
  },
  {
   "cell_type": "code",
   "execution_count": 50,
   "metadata": {
    "collapsed": true
   },
   "outputs": [],
   "source": [
    "sess = tf.Session()"
   ]
  },
  {
   "cell_type": "code",
   "execution_count": 51,
   "metadata": {
    "collapsed": true
   },
   "outputs": [],
   "source": [
    "housing_url = 'https://archive.ics.uci.edu/ml/machine-learning-databases/housing/housing.data'"
   ]
  },
  {
   "cell_type": "code",
   "execution_count": 52,
   "metadata": {
    "collapsed": true
   },
   "outputs": [],
   "source": [
    "housing_header = ['CRIM', 'ZN', 'INDUS', 'CHAS', 'NOX', 'RM', 'AGE', 'DIS', 'RAD', 'TAX', 'PTRATIO', 'B', 'LSTAT', 'MEDV']"
   ]
  },
  {
   "cell_type": "markdown",
   "metadata": {},
   "source": [
    "* CRIM : per capita crime rate by town\n",
    "* ZN : prop. of res. land zones\n",
    "* INDUS : prop. of non-retail business acres\n",
    "* CHAS : Charles river dummy variable\n",
    "* NOX : nitrix oxides concentration / 10 M\n",
    "* RM : Avg. # of rooms per building\n",
    "* AGE : prop. of buildings built prior to 1940\n",
    "* DIS : Weighted distances to employment centers\n",
    "* RAD : Index of radian highway access\n",
    "* TAX : Full tax rate value per $10k\n",
    "* PTRATIO: Pupil/Teacher ratio by town\n",
    "* B : 1000*(Bk-0.63)^2, Bk=prop. of blacks\n",
    "* LSTAT : % lower status of pop\n",
    "\n",
    "----y-data----\n",
    "* MEDV : Median Value of homes "
   ]
  },
  {
   "cell_type": "code",
   "execution_count": 53,
   "metadata": {
    "collapsed": true
   },
   "outputs": [],
   "source": [
    "cols_used = ['CRIM', 'INDUS', 'NOX', 'RM', 'AGE', 'DIS', 'TAX', 'PTRATIO', 'B', 'LSTAT']\n",
    "num_features = len(cols_used)\n",
    "housing_file = requests.get(housing_url)\n",
    "\n",
    "housing_data = [[float(x) for x in y.split(' ') if len(x)>=1] for y in housing_file.text.split('\\n') if len(y)>=1]\n",
    "\n",
    "y_vals = np.transpose([np.array([y[13] for y in housing_data])])\n",
    "x_vals = np.array([[x for i,x in enumerate(y) if housing_header[i] in cols_used] for y in housing_data])\n",
    "\n",
    "## Min-Max Scaling\n",
    "x_vals = (x_vals - x_vals.min(0)) / x_vals.ptp(0)"
   ]
  },
  {
   "cell_type": "code",
   "execution_count": 54,
   "metadata": {},
   "outputs": [
    {
     "data": {
      "text/plain": [
       "array([[  0.00000000e+00,   6.78152493e-02,   3.14814815e-01, ...,\n",
       "          2.87234043e-01,   1.00000000e+00,   8.96799117e-02],\n",
       "       [  2.35922539e-04,   2.42302053e-01,   1.72839506e-01, ...,\n",
       "          5.53191489e-01,   1.00000000e+00,   2.04470199e-01],\n",
       "       [  2.35697744e-04,   2.42302053e-01,   1.72839506e-01, ...,\n",
       "          5.53191489e-01,   9.89737254e-01,   6.34657837e-02],\n",
       "       ..., \n",
       "       [  6.11892474e-04,   4.20454545e-01,   3.86831276e-01, ...,\n",
       "          8.93617021e-01,   1.00000000e+00,   1.07891832e-01],\n",
       "       [  1.16072990e-03,   4.20454545e-01,   3.86831276e-01, ...,\n",
       "          8.93617021e-01,   9.91300620e-01,   1.31070640e-01],\n",
       "       [  4.61841693e-04,   4.20454545e-01,   3.86831276e-01, ...,\n",
       "          8.93617021e-01,   1.00000000e+00,   1.69701987e-01]])"
      ]
     },
     "execution_count": 54,
     "metadata": {},
     "output_type": "execute_result"
    }
   ],
   "source": [
    "x_vals"
   ]
  },
  {
   "cell_type": "code",
   "execution_count": 55,
   "metadata": {},
   "outputs": [
    {
     "data": {
      "text/plain": [
       "array([ 1.,  1.,  1.,  1.,  1.,  1.,  1.,  1.,  1.,  1.])"
      ]
     },
     "execution_count": 55,
     "metadata": {},
     "output_type": "execute_result"
    }
   ],
   "source": [
    "x_vals.ptp(0)"
   ]
  },
  {
   "cell_type": "code",
   "execution_count": 56,
   "metadata": {},
   "outputs": [
    {
     "name": "stdout",
     "output_type": "stream",
     "text": [
      "Help on built-in function ptp:\n",
      "\n",
      "ptp(...) method of numpy.ndarray instance\n",
      "    a.ptp(axis=None, out=None)\n",
      "    \n",
      "    Peak to peak (maximum - minimum) value along a given axis.\n",
      "    \n",
      "    Refer to `numpy.ptp` for full documentation.\n",
      "    \n",
      "    See Also\n",
      "    --------\n",
      "    numpy.ptp : equivalent function\n",
      "\n"
     ]
    }
   ],
   "source": [
    "help(x_vals.ptp)"
   ]
  },
  {
   "cell_type": "code",
   "execution_count": 57,
   "metadata": {},
   "outputs": [
    {
     "data": {
      "text/plain": [
       "506"
      ]
     },
     "execution_count": 57,
     "metadata": {},
     "output_type": "execute_result"
    }
   ],
   "source": [
    "import numpy\n",
    "len(x_vals)"
   ]
  },
  {
   "cell_type": "code",
   "execution_count": 58,
   "metadata": {
    "collapsed": true
   },
   "outputs": [],
   "source": [
    "train_indices = np.random.choice(len(x_vals), round(len(x_vals)*0.8), replace=False)\n",
    "\n",
    "test_indices = np.array(list(set(range(len(x_vals))) - set(train_indices)))\n",
    "\n",
    "x_vals_train = x_vals[train_indices]\n",
    "x_vals_test = x_vals[test_indices]\n",
    "y_vals_train = y_vals[train_indices]\n",
    "y_vals_test = y_vals[test_indices]"
   ]
  },
  {
   "cell_type": "code",
   "execution_count": 59,
   "metadata": {
    "collapsed": true
   },
   "outputs": [],
   "source": [
    "k = 4\n",
    "batch_size=len(x_vals_test)"
   ]
  },
  {
   "cell_type": "code",
   "execution_count": 60,
   "metadata": {
    "collapsed": true
   },
   "outputs": [],
   "source": [
    "x_data_train = tf.placeholder(shape=[None, num_features], dtype=tf.float32)\n",
    "x_data_test = tf.placeholder(shape=[None, num_features], dtype=tf.float32)\n",
    "y_target_train = tf.placeholder(shape=[None, 1], dtype=tf.float32)\n",
    "y_target_test = tf.placeholder(shape=[None, 1], dtype=tf.float32)"
   ]
  },
  {
   "cell_type": "code",
   "execution_count": 61,
   "metadata": {
    "collapsed": true
   },
   "outputs": [],
   "source": [
    "distance = tf.reduce_sum(tf.abs(tf.sub(x_data_train, tf.expand_dims(x_data_test,1))), reduction_indices=2)"
   ]
  },
  {
   "cell_type": "code",
   "execution_count": 62,
   "metadata": {},
   "outputs": [
    {
     "data": {
      "text/plain": [
       "<tf.Tensor 'ExpandDims_1:0' shape=(?, 1, 10) dtype=float32>"
      ]
     },
     "execution_count": 62,
     "metadata": {},
     "output_type": "execute_result"
    }
   ],
   "source": [
    "tf.expand_dims(x_data_test,1)"
   ]
  },
  {
   "cell_type": "code",
   "execution_count": 69,
   "metadata": {},
   "outputs": [
    {
     "name": "stdout",
     "output_type": "stream",
     "text": [
      "Help on function top_k in module tensorflow.python.ops.nn_ops:\n",
      "\n",
      "top_k(input, k=1, sorted=True, name=None)\n",
      "    Finds values and indices of the `k` largest entries for the last dimension.\n",
      "    \n",
      "    If the input is a vector (rank-1), finds the `k` largest entries in the vector\n",
      "    and outputs their values and indices as vectors.  Thus `values[j]` is the\n",
      "    `j`-th largest entry in `input`, and its index is `indices[j]`.\n",
      "    \n",
      "    For matrices (resp. higher rank input), computes the top `k` entries in each\n",
      "    row (resp. vector along the last dimension).  Thus,\n",
      "    \n",
      "        values.shape = indices.shape = input.shape[:-1] + [k]\n",
      "    \n",
      "    If two elements are equal, the lower-index element appears first.\n",
      "    \n",
      "    Args:\n",
      "      input: 1-D or higher `Tensor` with last dimension at least `k`.\n",
      "      k: 0-D `int32` `Tensor`.  Number of top elements to look for along the last\n",
      "        dimension (along each row for matrices).\n",
      "      sorted: If true the resulting `k` elements will be sorted by the values in\n",
      "        descending order.\n",
      "      name: Optional name for the operation.\n",
      "    \n",
      "    Returns:\n",
      "      values: The `k` largest elements along each last dimensional slice.\n",
      "      indices: The indices of `values` within the last dimension of `input`.\n",
      "\n"
     ]
    }
   ],
   "source": [
    "help(tf.nn.top_k)"
   ]
  },
  {
   "cell_type": "code",
   "execution_count": 63,
   "metadata": {},
   "outputs": [],
   "source": [
    "top_k_xvals, top_k_indices = tf.nn.top_k(tf.neg(distance), k=k)"
   ]
  },
  {
   "cell_type": "code",
   "execution_count": 64,
   "metadata": {},
   "outputs": [
    {
     "data": {
      "text/plain": [
       "<tf.Tensor 'TopKV2:0' shape=(?, 4) dtype=float32>"
      ]
     },
     "execution_count": 64,
     "metadata": {},
     "output_type": "execute_result"
    }
   ],
   "source": [
    "top_k_xvals"
   ]
  },
  {
   "cell_type": "code",
   "execution_count": 65,
   "metadata": {
    "collapsed": true
   },
   "outputs": [],
   "source": [
    "x_sums = tf.expand_dims(tf.reduce_sum(top_k_xvals, 1),1)"
   ]
  },
  {
   "cell_type": "code",
   "execution_count": 66,
   "metadata": {},
   "outputs": [
    {
     "data": {
      "text/plain": [
       "<tf.Tensor 'ExpandDims_2:0' shape=(?, 1) dtype=float32>"
      ]
     },
     "execution_count": 66,
     "metadata": {},
     "output_type": "execute_result"
    }
   ],
   "source": [
    "x_sums"
   ]
  },
  {
   "cell_type": "code",
   "execution_count": 67,
   "metadata": {},
   "outputs": [],
   "source": [
    "x_sums = tf.expand_dims(tf.reduce_sum(top_k_xvals, 1),1)\n",
    "\n",
    "x_sums_repeated = tf.matmul(x_sums,tf.ones([1, k], tf.float32))\n",
    "\n",
    "x_val_weights = tf.expand_dims(tf.div(top_k_xvals,x_sums_repeated), 1)\n",
    "\n",
    "top_k_yvals = tf.gather(y_target_train, top_k_indices)\n",
    "\n",
    "prediction = tf.squeeze(tf.batch_matmul(x_val_weights,top_k_yvals), squeeze_dims=[1])\n",
    "\n",
    "mse = tf.div(tf.reduce_sum(tf.square(tf.sub(prediction, y_target_test))), batch_size)"
   ]
  },
  {
   "cell_type": "code",
   "execution_count": 68,
   "metadata": {},
   "outputs": [
    {
     "name": "stdout",
     "output_type": "stream",
     "text": [
      "1\n",
      "Batch # 1 MSE: 14.058\n",
      "Batch # 2 MSE: 0.0\n",
      "Batch # 3 MSE: 0.0\n",
      "Batch # 4 MSE: 0.0\n",
      "Batch # 5 MSE: 0.0\n",
      "Batch # 6 MSE: 0.0\n",
      "Batch # 7 MSE: 0.0\n",
      "Batch # 8 MSE: 0.0\n",
      "Batch # 9 MSE: 0.0\n",
      "Batch # 10 MSE: 0.0\n"
     ]
    }
   ],
   "source": [
    "num_loops = int(np.ceil(len(x_vals_test)/batch_size))\n",
    "\n",
    "print (num_loops)\n",
    "for i in range(10):\n",
    "    min_index = i*batch_size\n",
    "    max_index = min((i+1)*batch_size,len(x_vals_train))\n",
    "    x_batch = x_vals_test[min_index:max_index]\n",
    "    y_batch = y_vals_test[min_index:max_index]\n",
    "    predictions = sess.run(prediction, feed_dict={x_data_train: x_vals_train, x_data_test: x_batch, y_target_train: y_vals_train, y_target_test: y_batch})\n",
    "    batch_mse = sess.run(mse, feed_dict={x_data_train: x_vals_train, x_data_test: x_batch, y_target_train: y_vals_train, y_target_test: y_batch})\n",
    "\n",
    "    print('Batch # '+ str(i+1) + ' MSE: ' + str(np.round(batch_mse,3)))"
   ]
  },
  {
   "cell_type": "code",
   "execution_count": 28,
   "metadata": {},
   "outputs": [
    {
     "data": {
      "image/png": "[encoded data removed]",
      "text/plain": [
       "<matplotlib.figure.Figure at 0x1a0948267f0>"
      ]
     },
     "metadata": {},
     "output_type": "display_data"
    }
   ],
   "source": [
    "bins = np.linspace(5, 50, 45)\n",
    "\n",
    "plt.hist(predictions, bins, alpha=0.5, label='Prediction')\n",
    "plt.hist(y_batch, bins, alpha=0.5, label='Actual')\n",
    "plt.title('Histogram of Predicted and Actual Values')\n",
    "plt.xlabel('Med Home Value in $1,000s')\n",
    "plt.ylabel('Frequency')\n",
    "plt.legend(loc='upper right')\n",
    "plt.show()"
   ]
  },
  {
   "cell_type": "code",
   "execution_count": 37,
   "metadata": {},
   "outputs": [
    {
     "data": {
      "text/plain": [
       "101"
      ]
     },
     "execution_count": 37,
     "metadata": {},
     "output_type": "execute_result"
    }
   ],
   "source": [
    "len(x_vals_test)"
   ]
  },
  {
   "cell_type": "code",
   "execution_count": 36,
   "metadata": {},
   "outputs": [
    {
     "data": {
      "text/plain": [
       "101"
      ]
     },
     "execution_count": 36,
     "metadata": {},
     "output_type": "execute_result"
    }
   ],
   "source": [
    "batch_size"
   ]
  },
  {
   "cell_type": "code",
   "execution_count": 38,
   "metadata": {},
   "outputs": [
    {
     "name": "stdout",
     "output_type": "stream",
     "text": [
      "Help on function squeeze in module tensorflow.python.ops.array_ops:\n",
      "\n",
      "squeeze(input, axis=None, name=None, squeeze_dims=None)\n",
      "    Removes dimensions of size 1 from the shape of a tensor.\n",
      "    \n",
      "    Given a tensor `input`, this operation returns a tensor of the same type with\n",
      "    all dimensions of size 1 removed. If you don't want to remove all size 1\n",
      "    dimensions, you can remove specific size 1 dimensions by specifying\n",
      "    `axis`.\n",
      "    \n",
      "    For example:\n",
      "    \n",
      "    ```prettyprint\n",
      "    # 't' is a tensor of shape [1, 2, 1, 3, 1, 1]\n",
      "    shape(squeeze(t)) ==> [2, 3]\n",
      "              ```\n",
      "    \n",
      "    Or, to remove specific size 1 dimensions:\n",
      "    \n",
      "    ```prettyprint\n",
      "    # 't' is a tensor of shape [1, 2, 1, 3, 1, 1]\n",
      "    shape(squeeze(t, [2, 4])) ==> [1, 2, 3, 1]\n",
      "    ```\n",
      "    \n",
      "    Args:\n",
      "      input: A `Tensor`. The `input` to squeeze.\n",
      "      axis: An optional list of `ints`. Defaults to `[]`.\n",
      "        If specified, only squeezes the dimensions listed. The dimension\n",
      "        index starts at 0. It is an error to squeeze a dimension that is not 1.\n",
      "      name: A name for the operation (optional).\n",
      "      squeeze_dims: Deprecated keyword argument that is now axis.\n",
      "    \n",
      "    Returns:\n",
      "      A `Tensor`. Has the same type as `input`.\n",
      "      Contains the same data as `input`, but has one or more dimensions of\n",
      "      size 1 removed.\n",
      "    \n",
      "    Raises:\n",
      "      ValueError: When both `squeeze_dims` and `axis` are specified.\n",
      "\n"
     ]
    }
   ],
   "source": [
    "help(tf.squeeze)"
   ]
  },
  {
   "cell_type": "code",
   "execution_count": 39,
   "metadata": {
    "collapsed": true
   },
   "outputs": [],
   "source": [
    "import random\n",
    "import numpy as np\n",
    "import tensorflow as tf\n",
    "import matplotlib.pyplot as plt\n",
    "from PIL import Image\n",
    "from tensorflow.examples.tutorials.mnist import input_data"
   ]
  },
  {
   "cell_type": "code",
   "execution_count": 40,
   "metadata": {},
   "outputs": [
    {
     "name": "stdout",
     "output_type": "stream",
     "text": [
      "Successfully downloaded train-images-idx3-ubyte.gz 9912422 bytes.\n",
      "Extracting MNIST_data/train-images-idx3-ubyte.gz\n",
      "Successfully downloaded train-labels-idx1-ubyte.gz 28881 bytes.\n",
      "Extracting MNIST_data/train-labels-idx1-ubyte.gz\n",
      "Successfully downloaded t10k-images-idx3-ubyte.gz 1648877 bytes.\n",
      "Extracting MNIST_data/t10k-images-idx3-ubyte.gz\n",
      "Successfully downloaded t10k-labels-idx1-ubyte.gz 4542 bytes.\n",
      "Extracting MNIST_data/t10k-labels-idx1-ubyte.gz\n"
     ]
    }
   ],
   "source": [
    "sess = tf.Session()\n",
    "mnist = input_data.read_data_sets(\"MNIST_data/\", one_hot=True)"
   ]
  },
  {
   "cell_type": "code",
   "execution_count": 41,
   "metadata": {
    "collapsed": true
   },
   "outputs": [],
   "source": [
    "train_size = 1000\n",
    "test_size = 102\n",
    "rand_train_indices = np.random.choice(len(mnist.train.images), train_size, replace=False)\n",
    "rand_test_indices = np.random.choice(len(mnist.test.images), test_size, replace=False)\n",
    "x_vals_train = mnist.train.images[rand_train_indices]\n",
    "x_vals_test = mnist.test.images[rand_test_indices]\n",
    "y_vals_train = mnist.train.labels[rand_train_indices]\n",
    "y_vals_test = mnist.test.labels[rand_test_indices]"
   ]
  },
  {
   "cell_type": "code",
   "execution_count": 42,
   "metadata": {
    "collapsed": true
   },
   "outputs": [],
   "source": [
    "k = 4\n",
    "batch_size=6"
   ]
  },
  {
   "cell_type": "code",
   "execution_count": 43,
   "metadata": {
    "collapsed": true
   },
   "outputs": [],
   "source": [
    "x_data_train = tf.placeholder(shape=[None, 784], dtype=tf.float32)\n",
    "x_data_test = tf.placeholder(shape=[None, 784], dtype=tf.float32)\n",
    "y_target_train = tf.placeholder(shape=[None, 10], dtype=tf.float32)\n",
    "y_target_test = tf.placeholder(shape=[None, 10], dtype=tf.float32)"
   ]
  },
  {
   "cell_type": "code",
   "execution_count": 44,
   "metadata": {
    "collapsed": true
   },
   "outputs": [],
   "source": [
    "distance = tf.reduce_sum(tf.abs(tf.sub(x_data_train, tf.expand_dims(x_data_test,1))), reduction_indices=2)"
   ]
  },
  {
   "cell_type": "code",
   "execution_count": 45,
   "metadata": {
    "collapsed": true
   },
   "outputs": [],
   "source": [
    "\n",
    "top_k_xvals, top_k_indices = tf.nn.top_k(tf.neg(distance), k=k)\n",
    "\n",
    "prediction_indices = tf.gather(y_target_train, top_k_indices)\n",
    "count_of_predictions = tf.reduce_sum(prediction_indices, reduction_indices=1)\n",
    "\n",
    "prediction = tf.argmax(count_of_predictions, dimension=1)"
   ]
  },
  {
   "cell_type": "code",
   "execution_count": 47,
   "metadata": {
    "collapsed": true
   },
   "outputs": [],
   "source": [
    "num_loops = int(np.ceil(len(x_vals_test)/batch_size))\n",
    "test_output = []\n",
    "actual_vals = []\n",
    "for i in range(num_loops):\n",
    "    min_index = i*batch_size\n",
    "    max_index = min((i+1)*batch_size,len(x_vals_train))\n",
    "    x_batch = x_vals_test[min_index:max_index]\n",
    "    y_batch = y_vals_test[min_index:max_index]\n",
    "    predictions = sess.run(prediction, feed_dict={x_data_train: x_vals_train, x_data_test: x_batch,\n",
    "                                         y_target_train: y_vals_train, y_target_test: y_batch})\n",
    "    test_output.extend(predictions)\n",
    "    actual_vals.extend(np.argmax(y_batch, axis=1))"
   ]
  },
  {
   "cell_type": "code",
   "execution_count": 49,
   "metadata": {},
   "outputs": [
    {
     "name": "stdout",
     "output_type": "stream",
     "text": [
      "Accuracy on test set: 0.9019607843137244\n"
     ]
    }
   ],
   "source": [
    "accuracy = sum([1./test_size for i in range(test_size) if test_output[i]==actual_vals[i]])\n",
    "print('Accuracy on test set: ' + str(accuracy))"
   ]
  },
  {
   "cell_type": "code",
   "execution_count": 52,
   "metadata": {},
   "outputs": [
    {
     "data": {
      "image/png": "[encoded data removed]",
      "text/plain": [
       "<matplotlib.figure.Figure at 0x1a09714c1d0>"
      ]
     },
     "metadata": {},
     "output_type": "display_data"
    }
   ],
   "source": [
    "actuals = np.argmax(y_batch, axis=1)\n",
    "Nrows = 2\n",
    "Ncols = 3\n",
    "for i in range(len(actuals)):\n",
    "    plt.subplot(Nrows, Ncols, i+1)\n",
    "    plt.imshow(np.reshape(x_batch[i], [28,28]), cmap='Greys_r')\n",
    "    plt.title('Actual: ' + str(actuals[i]) + ' Pred: ' + str(predictions[i]), fontsize=10)\n",
    "    frame = plt.gca()\n",
    "    frame.axes.get_xaxis().set_visible(False)\n",
    "    frame.axes.get_yaxis().set_visible(False)"
   ]
  },
  {
   "cell_type": "code",
   "execution_count": null,
   "metadata": {
    "collapsed": true
   },
   "outputs": [],
   "source": []
  }
 ],
 "metadata": {
  "kernelspec": {
   "display_name": "Python 3",
   "language": "python",
   "name": "python3"
  },
  "language_info": {
   "codemirror_mode": {
    "name": "ipython",
    "version": 3
   },
   "file_extension": ".py",
   "mimetype": "text/x-python",
   "name": "python",
   "nbconvert_exporter": "python",
   "pygments_lexer": "ipython3",
   "version": "3.5.0"
  }
 },
 "nbformat": 4,
 "nbformat_minor": 2
}
