{
 "cells": [
  {
   "cell_type": "code",
   "execution_count": 2,
   "metadata": {
    "collapsed": true
   },
   "outputs": [],
   "source": [
    "import tensorflow as tf\n",
    "import numpy as np"
   ]
  },
  {
   "cell_type": "code",
   "execution_count": 4,
   "metadata": {
    "collapsed": true
   },
   "outputs": [],
   "source": [
    "def create_samples(n_clusters, n_samples_per_cluster, n_features, embiggen_factor, seed):\n",
    "    np.random.seed(seed)\n",
    "    slices = []\n",
    "    centroids = []\n",
    "    \n",
    "    # Create samples for each cluster\n",
    "    for i in range(n_clusters):\n",
    "        samples = tf.random_normal((n_samples_per_cluster, n_features),\n",
    "                                   mean=0.0, stddev=5.0, dtype=tf.float32, seed=seed, name=\"cluster_{}\".format(i))\n",
    "        \n",
    "        current_centroid = (np.random.random((1, n_features)) * embiggen_factor) - (embiggen_factor/2)\n",
    "        \n",
    "        centroids.append(current_centroid)\n",
    "        \n",
    "        samples += current_centroid\n",
    "        \n",
    "        slices.append(samples)\n",
    "        \n",
    "    # Create a big \"samples\" dataset\n",
    "    samples = tf.concat(slices, 0, name='samples')\n",
    "    centroids = tf.concat(centroids, 0, name='centroids')\n",
    "    return centroids, samples"
   ]
  },
  {
   "cell_type": "code",
   "execution_count": 5,
   "metadata": {
    "collapsed": true
   },
   "outputs": [],
   "source": [
    "import matplotlib.pyplot as plt\n",
    "%matplotlib inline\n",
    "\n",
    "def plot_clusters(all_samples, centroids, n_samples_per_cluster):\n",
    "     \n",
    "    #Plot out the different clusters\n",
    "     #Choose a different colour for each cluster\n",
    "    colour = plt.cm.rainbow(np.linspace(0,1,len(centroids)))\n",
    "    for i, centroid in enumerate(centroids):\n",
    "        samples = all_samples[i*n_samples_per_cluster:(i+1)*n_samples_per_cluster]\n",
    "        plt.scatter(samples[:,0], samples[:,1], c=colour[i])\n",
    "         #Grab just the samples fpr the given cluster and plot them out with a new colour\n",
    "         #Also plot centroid\n",
    "        plt.plot(centroid[0], centroid[1], markersize=35, marker=\"x\", color='k', mew=10)\n",
    "        plt.plot(centroid[0], centroid[1], markersize=30, marker=\"x\", color='m', mew=5)\n",
    "    plt.show()\n",
    "\n"
   ]
  },
  {
   "cell_type": "code",
   "execution_count": 10,
   "metadata": {},
   "outputs": [],
   "source": [
    "\n",
    "n_features = 2\n",
    "n_clusters = 3\n",
    "n_samples_per_cluster = 500\n",
    "seed = 700\n",
    "embiggen_factor = 70\n",
    "\n",
    "centroids, samples = create_samples(n_clusters, n_samples_per_cluster, n_features, embiggen_factor, seed)"
   ]
  },
  {
   "cell_type": "code",
   "execution_count": 14,
   "metadata": {},
   "outputs": [],
   "source": [
    "model = tf.global_variables_initializer()\n",
    "with tf.Session() as session:\n",
    "    sample_values = session.run(samples)\n",
    "    centroid_values = session.run(centroids)"
   ]
  },
  {
   "cell_type": "code",
   "execution_count": 15,
   "metadata": {},
   "outputs": [
    {
     "data": {
      "image/png": "[encoded data removed]",
      "text/plain": [
       "<matplotlib.figure.Figure at 0x1f0e0cafeb8>"
      ]
     },
     "metadata": {},
     "output_type": "display_data"
    }
   ],
   "source": [
    "plot_clusters(sample_values, centroid_values, n_samples_per_cluster)"
   ]
  },
  {
   "cell_type": "code",
   "execution_count": 25,
   "metadata": {
    "collapsed": true
   },
   "outputs": [],
   "source": [
    "def choose_random_centroids(samples, n_clusters):\n",
    "    # Step 0: Initialisation: Select `n_clusters` number of random points\n",
    "    n_samples = tf.shape(samples)[0]\n",
    "    print(n_samples)\n",
    "    random_indices = tf.random_shuffle(tf.range(0, n_samples))\n",
    "    begin = [0,]\n",
    "    size = [n_clusters,]\n",
    "    #size[0] = n_clusters\n",
    "    centroid_indices = tf.slice(random_indices, begin, size)\n",
    "    initial_centroids = tf.gather(samples, centroid_indices)\n",
    "    return initial_centroids"
   ]
  },
  {
   "cell_type": "code",
   "execution_count": 26,
   "metadata": {},
   "outputs": [
    {
     "name": "stdout",
     "output_type": "stream",
     "text": [
      "Tensor(\"strided_slice_1:0\", shape=(), dtype=int32)\n"
     ]
    }
   ],
   "source": [
    "initial_centroids = choose_random_centroids(samples, n_clusters)"
   ]
  },
  {
   "cell_type": "code",
   "execution_count": 27,
   "metadata": {
    "collapsed": true
   },
   "outputs": [],
   "source": [
    "with tf.Session() as session:\n",
    "    updated_centroid_value = session.run(initial_centroids)"
   ]
  },
  {
   "cell_type": "code",
   "execution_count": 19,
   "metadata": {},
   "outputs": [
    {
     "data": {
      "text/plain": [
       "array([[-12.57284737,  16.90243149],\n",
       "       [ -3.82149887,  16.00059319],\n",
       "       [-36.63245392,  12.81079769]], dtype=float32)"
      ]
     },
     "execution_count": 19,
     "metadata": {},
     "output_type": "execute_result"
    }
   ],
   "source": [
    "updated_centroid_value"
   ]
  },
  {
   "cell_type": "code",
   "execution_count": 24,
   "metadata": {},
   "outputs": [
    {
     "data": {
      "text/plain": [
       "array([[-24.23473167,  -5.63619328],\n",
       "       [-21.30787468,   0.05049753],\n",
       "       [-29.07078743, -15.99440384],\n",
       "       ..., \n",
       "       [-19.84384918,   8.68898773],\n",
       "       [-12.37724876,  19.23770142],\n",
       "       [-21.83363724,  21.7114563 ]], dtype=float32)"
      ]
     },
     "execution_count": 24,
     "metadata": {},
     "output_type": "execute_result"
    }
   ],
   "source": [
    "sample_values"
   ]
  },
  {
   "cell_type": "code",
   "execution_count": 28,
   "metadata": {},
   "outputs": [
    {
     "data": {
      "image/png": "[encoded data removed]",
      "text/plain": [
       "<matplotlib.figure.Figure at 0x1f0df425fd0>"
      ]
     },
     "metadata": {},
     "output_type": "display_data"
    }
   ],
   "source": [
    "plot_clusters(sample_values, updated_centroid_value, n_samples_per_cluster)"
   ]
  },
  {
   "cell_type": "code",
   "execution_count": 29,
   "metadata": {},
   "outputs": [
    {
     "data": {
      "text/plain": [
       "500"
      ]
     },
     "execution_count": 29,
     "metadata": {},
     "output_type": "execute_result"
    }
   ],
   "source": [
    "n_samples_per_cluster"
   ]
  },
  {
   "cell_type": "code",
   "execution_count": 30,
   "metadata": {},
   "outputs": [
    {
     "name": "stdout",
     "output_type": "stream",
     "text": [
      "Tensor(\"strided_slice_2:0\", shape=(), dtype=int32)\n"
     ]
    },
    {
     "data": {
      "image/png": "[encoded data removed]",
      "text/plain": [
       "<matplotlib.figure.Figure at 0x1f0e10795c0>"
      ]
     },
     "metadata": {},
     "output_type": "display_data"
    }
   ],
   "source": [
    "import tensorflow as tf\n",
    "import numpy as np\n",
    "\n",
    "\n",
    "\n",
    "n_features = 2\n",
    "n_clusters = 3\n",
    "n_samples_per_cluster = 500\n",
    "seed = 700\n",
    "embiggen_factor = 70\n",
    "\n",
    "centroids, samples = create_samples(n_clusters, n_samples_per_cluster, n_features, embiggen_factor, seed)\n",
    "initial_centroids = choose_random_centroids(samples, n_clusters)\n",
    "\n",
    "model = tf.global_variables_initializer()\n",
    "with tf.Session() as session:\n",
    "    sample_values = session.run(samples)\n",
    "    updated_centroid_value = session.run(initial_centroids)\n",
    "\n",
    "plot_clusters(sample_values, updated_centroid_value, n_samples_per_cluster)"
   ]
  },
  {
   "cell_type": "code",
   "execution_count": 31,
   "metadata": {
    "collapsed": true
   },
   "outputs": [],
   "source": [
    "def assign_to_nearest(samples, centroids):\n",
    "\n",
    "    expanded_vectors = tf.expand_dims(samples, 0)\n",
    "    expanded_centroids = tf.expand_dims(centroids, 1)\n",
    "    distances = tf.reduce_sum( tf.square(\n",
    "               tf.subtract(expanded_vectors, expanded_centroids)), 2)\n",
    "    mins = tf.argmin(distances, 0)\n",
    "    nearest_indices = mins\n",
    "    return nearest_indices\n",
    "    "
   ]
  },
  {
   "cell_type": "code",
   "execution_count": 52,
   "metadata": {},
   "outputs": [],
   "source": [
    "def update_centroids(samples, nearest_indices, n_clusters):\n",
    "    \n",
    "    # Updates the centroid to be the mean of all samples associated with it.\n",
    "    nearest_indices = tf.to_int32(nearest_indices)\n",
    "    \n",
    "    partitions = tf.dynamic_partition(samples, nearest_indices, n_clusters)\n",
    "    \n",
    "    new_centroids = tf.concat([tf.expand_dims(tf.reduce_mean(partition, 0), 0) for partition in partitions], 0)\n",
    "    return new_centroids"
   ]
  },
  {
   "cell_type": "code",
   "execution_count": 36,
   "metadata": {},
   "outputs": [
    {
     "data": {
      "text/plain": [
       "(1500, 2)"
      ]
     },
     "execution_count": 36,
     "metadata": {},
     "output_type": "execute_result"
    }
   ],
   "source": [
    "sample_values.shape"
   ]
  },
  {
   "cell_type": "code",
   "execution_count": 38,
   "metadata": {},
   "outputs": [
    {
     "data": {
      "text/plain": [
       "(3, 2)"
      ]
     },
     "execution_count": 38,
     "metadata": {},
     "output_type": "execute_result"
    }
   ],
   "source": [
    "centroid_values.shape"
   ]
  },
  {
   "cell_type": "code",
   "execution_count": 39,
   "metadata": {},
   "outputs": [
    {
     "data": {
      "text/plain": [
       "(3, 1, 2)"
      ]
     },
     "execution_count": 39,
     "metadata": {},
     "output_type": "execute_result"
    }
   ],
   "source": [
    "1,1500,2\n",
    "3,1,2"
   ]
  },
  {
   "cell_type": "code",
   "execution_count": 40,
   "metadata": {
    "collapsed": true
   },
   "outputs": [],
   "source": [
    "a32 = np.array([ [1,2],\n",
    "           [3,4],\n",
    "           [5,6]])"
   ]
  },
  {
   "cell_type": "code",
   "execution_count": 41,
   "metadata": {
    "collapsed": true
   },
   "outputs": [],
   "source": [
    "b22 = np.array([ [1,2],\n",
    "           [5,6]])"
   ]
  },
  {
   "cell_type": "code",
   "execution_count": 43,
   "metadata": {},
   "outputs": [],
   "source": [
    "a32n = a32.reshape((3,1,2))"
   ]
  },
  {
   "cell_type": "code",
   "execution_count": 44,
   "metadata": {
    "collapsed": true
   },
   "outputs": [],
   "source": [
    "b22n = b22.reshape((2,1,2)) "
   ]
  },
  {
   "cell_type": "code",
   "execution_count": 47,
   "metadata": {},
   "outputs": [],
   "source": [
    "d = np.subtract(a32n,b22n)"
   ]
  },
  {
   "cell_type": "code",
   "execution_count": 48,
   "metadata": {},
   "outputs": [
    {
     "data": {
      "text/plain": [
       "(2, 3, 2)"
      ]
     },
     "execution_count": 48,
     "metadata": {},
     "output_type": "execute_result"
    }
   ],
   "source": [
    "d.shape"
   ]
  },
  {
   "cell_type": "code",
   "execution_count": 51,
   "metadata": {},
   "outputs": [
    {
     "data": {
      "text/plain": [
       "array([[ 0,  4,  8],\n",
       "       [-8, -4,  0]])"
      ]
     },
     "execution_count": 51,
     "metadata": {},
     "output_type": "execute_result"
    }
   ],
   "source": [
    "d.sum(axis=2)"
   ]
  },
  {
   "cell_type": "code",
   "execution_count": 50,
   "metadata": {},
   "outputs": [
    {
     "data": {
      "text/plain": [
       "array([[[ 0,  0],\n",
       "        [ 2,  2],\n",
       "        [ 4,  4]],\n",
       "\n",
       "       [[-4, -4],\n",
       "        [-2, -2],\n",
       "        [ 0,  0]]])"
      ]
     },
     "execution_count": 50,
     "metadata": {},
     "output_type": "execute_result"
    }
   ],
   "source": [
    "d"
   ]
  },
  {
   "cell_type": "code",
   "execution_count": 53,
   "metadata": {},
   "outputs": [
    {
     "name": "stdout",
     "output_type": "stream",
     "text": [
      "Help on function dynamic_partition in module tensorflow.python.ops.gen_data_flow_ops:\n",
      "\n",
      "dynamic_partition(data, partitions, num_partitions, name=None)\n",
      "    Partitions `data` into `num_partitions` tensors using indices from `partitions`.\n",
      "    \n",
      "    For each index tuple `js` of size `partitions.ndim`, the slice `data[js, ...]`\n",
      "    becomes part of `outputs[partitions[js]]`.  The slices with `partitions[js] = i`\n",
      "    are placed in `outputs[i]` in lexicographic order of `js`, and the first\n",
      "    dimension of `outputs[i]` is the number of entries in `partitions` equal to `i`.\n",
      "    In detail,\n",
      "    \n",
      "    ```python\n",
      "        outputs[i].shape = [sum(partitions == i)] + data.shape[partitions.ndim:]\n",
      "    \n",
      "        outputs[i] = pack([data[js, ...] for js if partitions[js] == i])\n",
      "    ```\n",
      "    \n",
      "    `data.shape` must start with `partitions.shape`.\n",
      "    \n",
      "    For example:\n",
      "    \n",
      "    ```python\n",
      "        # Scalar partitions.\n",
      "        partitions = 1\n",
      "        num_partitions = 2\n",
      "        data = [10, 20]\n",
      "        outputs[0] = []  # Empty with shape [0, 2]\n",
      "        outputs[1] = [[10, 20]]\n",
      "    \n",
      "        # Vector partitions.\n",
      "        partitions = [0, 0, 1, 1, 0]\n",
      "        num_partitions = 2\n",
      "        data = [10, 20, 30, 40, 50]\n",
      "        outputs[0] = [10, 20, 50]\n",
      "        outputs[1] = [30, 40]\n",
      "    ```\n",
      "    \n",
      "    See `dynamic_stitch` for an example on how to merge partitions back.\n",
      "    \n",
      "    <div style=\"width:70%; margin:auto; margin-bottom:10px; margin-top:20px;\">\n",
      "    <img style=\"width:100%\" src=\"https://www.tensorflow.org/images/DynamicPartition.png\" alt>\n",
      "    </div>\n",
      "    \n",
      "    Args:\n",
      "      data: A `Tensor`.\n",
      "      partitions: A `Tensor` of type `int32`.\n",
      "        Any shape.  Indices in the range `[0, num_partitions)`.\n",
      "      num_partitions: An `int` that is `>= 1`.\n",
      "        The number of partitions to output.\n",
      "      name: A name for the operation (optional).\n",
      "    \n",
      "    Returns:\n",
      "      A list of `num_partitions` `Tensor` objects with the same type as `data`.\n",
      "\n"
     ]
    }
   ],
   "source": [
    "help(tf.dynamic_partition)"
   ]
  },
  {
   "cell_type": "code",
   "execution_count": 57,
   "metadata": {},
   "outputs": [
    {
     "name": "stdout",
     "output_type": "stream",
     "text": [
      "Tensor(\"strided_slice_6:0\", shape=(), dtype=int32)\n",
      "[[-23.41298866  -5.0403614 ]\n",
      " [-12.4037981   16.87123489]\n",
      " [-29.43318748  24.97486687]]\n",
      "[[-31.39747238  25.7439785 ]\n",
      " [-14.41479874  17.914711  ]\n",
      " [-24.26021194  -5.22723341]]\n",
      "[[-20.26961517   0.14267336]\n",
      " [-28.45182228 -10.16779709]\n",
      " [-23.2160778   23.42747879]]\n",
      "[[-25.3943634   -5.88413334]\n",
      " [-21.75144577  21.31660652]\n",
      " [-16.07864761  -4.77323008]]\n",
      "[[-10.22910404  20.33134079]\n",
      " [-23.83283615  -6.07269669]\n",
      " [-25.01178169  21.28966713]]\n",
      "[[-20.73738861  23.02637863]\n",
      " [-21.29577827  -2.41832829]\n",
      " [-34.27545929  21.10885239]]\n",
      "[[-18.89899635   6.71370983]\n",
      " [-31.39985275  21.47494316]\n",
      " [-32.41139984  30.53956032]]\n",
      "[[-35.29745865  13.78770924]\n",
      " [-23.49595642  -5.36094475]\n",
      " [-21.8049984   21.80998611]]\n",
      "[[-17.27680588  19.11837387]\n",
      " [-33.45402145  25.73194695]\n",
      " [-23.82203865  -6.17243052]]\n",
      "[[-12.81673813  14.31089401]\n",
      " [-28.69512939  24.02179337]\n",
      " [-24.67459869  -6.89458084]]\n",
      "[[-19.09632492  24.87194633]\n",
      " [-24.33684349  19.08260918]\n",
      " [-23.65022659  -4.95297861]]\n",
      "[[-19.5936451    2.60443211]\n",
      " [-31.23334122  25.75405312]\n",
      " [-16.77768326  23.31212997]]\n",
      "[[-30.40720749  25.18817139]\n",
      " [-15.24376583  13.79871941]\n",
      " [-24.46020126  -7.89788771]]\n",
      "[[-13.2857008   17.08226776]\n",
      " [-30.13661003  24.75370026]\n",
      " [-23.68984985  -6.04603815]]\n",
      "[[-26.95560265  24.35166168]\n",
      " [-24.19052315  -5.84034586]\n",
      " [-11.74774837  14.99920273]]\n",
      "[[-28.99707222   4.30789852]\n",
      " [-29.04013443 -11.6475563 ]\n",
      " [-19.8191452   17.53910065]]\n",
      "[[-29.98380852  25.28877068]\n",
      " [-22.81941986  -2.70999789]\n",
      " [-11.84523392  18.06405449]]\n",
      "[[-28.99352264  -6.42686558]\n",
      " [-21.26214027  -6.82503796]\n",
      " [-22.1149559   20.45858192]]\n",
      "[[-17.00811768   7.32246685]\n",
      " [-18.20638466  30.04694748]\n",
      " [-30.64373207  17.93546295]]\n",
      "[[-15.14836502  16.51157188]\n",
      " [-27.11360168   5.06521702]\n",
      " [-22.37810326  27.4862709 ]]\n",
      "[[-27.71869087  22.91552925]\n",
      " [-19.14962387   6.04467201]\n",
      " [-32.86002731  27.65197563]]\n",
      "[[-36.7016449   25.31736946]\n",
      " [-21.233078    22.40108681]\n",
      " [-22.05782127  -2.76248741]]\n",
      "[[-21.26861     -1.30297685]\n",
      " [-36.41263199  24.23199844]\n",
      " [-22.00313377  22.79488754]]\n",
      "[[-24.11866188  -6.09012365]\n",
      " [-29.20363998  25.27437401]\n",
      " [-13.61390209  15.71132088]]\n",
      "[[-14.73783112  10.85649014]\n",
      " [ -3.29060507  14.24812412]\n",
      " [-28.41527557  13.54333115]]\n",
      "[[-30.96854973  26.01718712]\n",
      " [-14.5755167   17.63080597]\n",
      " [-23.62232971  -5.87738657]]\n",
      "[[-14.76795292  14.07003975]\n",
      " [-24.76126289  -5.07469177]\n",
      " [-26.1525135   25.3509655 ]]\n",
      "[[-26.30688286 -11.09183025]\n",
      " [-21.86023903  21.21325111]\n",
      " [-22.67162323  -3.3063097 ]]\n",
      "[[-21.97516632  21.35658073]\n",
      " [-24.52194977 -13.34427929]\n",
      " [-23.63417816  -3.87993002]]\n",
      "[[-26.79693031 -12.75020123]\n",
      " [-23.39624214  -4.38699341]\n",
      " [-22.09840012  21.02902985]]\n",
      "[[-23.30913925  -4.95942259]\n",
      " [-27.33899498  23.50531197]\n",
      " [-10.44200134  17.30614281]]\n",
      "[[-21.82613945  -6.05653477]\n",
      " [-31.92991829  16.06367683]\n",
      " [-17.38480377  20.8972435 ]]\n",
      "[[-27.2111702   27.85228348]\n",
      " [-32.97491837  22.781353  ]\n",
      " [-18.79349709   5.04346371]]\n",
      "[[-28.43749046  -1.4650315 ]\n",
      " [-21.86543846  20.7305851 ]\n",
      " [-22.63897133  -8.03948879]]\n",
      "[[-32.82534027  27.97127533]\n",
      " [-18.42123985   5.18195915]\n",
      " [-27.4802742   18.87075806]]\n",
      "[[-22.45156288  -6.67368174]\n",
      " [-22.39061737  20.89982986]\n",
      " [-30.94618797  -3.52983761]]\n",
      "[[-24.05086136  -5.83337927]\n",
      " [-13.66450691  16.92757607]\n",
      " [-30.4299202   25.50379372]]\n",
      "[[-28.51125145  14.60270786]\n",
      " [-18.96606255  21.75871468]\n",
      " [-23.80223465  -7.62687206]]\n",
      "[[-13.64116955  17.56087685]\n",
      " [-30.54552078  25.75187874]\n",
      " [-24.07309151  -5.04134417]]\n",
      "[[-25.19698906 -14.07178211]\n",
      " [-21.99043083  21.47822189]\n",
      " [-25.47599792  -2.8230257 ]]\n",
      "[[-31.48352623  27.18567467]\n",
      " [-18.40654564   6.36221981]\n",
      " [-30.25892067   9.03251457]]\n",
      "[[-21.35606575  -7.55996513]\n",
      " [-22.53646088  17.9753685 ]\n",
      " [-27.5132103  -12.45115185]]\n",
      "[[-14.31371784  12.3809042 ]\n",
      " [-26.0713501   24.43587303]\n",
      " [-24.27007675  -6.68309975]]\n",
      "[[-32.66195297  26.829813  ]\n",
      " [-21.03496933  21.95072937]\n",
      " [-19.68479729   2.03490114]]\n",
      "[[-13.62142658  17.4877243 ]\n",
      " [-30.60780716  25.71541023]\n",
      " [-23.94958687  -5.29754353]]\n",
      "[[-15.69008636  14.58912945]\n",
      " [-26.49517441  -2.55867958]\n",
      " [-27.49112129  27.47933388]]\n",
      "[[-13.78162575  26.20346451]\n",
      " [-30.81178856  21.52820587]\n",
      " [-18.25449371   4.93637276]]\n",
      "[[-13.67583942  16.74686623]\n",
      " [-23.93459511  -5.64014673]\n",
      " [-30.22063255  25.60948372]]\n",
      "[[-25.01699257  -5.20159101]\n",
      " [-13.52454567  14.49045849]\n",
      " [-29.12387657  26.07470512]]\n",
      "[[-12.13601494   6.70997953]\n",
      " [-25.3228569   12.30826283]\n",
      " [ -8.17657757  21.14234161]]\n"
     ]
    },
    {
     "data": {
      "image/png": "[encoded data removed]",
      "text/plain": [
       "<matplotlib.figure.Figure at 0x1f0e0e387b8>"
      ]
     },
     "metadata": {},
     "output_type": "display_data"
    }
   ],
   "source": [
    "import tensorflow as tf\n",
    "import numpy as np\n",
    "\n",
    "\n",
    "n_features = 2\n",
    "n_clusters = 3\n",
    "n_samples_per_cluster = 500\n",
    "seed = 700\n",
    "embiggen_factor = 70\n",
    "\n",
    "\n",
    "data_centroids, samples = create_samples(n_clusters, n_samples_per_cluster, n_features, embiggen_factor, seed)\n",
    "initial_centroids = choose_random_centroids(samples, n_clusters)\n",
    "nearest_indices = assign_to_nearest(samples, initial_centroids)\n",
    "updated_centroids = update_centroids(samples, nearest_indices, n_clusters)\n",
    "\n",
    "model = tf.global_variables_initializer()\n",
    "with tf.Session() as session:\n",
    "    sample_values = session.run(samples)\n",
    "    \n",
    "    for i in range(50):\n",
    "        \n",
    "        updated_centroid_value = session.run(updated_centroids)\n",
    "        print(updated_centroid_value)\n",
    "\n",
    "plot_clusters(sample_values, updated_centroid_value, n_samples_per_cluster)"
   ]
  },
  {
   "cell_type": "code",
   "execution_count": null,
   "metadata": {
    "collapsed": true
   },
   "outputs": [],
   "source": []
  }
 ],
 "metadata": {
  "kernelspec": {
   "display_name": "Python 3",
   "language": "python",
   "name": "python3"
  },
  "language_info": {
   "codemirror_mode": {
    "name": "ipython",
    "version": 3
   },
   "file_extension": ".py",
   "mimetype": "text/x-python",
   "name": "python",
   "nbconvert_exporter": "python",
   "pygments_lexer": "ipython3",
   "version": "3.6.0"
  }
 },
 "nbformat": 4,
 "nbformat_minor": 2
}
