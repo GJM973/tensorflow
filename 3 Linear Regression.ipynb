{
 "cells": [
  {
   "cell_type": "markdown",
   "metadata": {},
   "source": [
    "### Introduction\n",
    "* Matrix Inverse Method\n",
    "* TensorFlow Way of Regression\n",
    "* Lasso & Ridge Regression\n",
    "* Elastic Net Regression"
   ]
  },
  {
   "cell_type": "code",
   "execution_count": 1,
   "metadata": {
    "collapsed": true
   },
   "outputs": [],
   "source": [
    "import matplotlib.pyplot as plt\n",
    "import numpy as np\n",
    "import tensorflow as tf"
   ]
  },
  {
   "cell_type": "code",
   "execution_count": 2,
   "metadata": {
    "collapsed": true
   },
   "outputs": [],
   "source": [
    "sess = tf.Session()\n",
    "x_vals = np.linspace(0, 10, 100)"
   ]
  },
  {
   "cell_type": "code",
   "execution_count": 3,
   "metadata": {
    "collapsed": true
   },
   "outputs": [],
   "source": [
    "y_vals = x_vals + np.random.normal(0, 1, 100)"
   ]
  },
  {
   "cell_type": "code",
   "execution_count": 9,
   "metadata": {},
   "outputs": [],
   "source": [
    "x_vals_column = x_vals[:,np.newaxis]"
   ]
  },
  {
   "cell_type": "code",
   "execution_count": 11,
   "metadata": {},
   "outputs": [],
   "source": [
    "ones_column  = np.repeat(1, 100)[:,np.newaxis]"
   ]
  },
  {
   "cell_type": "code",
   "execution_count": 15,
   "metadata": {},
   "outputs": [],
   "source": [
    "A = np.column_stack((x_vals_column, ones_column))"
   ]
  },
  {
   "cell_type": "code",
   "execution_count": 16,
   "metadata": {
    "collapsed": true
   },
   "outputs": [],
   "source": [
    "b = y_vals[:,np.newaxis]"
   ]
  },
  {
   "cell_type": "code",
   "execution_count": 18,
   "metadata": {},
   "outputs": [],
   "source": [
    "A_tensor = tf.constant(A)"
   ]
  },
  {
   "cell_type": "code",
   "execution_count": 19,
   "metadata": {
    "collapsed": true
   },
   "outputs": [],
   "source": [
    "b_tensor = tf.constant(b)"
   ]
  },
  {
   "cell_type": "markdown",
   "metadata": {},
   "source": [
    "<img src=\"https://www.safaribooksonline.com/library/view/tensorflow-machine-learning/9781786462169/graphics/B05480_03_13.jpg\">"
   ]
  },
  {
   "cell_type": "code",
   "execution_count": 21,
   "metadata": {
    "collapsed": true
   },
   "outputs": [],
   "source": [
    "tA_A = tf.matmul(tf.transpose(A_tensor), A_tensor)"
   ]
  },
  {
   "cell_type": "code",
   "execution_count": 22,
   "metadata": {
    "collapsed": true
   },
   "outputs": [],
   "source": [
    "tA_A_inv = tf.matrix_inverse(tA_A)"
   ]
  },
  {
   "cell_type": "code",
   "execution_count": 23,
   "metadata": {
    "collapsed": true
   },
   "outputs": [],
   "source": [
    "product = tf.matmul(tA_A_inv, tf.transpose(A_tensor))"
   ]
  },
  {
   "cell_type": "code",
   "execution_count": 24,
   "metadata": {
    "collapsed": true
   },
   "outputs": [],
   "source": [
    "solution = tf.matmul(product,b_tensor)"
   ]
  },
  {
   "cell_type": "code",
   "execution_count": 26,
   "metadata": {},
   "outputs": [],
   "source": [
    "solution_eval = sess.run(solution)"
   ]
  },
  {
   "cell_type": "code",
   "execution_count": 27,
   "metadata": {
    "collapsed": true
   },
   "outputs": [],
   "source": [
    "slope = solution_eval[0][0]"
   ]
  },
  {
   "cell_type": "code",
   "execution_count": 28,
   "metadata": {},
   "outputs": [
    {
     "data": {
      "text/plain": [
       "1.02567165419803"
      ]
     },
     "execution_count": 28,
     "metadata": {},
     "output_type": "execute_result"
    }
   ],
   "source": [
    "solution_eval[0][0]"
   ]
  },
  {
   "cell_type": "code",
   "execution_count": 29,
   "metadata": {
    "collapsed": true
   },
   "outputs": [],
   "source": [
    "y_intercept = solution_eval[1][0]"
   ]
  },
  {
   "cell_type": "code",
   "execution_count": 31,
   "metadata": {},
   "outputs": [],
   "source": [
    "bf = []\n",
    "for i in x_vals:\n",
    "    bf.append(slope*i + y_intercept)"
   ]
  },
  {
   "cell_type": "code",
   "execution_count": 34,
   "metadata": {},
   "outputs": [
    {
     "data": {
      "image/png": "[encoded data removed]",
      "text/plain": [
       "<matplotlib.figure.Figure at 0x1c78ba4c978>"
      ]
     },
     "metadata": {},
     "output_type": "display_data"
    }
   ],
   "source": [
    "plt.plot(x_vals, y_vals, '.', label='Data')\n",
    "plt.plot(x_vals, bf, 'r-', label='Best fit line', linewidth=3)\n",
    "plt.legend(loc='upper left')\n",
    "plt.show()"
   ]
  },
  {
   "cell_type": "markdown",
   "metadata": {},
   "source": [
    "### The TensorFlow Way of Linear Regression"
   ]
  },
  {
   "cell_type": "code",
   "execution_count": 60,
   "metadata": {
    "collapsed": true
   },
   "outputs": [],
   "source": [
    "from sklearn import datasets\n",
    "from tensorflow.python.framework import ops\n",
    "ops.reset_default_graph()\n",
    "\n",
    "sess = tf.Session()\n",
    "iris = datasets.load_iris()"
   ]
  },
  {
   "cell_type": "code",
   "execution_count": 74,
   "metadata": {
    "collapsed": true
   },
   "outputs": [],
   "source": [
    "x_vals = np.array([x[3] for x in iris.data])\n",
    "y_vals = np.array([y[0] for y in iris.data])"
   ]
  },
  {
   "cell_type": "code",
   "execution_count": 75,
   "metadata": {},
   "outputs": [],
   "source": [
    "#declare our learning rate, batch size, placeholders, and model variables\n",
    "learning_rate = 0.05\n",
    "batch_size = 25"
   ]
  },
  {
   "cell_type": "code",
   "execution_count": 76,
   "metadata": {
    "collapsed": true
   },
   "outputs": [],
   "source": [
    "x_data = tf.placeholder(shape=[None, 1], dtype=tf.float32)\n",
    "y_target = tf.placeholder(shape=[None, 1], dtype=tf.float32)"
   ]
  },
  {
   "cell_type": "code",
   "execution_count": 77,
   "metadata": {
    "collapsed": true
   },
   "outputs": [],
   "source": [
    "A = tf.Variable(tf.random_normal(shape=[1,1]))\n",
    "b = tf.Variable(tf.random_normal(shape=[1,1]))"
   ]
  },
  {
   "cell_type": "code",
   "execution_count": 78,
   "metadata": {
    "collapsed": true
   },
   "outputs": [],
   "source": [
    "model_output = tf.add(tf.matmul(x_data, A), b)"
   ]
  },
  {
   "cell_type": "code",
   "execution_count": 79,
   "metadata": {
    "collapsed": true
   },
   "outputs": [],
   "source": [
    "loss = tf.reduce_mean(tf.square(y_target - model_output))\n",
    "init = tf.global_variables_initializer()"
   ]
  },
  {
   "cell_type": "code",
   "execution_count": 80,
   "metadata": {
    "collapsed": true
   },
   "outputs": [],
   "source": [
    "sess.run(init)"
   ]
  },
  {
   "cell_type": "code",
   "execution_count": 81,
   "metadata": {},
   "outputs": [],
   "source": [
    "my_opt = tf.train.GradientDescentOptimizer(learning_rate)"
   ]
  },
  {
   "cell_type": "code",
   "execution_count": 82,
   "metadata": {
    "collapsed": true
   },
   "outputs": [],
   "source": [
    "train_step = my_opt.minimize(loss)"
   ]
  },
  {
   "cell_type": "code",
   "execution_count": 83,
   "metadata": {},
   "outputs": [
    {
     "name": "stdout",
     "output_type": "stream",
     "text": [
      "Step #5 A = [[ 1.61624086]] b = [[ 1.94284403]]\n",
      "Loss = 4.04724\n",
      "Step #10 A = [[ 2.08684254]] b = [[ 2.60181046]]\n",
      "Loss = 1.36487\n",
      "Step #15 A = [[ 2.06445456]] b = [[ 2.90200281]]\n",
      "Loss = 1.75925\n",
      "Step #20 A = [[ 2.00173998]] b = [[ 3.1431756]]\n",
      "Loss = 0.967055\n",
      "Step #25 A = [[ 1.82255936]] b = [[ 3.27744889]]\n",
      "Loss = 0.86082\n",
      "Step #30 A = [[ 1.74178493]] b = [[ 3.45913339]]\n",
      "Loss = 1.15743\n",
      "Step #35 A = [[ 1.66903043]] b = [[ 3.62547874]]\n",
      "Loss = 0.818275\n",
      "Step #40 A = [[ 1.56762207]] b = [[ 3.71085262]]\n",
      "Loss = 0.533951\n",
      "Step #45 A = [[ 1.5295589]] b = [[ 3.84056449]]\n",
      "Loss = 0.478626\n",
      "Step #50 A = [[ 1.4425621]] b = [[ 3.93438411]]\n",
      "Loss = 0.444537\n",
      "Step #55 A = [[ 1.40663624]] b = [[ 4.03984404]]\n",
      "Loss = 0.227177\n",
      "Step #60 A = [[ 1.34098148]] b = [[ 4.10250998]]\n",
      "Loss = 0.366792\n",
      "Step #65 A = [[ 1.27528739]] b = [[ 4.13140821]]\n",
      "Loss = 0.300285\n",
      "Step #70 A = [[ 1.21289301]] b = [[ 4.21631575]]\n",
      "Loss = 0.448382\n",
      "Step #75 A = [[ 1.24151397]] b = [[ 4.29712486]]\n",
      "Loss = 0.239997\n",
      "Step #80 A = [[ 1.19705391]] b = [[ 4.33694983]]\n",
      "Loss = 0.236354\n",
      "Step #85 A = [[ 1.1287744]] b = [[ 4.35722923]]\n",
      "Loss = 0.302922\n",
      "Step #90 A = [[ 1.10733497]] b = [[ 4.39396334]]\n",
      "Loss = 0.120401\n",
      "Step #95 A = [[ 1.10599661]] b = [[ 4.43535805]]\n",
      "Loss = 0.22248\n",
      "Step #100 A = [[ 1.09402859]] b = [[ 4.46434975]]\n",
      "Loss = 0.40012\n",
      "Step #105 A = [[ 1.07180583]] b = [[ 4.4863143]]\n",
      "Loss = 0.218174\n",
      "Step #110 A = [[ 1.00677419]] b = [[ 4.50236797]]\n",
      "Loss = 0.225853\n",
      "Step #115 A = [[ 0.99948174]] b = [[ 4.54991817]]\n",
      "Loss = 0.31122\n",
      "Step #120 A = [[ 1.06790674]] b = [[ 4.6199646]]\n",
      "Loss = 0.260363\n",
      "Step #125 A = [[ 1.01478434]] b = [[ 4.60842609]]\n",
      "Loss = 0.315906\n",
      "Step #130 A = [[ 0.96224248]] b = [[ 4.62901068]]\n",
      "Loss = 0.253525\n",
      "Step #135 A = [[ 0.95159787]] b = [[ 4.65762806]]\n",
      "Loss = 0.273075\n",
      "Step #140 A = [[ 0.91368484]] b = [[ 4.66099596]]\n",
      "Loss = 0.204757\n",
      "Step #145 A = [[ 0.96571887]] b = [[ 4.71041155]]\n",
      "Loss = 0.238269\n",
      "Step #150 A = [[ 0.94858783]] b = [[ 4.72634077]]\n",
      "Loss = 0.193074\n",
      "Step #155 A = [[ 0.91637927]] b = [[ 4.7074151]]\n",
      "Loss = 0.223174\n",
      "Step #160 A = [[ 0.9464792]] b = [[ 4.73299694]]\n",
      "Loss = 0.163279\n",
      "Step #165 A = [[ 0.93241382]] b = [[ 4.72466183]]\n",
      "Loss = 0.200702\n",
      "Step #170 A = [[ 0.9221853]] b = [[ 4.72542524]]\n",
      "Loss = 0.219818\n",
      "Step #175 A = [[ 0.93208432]] b = [[ 4.74062204]]\n",
      "Loss = 0.20843\n",
      "Step #180 A = [[ 0.9575237]] b = [[ 4.75212431]]\n",
      "Loss = 0.128583\n",
      "Step #185 A = [[ 0.93679869]] b = [[ 4.74123573]]\n",
      "Loss = 0.220887\n",
      "Step #190 A = [[ 0.90384203]] b = [[ 4.71595287]]\n",
      "Loss = 0.107424\n",
      "Step #195 A = [[ 0.9143092]] b = [[ 4.74620104]]\n",
      "Loss = 0.189221\n",
      "Step #200 A = [[ 0.92086726]] b = [[ 4.75615883]]\n",
      "Loss = 0.129258\n",
      "Step #205 A = [[ 0.89506769]] b = [[ 4.75081968]]\n",
      "Loss = 0.311193\n",
      "Step #210 A = [[ 0.90372783]] b = [[ 4.76400805]]\n",
      "Loss = 0.213162\n",
      "Step #215 A = [[ 0.89231586]] b = [[ 4.75705385]]\n",
      "Loss = 0.253542\n",
      "Step #220 A = [[ 0.90745467]] b = [[ 4.75646734]]\n",
      "Loss = 0.208807\n",
      "Step #225 A = [[ 0.88676035]] b = [[ 4.74712706]]\n",
      "Loss = 0.170717\n",
      "Step #230 A = [[ 0.87127113]] b = [[ 4.75622749]]\n",
      "Loss = 0.110031\n",
      "Step #235 A = [[ 0.87171173]] b = [[ 4.77053452]]\n",
      "Loss = 0.241749\n",
      "Step #240 A = [[ 0.93811655]] b = [[ 4.7904315]]\n",
      "Loss = 0.134934\n",
      "Step #245 A = [[ 0.8957178]] b = [[ 4.77795362]]\n",
      "Loss = 0.226229\n",
      "Step #250 A = [[ 0.92310315]] b = [[ 4.7916584]]\n",
      "Loss = 0.143171\n",
      "Step #255 A = [[ 0.93554342]] b = [[ 4.78802347]]\n",
      "Loss = 0.305365\n",
      "Step #260 A = [[ 0.87759829]] b = [[ 4.74656391]]\n",
      "Loss = 0.16696\n",
      "Step #265 A = [[ 0.88371867]] b = [[ 4.75463629]]\n",
      "Loss = 0.110498\n",
      "Step #270 A = [[ 0.9204936]] b = [[ 4.77210999]]\n",
      "Loss = 0.265095\n",
      "Step #275 A = [[ 0.92088157]] b = [[ 4.78197193]]\n",
      "Loss = 0.367734\n",
      "Step #280 A = [[ 0.89282417]] b = [[ 4.76509237]]\n",
      "Loss = 0.164071\n",
      "Step #285 A = [[ 0.91667157]] b = [[ 4.77206278]]\n",
      "Loss = 0.16211\n",
      "Step #290 A = [[ 0.9044283]] b = [[ 4.76003265]]\n",
      "Loss = 0.195744\n",
      "Step #295 A = [[ 0.89461601]] b = [[ 4.75940752]]\n",
      "Loss = 0.220386\n",
      "Step #300 A = [[ 0.89883393]] b = [[ 4.77347136]]\n",
      "Loss = 0.19789\n",
      "Step #305 A = [[ 0.90003979]] b = [[ 4.77196646]]\n",
      "Loss = 0.128419\n",
      "Step #310 A = [[ 0.89875436]] b = [[ 4.7690177]]\n",
      "Loss = 0.221624\n",
      "Step #315 A = [[ 0.89647073]] b = [[ 4.76444769]]\n",
      "Loss = 0.159254\n",
      "Step #320 A = [[ 0.91730738]] b = [[ 4.77205276]]\n",
      "Loss = 0.286451\n",
      "Step #325 A = [[ 0.87569702]] b = [[ 4.7536521]]\n",
      "Loss = 0.215417\n",
      "Step #330 A = [[ 0.89149362]] b = [[ 4.76800966]]\n",
      "Loss = 0.184423\n",
      "Step #335 A = [[ 0.92485559]] b = [[ 4.78661823]]\n",
      "Loss = 0.239822\n",
      "Step #340 A = [[ 0.89123935]] b = [[ 4.75827217]]\n",
      "Loss = 0.175801\n",
      "Step #345 A = [[ 0.92759728]] b = [[ 4.76477242]]\n",
      "Loss = 0.195875\n",
      "Step #350 A = [[ 0.89876211]] b = [[ 4.73818684]]\n",
      "Loss = 0.203994\n",
      "Step #355 A = [[ 0.92075396]] b = [[ 4.76314735]]\n",
      "Loss = 0.196654\n",
      "Step #360 A = [[ 0.90538585]] b = [[ 4.75705862]]\n",
      "Loss = 0.275771\n",
      "Step #365 A = [[ 0.89413029]] b = [[ 4.75469017]]\n",
      "Loss = 0.249564\n",
      "Step #370 A = [[ 0.93057793]] b = [[ 4.7713604]]\n",
      "Loss = 0.329368\n",
      "Step #375 A = [[ 0.91486973]] b = [[ 4.75067329]]\n",
      "Loss = 0.0772524\n",
      "Step #380 A = [[ 0.94398677]] b = [[ 4.76410055]]\n",
      "Loss = 0.207022\n",
      "Step #385 A = [[ 0.92229009]] b = [[ 4.74501276]]\n",
      "Loss = 0.156481\n",
      "Step #390 A = [[ 0.89042151]] b = [[ 4.72619629]]\n",
      "Loss = 0.254109\n",
      "Step #395 A = [[ 0.89109749]] b = [[ 4.73436785]]\n",
      "Loss = 0.215904\n",
      "Step #400 A = [[ 0.88806385]] b = [[ 4.73865461]]\n",
      "Loss = 0.126923\n",
      "Step #405 A = [[ 0.86959803]] b = [[ 4.74170923]]\n",
      "Loss = 0.231642\n",
      "Step #410 A = [[ 0.87708229]] b = [[ 4.75898933]]\n",
      "Loss = 0.199822\n",
      "Step #415 A = [[ 0.85882509]] b = [[ 4.75287008]]\n",
      "Loss = 0.216627\n",
      "Step #420 A = [[ 0.90340513]] b = [[ 4.79459]]\n",
      "Loss = 0.256099\n",
      "Step #425 A = [[ 0.87201685]] b = [[ 4.77958059]]\n",
      "Loss = 0.211868\n",
      "Step #430 A = [[ 0.89975816]] b = [[ 4.80223465]]\n",
      "Loss = 0.253452\n",
      "Step #435 A = [[ 0.8370738]] b = [[ 4.77540922]]\n",
      "Loss = 0.196799\n",
      "Step #440 A = [[ 0.872967]] b = [[ 4.80301905]]\n",
      "Loss = 0.307601\n",
      "Step #445 A = [[ 0.85821527]] b = [[ 4.79181194]]\n",
      "Loss = 0.0994424\n",
      "Step #450 A = [[ 0.87201089]] b = [[ 4.80410004]]\n",
      "Loss = 0.213191\n",
      "Step #455 A = [[ 0.88129956]] b = [[ 4.81189156]]\n",
      "Loss = 0.189772\n",
      "Step #460 A = [[ 0.88393527]] b = [[ 4.81022406]]\n",
      "Loss = 0.240537\n",
      "Step #465 A = [[ 0.88636255]] b = [[ 4.80321264]]\n",
      "Loss = 0.206772\n",
      "Step #470 A = [[ 0.83929199]] b = [[ 4.76355791]]\n",
      "Loss = 0.114489\n",
      "Step #475 A = [[ 0.86205196]] b = [[ 4.78357506]]\n",
      "Loss = 0.252496\n",
      "Step #480 A = [[ 0.88599575]] b = [[ 4.80102539]]\n",
      "Loss = 0.248521\n",
      "Step #485 A = [[ 0.89738512]] b = [[ 4.80959892]]\n",
      "Loss = 0.240705\n",
      "Step #490 A = [[ 0.88934153]] b = [[ 4.78638363]]\n",
      "Loss = 0.126002\n",
      "Step #495 A = [[ 0.89262688]] b = [[ 4.77890444]]\n",
      "Loss = 0.166605\n",
      "Step #500 A = [[ 0.87964773]] b = [[ 4.75926208]]\n",
      "Loss = 0.296598\n",
      "Step #505 A = [[ 0.90340185]] b = [[ 4.78088284]]\n",
      "Loss = 0.207092\n",
      "Step #510 A = [[ 0.91319638]] b = [[ 4.77019167]]\n",
      "Loss = 0.12347\n",
      "Step #515 A = [[ 0.90198505]] b = [[ 4.75551367]]\n",
      "Loss = 0.334745\n",
      "Step #520 A = [[ 0.90054607]] b = [[ 4.75707483]]\n",
      "Loss = 0.148077\n",
      "Step #525 A = [[ 0.89460313]] b = [[ 4.7447772]]\n",
      "Loss = 0.22301\n",
      "Step #530 A = [[ 0.91831988]] b = [[ 4.74792862]]\n",
      "Loss = 0.203394\n",
      "Step #535 A = [[ 0.8946541]] b = [[ 4.73503542]]\n",
      "Loss = 0.551275\n",
      "Step #540 A = [[ 0.9241966]] b = [[ 4.73845005]]\n",
      "Loss = 0.174159\n",
      "Step #545 A = [[ 0.93189752]] b = [[ 4.73538971]]\n",
      "Loss = 0.205913\n",
      "Step #550 A = [[ 0.93967324]] b = [[ 4.7518878]]\n",
      "Loss = 0.164202\n",
      "Step #555 A = [[ 0.90759742]] b = [[ 4.73250437]]\n",
      "Loss = 0.147977\n",
      "Step #560 A = [[ 0.90897596]] b = [[ 4.75965834]]\n",
      "Loss = 0.251172\n",
      "Step #565 A = [[ 0.8878814]] b = [[ 4.76144123]]\n",
      "Loss = 0.222636\n",
      "Step #570 A = [[ 0.88598067]] b = [[ 4.76652861]]\n",
      "Loss = 0.183301\n",
      "Step #575 A = [[ 0.90301764]] b = [[ 4.78264284]]\n",
      "Loss = 0.210636\n",
      "Step #580 A = [[ 0.85680693]] b = [[ 4.75774336]]\n",
      "Loss = 0.189401\n",
      "Step #585 A = [[ 0.88449264]] b = [[ 4.76150799]]\n",
      "Loss = 0.24728\n",
      "Step #590 A = [[ 0.88329285]] b = [[ 4.75422192]]\n",
      "Loss = 0.159246\n",
      "Step #595 A = [[ 0.90187544]] b = [[ 4.76029682]]\n",
      "Loss = 0.258949\n",
      "Step #600 A = [[ 0.8790856]] b = [[ 4.74769974]]\n",
      "Loss = 0.254624\n",
      "Step #605 A = [[ 0.88992095]] b = [[ 4.75822878]]\n",
      "Loss = 0.20572\n",
      "Step #610 A = [[ 0.90257585]] b = [[ 4.77005482]]\n",
      "Loss = 0.174831\n",
      "Step #615 A = [[ 0.91949612]] b = [[ 4.77577972]]\n",
      "Loss = 0.299055\n",
      "Step #620 A = [[ 0.87884879]] b = [[ 4.75857639]]\n",
      "Loss = 0.27124\n",
      "Step #625 A = [[ 0.89437771]] b = [[ 4.77778721]]\n",
      "Loss = 0.23692\n",
      "Step #630 A = [[ 0.88551128]] b = [[ 4.77402067]]\n",
      "Loss = 0.15259\n",
      "Step #635 A = [[ 0.88700867]] b = [[ 4.76851082]]\n",
      "Loss = 0.181761\n"
     ]
    },
    {
     "name": "stdout",
     "output_type": "stream",
     "text": [
      "Step #640 A = [[ 0.88413119]] b = [[ 4.77165985]]\n",
      "Loss = 0.269394\n",
      "Step #645 A = [[ 0.88604152]] b = [[ 4.77089739]]\n",
      "Loss = 0.203524\n",
      "Step #650 A = [[ 0.87255031]] b = [[ 4.77266502]]\n",
      "Loss = 0.196257\n",
      "Step #655 A = [[ 0.89517814]] b = [[ 4.78373003]]\n",
      "Loss = 0.233273\n",
      "Step #660 A = [[ 0.88945723]] b = [[ 4.77512074]]\n",
      "Loss = 0.420215\n",
      "Step #665 A = [[ 0.86291039]] b = [[ 4.75783253]]\n",
      "Loss = 0.253194\n",
      "Step #670 A = [[ 0.89540631]] b = [[ 4.77301455]]\n",
      "Loss = 0.26335\n",
      "Step #675 A = [[ 0.89473259]] b = [[ 4.76264191]]\n",
      "Loss = 0.297808\n",
      "Step #680 A = [[ 0.8876937]] b = [[ 4.75862598]]\n",
      "Loss = 0.211307\n",
      "Step #685 A = [[ 0.91586423]] b = [[ 4.78459549]]\n",
      "Loss = 0.212823\n",
      "Step #690 A = [[ 0.883008]] b = [[ 4.76325941]]\n",
      "Loss = 0.205894\n",
      "Step #695 A = [[ 0.88917279]] b = [[ 4.76691294]]\n",
      "Loss = 0.180569\n",
      "Step #700 A = [[ 0.89519686]] b = [[ 4.76523018]]\n",
      "Loss = 0.268219\n",
      "Step #705 A = [[ 0.90380299]] b = [[ 4.76607943]]\n",
      "Loss = 0.161249\n",
      "Step #710 A = [[ 0.88272744]] b = [[ 4.75579929]]\n",
      "Loss = 0.168926\n",
      "Step #715 A = [[ 0.90870696]] b = [[ 4.78554487]]\n",
      "Loss = 0.254365\n",
      "Step #720 A = [[ 0.89876688]] b = [[ 4.79019308]]\n",
      "Loss = 0.229512\n",
      "Step #725 A = [[ 0.86688387]] b = [[ 4.77378225]]\n",
      "Loss = 0.257048\n",
      "Step #730 A = [[ 0.91419518]] b = [[ 4.80701923]]\n",
      "Loss = 0.209512\n",
      "Step #735 A = [[ 0.90529418]] b = [[ 4.81287575]]\n",
      "Loss = 0.205529\n",
      "Step #740 A = [[ 0.91584474]] b = [[ 4.81090641]]\n",
      "Loss = 0.30269\n",
      "Step #745 A = [[ 0.87984735]] b = [[ 4.79380608]]\n",
      "Loss = 0.122725\n",
      "Step #750 A = [[ 0.85806346]] b = [[ 4.78511477]]\n",
      "Loss = 0.142294\n",
      "Step #755 A = [[ 0.87872541]] b = [[ 4.78101778]]\n",
      "Loss = 0.220315\n",
      "Step #760 A = [[ 0.90191597]] b = [[ 4.79625082]]\n",
      "Loss = 0.219534\n",
      "Step #765 A = [[ 0.88982427]] b = [[ 4.79417038]]\n",
      "Loss = 0.315201\n",
      "Step #770 A = [[ 0.91515332]] b = [[ 4.80166101]]\n",
      "Loss = 0.159349\n",
      "Step #775 A = [[ 0.88552892]] b = [[ 4.78975248]]\n",
      "Loss = 0.193549\n",
      "Step #780 A = [[ 0.8812477]] b = [[ 4.78126001]]\n",
      "Loss = 0.171209\n",
      "Step #785 A = [[ 0.87590718]] b = [[ 4.78329754]]\n",
      "Loss = 0.116595\n",
      "Step #790 A = [[ 0.87623882]] b = [[ 4.79720497]]\n",
      "Loss = 0.221681\n",
      "Step #795 A = [[ 0.87208575]] b = [[ 4.78861189]]\n",
      "Loss = 0.156013\n",
      "Step #800 A = [[ 0.89903885]] b = [[ 4.78873634]]\n",
      "Loss = 0.258912\n",
      "Step #805 A = [[ 0.88625646]] b = [[ 4.77436638]]\n",
      "Loss = 0.208606\n",
      "Step #810 A = [[ 0.90379]] b = [[ 4.77590179]]\n",
      "Loss = 0.167954\n",
      "Step #815 A = [[ 0.9024933]] b = [[ 4.77596283]]\n",
      "Loss = 0.222097\n",
      "Step #820 A = [[ 0.89543557]] b = [[ 4.77560616]]\n",
      "Loss = 0.25767\n",
      "Step #825 A = [[ 0.91241175]] b = [[ 4.79435396]]\n",
      "Loss = 0.404672\n",
      "Step #830 A = [[ 0.88706571]] b = [[ 4.77729988]]\n",
      "Loss = 0.18031\n",
      "Step #835 A = [[ 0.8411113]] b = [[ 4.74672651]]\n",
      "Loss = 0.23844\n",
      "Step #840 A = [[ 0.87286657]] b = [[ 4.77133942]]\n",
      "Loss = 0.156771\n",
      "Step #845 A = [[ 0.86232978]] b = [[ 4.76650667]]\n",
      "Loss = 0.274793\n",
      "Step #850 A = [[ 0.91120607]] b = [[ 4.79541874]]\n",
      "Loss = 0.334862\n",
      "Step #855 A = [[ 0.88135487]] b = [[ 4.78904915]]\n",
      "Loss = 0.195532\n",
      "Step #860 A = [[ 0.87389368]] b = [[ 4.791255]]\n",
      "Loss = 0.263149\n",
      "Step #865 A = [[ 0.91977215]] b = [[ 4.81625462]]\n",
      "Loss = 0.304869\n",
      "Step #870 A = [[ 0.84705585]] b = [[ 4.76933193]]\n",
      "Loss = 0.203005\n",
      "Step #875 A = [[ 0.87787127]] b = [[ 4.78539276]]\n",
      "Loss = 0.172179\n",
      "Step #880 A = [[ 0.87225598]] b = [[ 4.78205681]]\n",
      "Loss = 0.206857\n",
      "Step #885 A = [[ 0.88922971]] b = [[ 4.78428745]]\n",
      "Loss = 0.234501\n",
      "Step #890 A = [[ 0.87761855]] b = [[ 4.77510071]]\n",
      "Loss = 0.190482\n",
      "Step #895 A = [[ 0.91999596]] b = [[ 4.80294657]]\n",
      "Loss = 0.326446\n",
      "Step #900 A = [[ 0.87477684]] b = [[ 4.77335501]]\n",
      "Loss = 0.145608\n",
      "Step #905 A = [[ 0.88391382]] b = [[ 4.77138853]]\n",
      "Loss = 0.112937\n",
      "Step #910 A = [[ 0.90413791]] b = [[ 4.78479099]]\n",
      "Loss = 0.234579\n",
      "Step #915 A = [[ 0.94077641]] b = [[ 4.8014679]]\n",
      "Loss = 0.2082\n",
      "Step #920 A = [[ 0.89468986]] b = [[ 4.78073788]]\n",
      "Loss = 0.222223\n",
      "Step #925 A = [[ 0.89374715]] b = [[ 4.77529955]]\n",
      "Loss = 0.185879\n",
      "Step #930 A = [[ 0.88481045]] b = [[ 4.76286507]]\n",
      "Loss = 0.160888\n",
      "Step #935 A = [[ 0.85464996]] b = [[ 4.74531746]]\n",
      "Loss = 0.146061\n",
      "Step #940 A = [[ 0.90033519]] b = [[ 4.77212477]]\n",
      "Loss = 0.224256\n",
      "Step #945 A = [[ 0.90159822]] b = [[ 4.78090906]]\n",
      "Loss = 0.268262\n",
      "Step #950 A = [[ 0.92668003]] b = [[ 4.79258871]]\n",
      "Loss = 0.205036\n",
      "Step #955 A = [[ 0.8984558]] b = [[ 4.77097511]]\n",
      "Loss = 0.203151\n",
      "Step #960 A = [[ 0.87217468]] b = [[ 4.76147127]]\n",
      "Loss = 0.142489\n",
      "Step #965 A = [[ 0.87625802]] b = [[ 4.76302099]]\n",
      "Loss = 0.410005\n",
      "Step #970 A = [[ 0.8885709]] b = [[ 4.77790022]]\n",
      "Loss = 0.257743\n",
      "Step #975 A = [[ 0.87015575]] b = [[ 4.76783848]]\n",
      "Loss = 0.198776\n",
      "Step #980 A = [[ 0.89940614]] b = [[ 4.77819443]]\n",
      "Loss = 0.290789\n",
      "Step #985 A = [[ 0.89505756]] b = [[ 4.78182364]]\n",
      "Loss = 0.31699\n",
      "Step #990 A = [[ 0.91756827]] b = [[ 4.80646658]]\n",
      "Loss = 0.254186\n",
      "Step #995 A = [[ 0.88224298]] b = [[ 4.7821188]]\n",
      "Loss = 0.161524\n",
      "Step #1000 A = [[ 0.91001475]] b = [[ 4.80141163]]\n",
      "Loss = 0.268105\n"
     ]
    }
   ],
   "source": [
    "loss_data = []\n",
    "for i in range(1000):\n",
    "    rand_index = np.random.choice(len(x_vals), size=batch_size)\n",
    "    #training_data\n",
    "    rand_x = np.transpose([x_vals[rand_index]])\n",
    "    #testing data\n",
    "    rand_y = np.transpose([y_vals[rand_index]])\n",
    "    sess.run(train_step,feed_dict={y_target:rand_y, x_data:rand_x})\n",
    "    temp_loss = sess.run(loss, feed_dict={y_target:rand_y, x_data:rand_x})\n",
    "    loss_data.append(temp_loss)\n",
    "    if (i+1)%5==0:\n",
    "        print('Step #' + str(i+1) + ' A = ' + str(sess.run(A)) + ' b = ' + str(sess.run(b)))\n",
    "        print('Loss = ''' + str(temp_loss))"
   ]
  },
  {
   "cell_type": "code",
   "execution_count": 84,
   "metadata": {},
   "outputs": [
    {
     "data": {
      "image/png": "[encoded data removed]",
      "text/plain": [
       "<matplotlib.figure.Figure at 0x1c78babe358>"
      ]
     },
     "metadata": {},
     "output_type": "display_data"
    }
   ],
   "source": [
    "plt.plot(loss_data, 'k-')\n",
    "plt.title(' Loss per Generation')\n",
    "plt.xlabel('Generation')\n",
    "plt.ylabel('L2 Loss')\n",
    "plt.show()"
   ]
  },
  {
   "cell_type": "code",
   "execution_count": null,
   "metadata": {
    "collapsed": true
   },
   "outputs": [],
   "source": []
  }
 ],
 "metadata": {
  "kernelspec": {
   "display_name": "Python 3",
   "language": "python",
   "name": "python3"
  },
  "language_info": {
   "codemirror_mode": {
    "name": "ipython",
    "version": 3
   },
   "file_extension": ".py",
   "mimetype": "text/x-python",
   "name": "python",
   "nbconvert_exporter": "python",
   "pygments_lexer": "ipython3",
   "version": "3.5.0"
  }
 },
 "nbformat": 4,
 "nbformat_minor": 2
}
