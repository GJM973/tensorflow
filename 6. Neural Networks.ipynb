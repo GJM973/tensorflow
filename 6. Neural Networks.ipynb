{
 "cells": [
  {
   "cell_type": "markdown",
   "metadata": {},
   "source": [
    "### Introduction\n",
    "* Sequence of operation applied to matrix of input data\n",
    "* These operation are usually collections of additions & multiplications\n",
    "* The important trick with neural networks is called 'backpropagation'. Back propagation is a procedure that allows us to update the model variables based on the learning rate and the output of the loss function. \n",
    "* Another important feature to take note of in neural networks is the non-linear activation function. Since most neural networks are just combinations of addition and multiplication operations, they will not be able to model non-linear datasets. To address this issue, we have used the non-linear activation functions in the neural networks. This will allow the neural network to adapt to most non-linear situations."
   ]
  },
  {
   "cell_type": "markdown",
   "metadata": {},
   "source": [
    "### Implementaing Operational Gates\n",
    "<img src=\"https://www.safaribooksonline.com/library/view/tensorflow-machine-learning/9781786462169/graphics/B05480_06_01.jpg\">"
   ]
  },
  {
   "cell_type": "code",
   "execution_count": 30,
   "metadata": {
    "collapsed": true
   },
   "outputs": [],
   "source": [
    "import tensorflow as tf\n",
    "sess = tf.Session()"
   ]
  },
  {
   "cell_type": "code",
   "execution_count": 31,
   "metadata": {
    "collapsed": true
   },
   "outputs": [],
   "source": [
    "a = tf.Variable(tf.constant(4.))\n",
    "x_val = 5.\n",
    "x_data = tf.placeholder(dtype=tf.float32)"
   ]
  },
  {
   "cell_type": "code",
   "execution_count": 32,
   "metadata": {
    "collapsed": true
   },
   "outputs": [],
   "source": [
    "multiplication = tf.mul(a, x_data)"
   ]
  },
  {
   "cell_type": "code",
   "execution_count": 33,
   "metadata": {
    "collapsed": true
   },
   "outputs": [],
   "source": [
    "loss = tf.square(tf.sub(multiplication, 50.))"
   ]
  },
  {
   "cell_type": "code",
   "execution_count": 34,
   "metadata": {
    "collapsed": true
   },
   "outputs": [],
   "source": [
    "init = tf.global_variables_initializer()\n",
    "sess.run(init)\n",
    "my_opt = tf.train.GradientDescentOptimizer(0.01)\n",
    "train_step = my_opt.minimize(loss)"
   ]
  },
  {
   "cell_type": "code",
   "execution_count": 35,
   "metadata": {},
   "outputs": [
    {
     "name": "stdout",
     "output_type": "stream",
     "text": [
      "Optimizing a Multiplication Gate Output to 50.\n",
      "7.0 * 5.0 = 35.0\n",
      "8.5 * 5.0 = 42.5\n",
      "9.25 * 5.0 = 46.25\n",
      "9.625 * 5.0 = 48.125\n",
      "9.8125 * 5.0 = 49.0625\n",
      "9.90625 * 5.0 = 49.5313\n",
      "9.95313 * 5.0 = 49.7656\n",
      "9.97656 * 5.0 = 49.8828\n",
      "9.98828 * 5.0 = 49.9414\n",
      "9.99414 * 5.0 = 49.9707\n"
     ]
    }
   ],
   "source": [
    "print('Optimizing a Multiplication Gate Output to 50.')\n",
    "for i in range(10):\n",
    "    sess.run(train_step, feed_dict={x_data: x_val})\n",
    "    a_val = sess.run(a)\n",
    "    mult_output = sess.run(multiplication, feed_dict={x_data: x_val})\n",
    "    print(str(a_val) + ' * ' + str(x_val) + ' = ' + str(mult_output))"
   ]
  },
  {
   "cell_type": "markdown",
   "metadata": {},
   "source": [
    "### We will do the same for f(x)= a.x + b"
   ]
  },
  {
   "cell_type": "code",
   "execution_count": 36,
   "metadata": {
    "collapsed": true
   },
   "outputs": [],
   "source": [
    "from tensorflow.python.framework import ops\n",
    "ops.reset_default_graph()\n",
    "sess = tf.Session()"
   ]
  },
  {
   "cell_type": "code",
   "execution_count": 37,
   "metadata": {
    "collapsed": true
   },
   "outputs": [],
   "source": [
    "#Initialize two model variables a,b\n",
    "a = tf.Variable(tf.constant(1.))\n",
    "b = tf.Variable(tf.constant(1.))"
   ]
  },
  {
   "cell_type": "code",
   "execution_count": 38,
   "metadata": {
    "collapsed": true
   },
   "outputs": [],
   "source": [
    "x_val = 5.\n",
    "x_data = tf.placeholder(dtype=tf.float32)"
   ]
  },
  {
   "cell_type": "code",
   "execution_count": 39,
   "metadata": {
    "collapsed": true
   },
   "outputs": [],
   "source": [
    "two_gate = tf.add(tf.mul(a,x_data),b)"
   ]
  },
  {
   "cell_type": "code",
   "execution_count": 40,
   "metadata": {
    "collapsed": true
   },
   "outputs": [],
   "source": [
    "loss = tf.square(tf.sub(two_gate,50))"
   ]
  },
  {
   "cell_type": "code",
   "execution_count": 41,
   "metadata": {
    "collapsed": true
   },
   "outputs": [],
   "source": [
    "my_opt = tf.train.GradientDescentOptimizer(0.01)\n",
    "train_step = my_opt.minimize(loss)"
   ]
  },
  {
   "cell_type": "code",
   "execution_count": 42,
   "metadata": {
    "collapsed": true
   },
   "outputs": [],
   "source": [
    "init = tf.global_variables_initializer()"
   ]
  },
  {
   "cell_type": "code",
   "execution_count": 43,
   "metadata": {
    "collapsed": true
   },
   "outputs": [],
   "source": [
    "sess.run(init)"
   ]
  },
  {
   "cell_type": "code",
   "execution_count": 44,
   "metadata": {},
   "outputs": [
    {
     "name": "stdout",
     "output_type": "stream",
     "text": [
      "\n",
      "Optimizing Two Gate Output to 50.\n",
      "5.4 * 5.0 + 1.88 = 28.88\n",
      "7.512 * 5.0 + 2.3024 = 39.8624\n",
      "8.52576 * 5.0 + 2.50515 = 45.134\n",
      "9.01236 * 5.0 + 2.60247 = 47.6643\n",
      "9.24593 * 5.0 + 2.64919 = 48.8789\n",
      "9.35805 * 5.0 + 2.67161 = 49.4619\n",
      "9.41186 * 5.0 + 2.68237 = 49.7417\n",
      "9.43769 * 5.0 + 2.68754 = 49.876\n",
      "9.45009 * 5.0 + 2.69002 = 49.9405\n",
      "9.45605 * 5.0 + 2.69121 = 49.9714\n"
     ]
    }
   ],
   "source": [
    "print('\\nOptimizing Two Gate Output to 50.')\n",
    "for i in range(10):\n",
    "    # Run the train step\n",
    "    sess.run(train_step, feed_dict={x_data: x_val})\n",
    "    # Get the a and b values\n",
    "    a_val, b_val = (sess.run(a), sess.run(b))\n",
    "    # Run the two-gate graph output\n",
    "    two_gate_output = sess.run(two_gate, feed_dict={x_data: x_val})\n",
    "    print(str(a_val) + ' * ' + str(x_val) + ' + ' + str(b_val) + ' = ' + str(two_gate_output))"
   ]
  },
  {
   "cell_type": "markdown",
   "metadata": {},
   "source": [
    "#### Working with Gates and Activation Functions\n",
    "<img src=\"https://www.safaribooksonline.com/library/view/tensorflow-machine-learning/9781786462169/graphics/B05480_06_11.jpg\">"
   ]
  },
  {
   "cell_type": "markdown",
   "metadata": {},
   "source": [
    "* Create two layer neural network - one layer through sigmoid function & another layer reLU\n",
    "* Loss function will be governed by L2 distance from 0.75\n",
    "* We will randomly pull data from normal distribution\n",
    "* Optimize towards 0.75"
   ]
  },
  {
   "cell_type": "code",
   "execution_count": 45,
   "metadata": {
    "collapsed": true
   },
   "outputs": [],
   "source": [
    "import numpy as np\n",
    "import matplotlib.pyplot as plt\n",
    "sess = tf.Session()\n",
    "tf.set_random_seed(5)\n",
    "np.random.seed(42)"
   ]
  },
  {
   "cell_type": "code",
   "execution_count": 46,
   "metadata": {
    "collapsed": true
   },
   "outputs": [],
   "source": [
    "batch_size = 50\n",
    "a1 = tf.Variable(tf.random_normal(shape=[1,1]))\n",
    "b1 = tf.Variable(tf.random_uniform(shape=[1,1]))\n",
    "a2 = tf.Variable(tf.random_normal(shape=[1,1]))\n",
    "b2 = tf.Variable(tf.random_uniform(shape=[1,1]))\n",
    "x = np.random.normal(2, 0.1, 500)\n",
    "x_data = tf.placeholder(shape=[None, 1], dtype=tf.float32)"
   ]
  },
  {
   "cell_type": "code",
   "execution_count": 47,
   "metadata": {},
   "outputs": [
    {
     "data": {
      "text/plain": [
       "array([ 2.04967142,  1.98617357,  2.06476885,  2.15230299,  1.97658466,\n",
       "        1.9765863 ,  2.15792128,  2.07674347,  1.95305256,  2.054256  ,\n",
       "        1.95365823,  1.95342702,  2.02419623,  1.80867198,  1.82750822,\n",
       "        1.94377125,  1.89871689,  2.03142473,  1.90919759,  1.85876963,\n",
       "        2.14656488,  1.97742237,  2.00675282,  1.85752518,  1.94556173,\n",
       "        2.01109226,  1.88490064,  2.0375698 ,  1.93993613,  1.97083063,\n",
       "        1.93982934,  2.18522782,  1.99865028,  1.89422891,  2.08225449,\n",
       "        1.87791564,  2.02088636,  1.80403299,  1.8671814 ,  2.01968612,\n",
       "        2.07384666,  2.01713683,  1.98843517,  1.96988963,  1.8521478 ,\n",
       "        1.92801558,  1.95393612,  2.10571222,  2.03436183,  1.82369598,\n",
       "        2.0324084 ,  1.96149177,  1.9323078 ,  2.06116763,  2.10309995,\n",
       "        2.09312801,  1.91607825,  1.96907876,  2.03312634,  2.09755451,\n",
       "        1.95208258,  1.9814341 ,  1.8893665 ,  1.88037934,  2.08125258,\n",
       "        2.135624  ,  1.99279899,  2.10035329,  2.0361636 ,  1.93548802,\n",
       "        2.03613956,  2.15380366,  1.9964174 ,  2.15646437,  1.73802549,\n",
       "        2.08219025,  2.00870471,  1.97009926,  2.00917608,  1.80124311,\n",
       "        1.97803281,  2.03571126,  2.1477894 ,  1.94817298,  1.91915064,\n",
       "        1.9498243 ,  2.09154021,  2.03287511,  1.94702398,  2.05132674,\n",
       "        2.00970775,  2.0968645 ,  1.92979469,  1.96723379,  1.96078918,\n",
       "        1.85364851,  2.02961203,  2.02610553,  2.00051135,  1.97654129,\n",
       "        1.85846293,  1.95793547,  1.96572855,  1.91977227,  1.98387143,\n",
       "        2.04040509,  2.18861859,  2.01745778,  2.02575504,  1.99255541,\n",
       "        1.80812288,  1.99734861,  2.00602302,  2.24632421,  1.9807639 ,\n",
       "        2.03015473,  1.99652882,  1.8831322 ,  2.11428228,  2.0751933 ,\n",
       "        2.07910319,  1.90906125,  2.14027943,  1.85981489,  2.05868571,\n",
       "        2.21904556,  1.90094637,  1.94337023,  2.00996514,  1.94965243,\n",
       "        1.84493366,  2.0068563 ,  1.89376963,  2.04735924,  1.90805758,\n",
       "        2.15499344,  1.92167467,  1.96779385,  2.08135172,  1.87691357,\n",
       "        2.02274599,  2.13071428,  1.83925168,  2.01846339,  2.02598828,\n",
       "        2.07818229,  1.87630493,  1.86795434,  2.05219416,  2.02969847,\n",
       "        2.02504929,  2.03464482,  1.93199753,  2.02322537,  2.02930725,\n",
       "        1.92856486,  2.18657745,  2.04738329,  1.88086965,  2.06565536,\n",
       "        1.90253183,  2.07870846,  2.11585956,  1.91793177,  2.09633761,\n",
       "        2.04127809,  2.08220602,  2.1896793 ,  1.97546119,  1.92462638,\n",
       "        1.91104856,  1.91841897,  1.99228983,  2.0341152 ,  2.02766908,\n",
       "        2.08271832,  2.00130019,  2.14535341,  1.97353432,  2.27201692,\n",
       "        2.06256673,  1.91428424,  1.89291075,  2.04824724,  1.97765372,\n",
       "        2.07140005,  2.04732376,  1.99271711,  1.91532063,  1.84851528,\n",
       "        1.9553485 ,  2.08563988,  2.02140937,  1.87542612,  2.01731809,\n",
       "        2.03853174,  1.91161426,  2.01537251,  2.00582087,  1.88570297,\n",
       "        2.03577874,  2.05607845,  2.10830512,  2.10538021,  1.86223306,\n",
       "        1.9062175 ,  2.05150353,  2.0513786 ,  2.05150477,  2.38527315,\n",
       "        2.05708905,  2.11355656,  2.09540018,  2.06513913,  1.96847308,\n",
       "        2.07589692,  1.92271748,  1.97631814,  1.95146365,  2.00818741,\n",
       "        2.23146586,  1.81327348,  2.06862602,  1.83872841,  1.95280681,\n",
       "        2.10889506,  2.006428  ,  1.89222552,  1.92846963,  2.06795977,\n",
       "        1.92696334,  2.02164586,  2.00455718,  1.93483997,  2.21439441,\n",
       "        2.0633919 ,  1.79748574,  2.01864543,  1.93382135,  2.08524333,\n",
       "        1.92074793,  1.98852636,  2.05049873,  2.08657552,  1.87997036,\n",
       "        1.96654988,  1.95250547,  1.93466708,  2.17654542,  2.04049817,\n",
       "        1.8739116 ,  2.09178619,  2.21221562,  2.10324653,  1.848063  ,\n",
       "        1.95157659,  2.12669111,  1.92923305,  2.04438194,  2.07746341,\n",
       "        1.90730695,  1.99404746,  1.67587327,  1.89756124,  1.97474318,\n",
       "        1.87522168,  2.16324113,  1.85698586,  1.95599555,  2.01307406,\n",
       "        2.14412733,  1.85641378,  2.11631638,  2.00102331,  1.90184913,\n",
       "        2.04621035,  2.01990597,  1.93997831,  2.00698021,  1.96146864,\n",
       "        2.01135173,  2.06621307,  2.15860168,  1.87621845,  2.21330334,\n",
       "        1.80479122,  1.98482149,  2.05883172,  2.02809919,  1.93773005,\n",
       "        1.97918777,  1.95069991,  1.94106352,  2.08496021,  2.03570155,\n",
       "        1.93070904,  2.08995999,  2.03072995,  2.08128621,  2.06296288,\n",
       "        1.9171005 ,  1.9439819 ,  2.07472936,  2.06103703,  1.99790984,\n",
       "        2.01173274,  2.12776649,  1.94084286,  2.05470974,  1.97978073,\n",
       "        1.97823188,  2.10987769,  2.08254163,  2.08135096,  2.13054788,\n",
       "        2.00210038,  2.0681953 ,  1.96897332,  2.03241664,  1.98698569,\n",
       "        2.0096996 ,  2.0595157 ,  1.91817793,  2.20923873,  1.89939826,\n",
       "        1.87858114,  2.11581109,  2.07916627,  2.06241198,  2.06283455,\n",
       "        1.99877532,  1.91027456,  2.00758046,  1.93228383,  2.09751197,\n",
       "        1.98529426,  1.91745028,  1.96786142,  2.04129315,  1.94362754,\n",
       "        1.91777796,  2.02436872,  2.02449666,  1.94930568,  1.95289617,\n",
       "        2.02320499,  1.85519157,  1.85925362,  1.92815558,  1.97865528,\n",
       "        2.03109076,  2.14753562,  2.08576596,  1.98400615,  1.99809838,\n",
       "        1.89974706,  1.99814869,  1.97113414,  2.03227186,  1.91727691,\n",
       "        2.05193465,  2.15327389,  1.98912399,  2.04017117,  2.0690144 ,\n",
       "        1.95987795,  2.02240925,  2.00125924,  2.00976761,  1.92269902,\n",
       "        2.00245102,  2.04979983,  2.14511436,  2.09592708,  2.21531825,\n",
       "        1.92326524,  2.08723206,  2.0183342 ,  2.21898029,  1.91917017,\n",
       "        1.91602782,  1.94006074,  1.78761043,  1.9474245 ,  1.92408673,\n",
       "        2.01503938,  2.0341756 ,  2.18761708,  2.09504238,  1.94230963,\n",
       "        1.91015853,  2.04919192,  1.86797668,  2.18314588,  2.11794401,\n",
       "        1.95308243,  1.82868655,  2.13538724,  1.98854602,  2.12378163,\n",
       "        1.84055723,  1.9400625 ,  2.00052437,  2.00469806,  1.95499345,\n",
       "        2.06228499,  1.89323796,  1.98576205,  2.01202956,  2.05144388,\n",
       "        2.07116149,  1.88753579,  1.84658858,  2.12776768,  2.0332314 ,\n",
       "        1.92515135,  2.1551152 ,  2.01156746,  2.11792972,  2.00675185,\n",
       "        2.20607479,  2.17553408,  1.97510359,  2.0971571 ,  2.06453759,\n",
       "        2.13686316,  1.90350765,  2.06860515,  2.10584245,  1.82412605,\n",
       "        1.88167415,  1.79607678,  1.97305932,  2.07175423,  2.15023571,\n",
       "        2.00740948,  2.16286155,  1.86198985,  1.82966176,  1.99444523,\n",
       "        2.03840654,  1.99673053,  1.79325579,  1.991088  ,  1.86955305,\n",
       "        2.06696725,  2.03665982,  1.90601202,  1.94861331,  1.89407865,\n",
       "        1.99373209,  2.09551423,  1.9014274 ,  2.05040465,  1.94697424,\n",
       "        1.92071272,  1.98929696,  1.89647577,  1.94463507,  1.88021221,\n",
       "        2.19647251,  2.00352636,  1.93002745,  2.02139799,  1.9887672 ,\n",
       "        1.97790304,  2.06141667,  2.07575077,  1.94694989,  1.94241818,\n",
       "        1.97249483,  1.76980788,  1.84848089,  2.13668743,  2.16449677,\n",
       "        1.9750964 ,  2.0576557 ,  2.03112502,  2.30788808,  2.11195749,\n",
       "        1.98720824,  1.90444596,  1.83935537,  2.02034636,  1.92436493,\n",
       "        1.85777463,  1.93534271,  1.8918452 ,  2.16871416,  2.08816398,\n",
       "        1.99920274,  2.14799441,  2.00773683,  1.91387158,  2.15231241,\n",
       "        2.053891  ,  1.89627538,  1.98096613,  1.91243817,  1.86172003])"
      ]
     },
     "execution_count": 47,
     "metadata": {},
     "output_type": "execute_result"
    }
   ],
   "source": [
    "x"
   ]
  },
  {
   "cell_type": "code",
   "execution_count": 56,
   "metadata": {
    "collapsed": true
   },
   "outputs": [],
   "source": [
    "# Start Graph Session\n",
    "sess = tf.Session()\n",
    "tf.set_random_seed(5)\n",
    "np.random.seed(42)\n",
    "\n",
    "batch_size = 50\n",
    "\n",
    "a1 = tf.Variable(tf.random_normal(shape=[1,1]))\n",
    "b1 = tf.Variable(tf.random_uniform(shape=[1,1]))\n",
    "a2 = tf.Variable(tf.random_normal(shape=[1,1]))\n",
    "b2 = tf.Variable(tf.random_uniform(shape=[1,1]))\n",
    "x = np.random.normal(2, 0.1, 500)\n",
    "x_data = tf.placeholder(shape=[None, 1], dtype=tf.float32)\n",
    "\n",
    "sigmoid_activation = tf.sigmoid(tf.add(tf.matmul(x_data, a1), b1))\n",
    "\n",
    "relu_activation = tf.nn.relu(tf.add(tf.matmul(x_data, a2), b2))"
   ]
  },
  {
   "cell_type": "code",
   "execution_count": 57,
   "metadata": {
    "collapsed": true
   },
   "outputs": [],
   "source": [
    "# Declare the loss function as the difference between\n",
    "# the output and a target value, 0.75.\n",
    "loss1 = tf.reduce_mean(tf.square(tf.subtract(sigmoid_activation, 0.75)))\n",
    "loss2 = tf.reduce_mean(tf.square(tf.subtract(relu_activation, 0.75)))"
   ]
  },
  {
   "cell_type": "code",
   "execution_count": 58,
   "metadata": {},
   "outputs": [],
   "source": [
    "\n",
    "# Initialize variables\n",
    "init = tf.global_variables_initializer()\n",
    "sess.run(init)"
   ]
  },
  {
   "cell_type": "code",
   "execution_count": 59,
   "metadata": {
    "collapsed": true
   },
   "outputs": [],
   "source": [
    "\n",
    "# Declare optimizer\n",
    "my_opt = tf.train.GradientDescentOptimizer(0.01)\n",
    "train_step_sigmoid = my_opt.minimize(loss1)\n",
    "train_step_relu = my_opt.minimize(loss2)"
   ]
  },
  {
   "cell_type": "code",
   "execution_count": 60,
   "metadata": {},
   "outputs": [
    {
     "name": "stdout",
     "output_type": "stream",
     "text": [
      "\n",
      "Optimizing Sigmoid AND Relu Output to 0.75\n",
      "sigmoid = 0.611362 relu = 3.47531\n",
      "sigmoid = 0.644543 relu = 0.756283\n",
      "sigmoid = 0.668274 relu = 0.748436\n",
      "sigmoid = 0.685683 relu = 0.7499\n",
      "sigmoid = 0.699268 relu = 0.758795\n",
      "sigmoid = 0.7092 relu = 0.760493\n",
      "sigmoid = 0.716958 relu = 0.751913\n",
      "sigmoid = 0.722561 relu = 0.743455\n",
      "sigmoid = 0.727813 relu = 0.75397\n",
      "sigmoid = 0.732233 relu = 0.760351\n"
     ]
    }
   ],
   "source": [
    "# Run loop across gate\n",
    "print('\\nOptimizing Sigmoid AND Relu Output to 0.75')\n",
    "loss_vec_sigmoid = []\n",
    "loss_vec_relu = []\n",
    "for i in range(500):\n",
    "    rand_indices = np.random.choice(len(x), size=batch_size)\n",
    "    x_vals = np.transpose([x[rand_indices]])\n",
    "    sess.run(train_step_sigmoid, feed_dict={x_data: x_vals})\n",
    "    sess.run(train_step_relu, feed_dict={x_data: x_vals})\n",
    "    \n",
    "    loss_vec_sigmoid.append(sess.run(loss1, feed_dict={x_data: x_vals}))\n",
    "    loss_vec_relu.append(sess.run(loss2, feed_dict={x_data: x_vals}))    \n",
    "    \n",
    "    sigmoid_output = np.mean(sess.run(sigmoid_activation, feed_dict={x_data: x_vals}))\n",
    "    relu_output = np.mean(sess.run(relu_activation, feed_dict={x_data: x_vals}))\n",
    "    \n",
    "    if i%50==0:\n",
    "        print('sigmoid = ' + str(np.mean(sigmoid_output)) + ' relu = ' + str(np.mean(relu_output)))"
   ]
  },
  {
   "cell_type": "code",
   "execution_count": 62,
   "metadata": {},
   "outputs": [
    {
     "data": {
      "image/png": "[encoded data removed]",
      "text/plain": [
       "<matplotlib.figure.Figure at 0x155b7ca1da0>"
      ]
     },
     "metadata": {},
     "output_type": "display_data"
    }
   ],
   "source": [
    "plt.plot(loss_vec_sigmoid, 'k-', label='Sigmoid Activation')\n",
    "plt.plot(loss_vec_relu, 'r--', label='Relu Activation')\n",
    "plt.ylim([0, 1.0])\n",
    "plt.title('Loss per Generation')\n",
    "plt.xlabel('Generation')\n",
    "plt.ylabel('Loss')\n",
    "plt.legend(loc='upper right')\n",
    "plt.show()"
   ]
  },
  {
   "cell_type": "code",
   "execution_count": 63,
   "metadata": {
    "collapsed": true
   },
   "outputs": [],
   "source": [
    "### Implementing a One-Layer Neural Network"
   ]
  },
  {
   "cell_type": "code",
   "execution_count": 64,
   "metadata": {
    "collapsed": true
   },
   "outputs": [],
   "source": [
    "from sklearn import datasets"
   ]
  },
  {
   "cell_type": "code",
   "execution_count": 65,
   "metadata": {
    "collapsed": true
   },
   "outputs": [],
   "source": [
    "iris = datasets.load_iris()\n",
    "x_vals = np.array([x[0:3] for x in iris.data])\n",
    "y_vals = np.array([x[3] for x in iris.data])\n",
    "sess = tf.Session()"
   ]
  },
  {
   "cell_type": "code",
   "execution_count": 66,
   "metadata": {
    "collapsed": true
   },
   "outputs": [],
   "source": [
    "seed = 2\n",
    "tf.set_random_seed(seed)\n",
    "np.random.seed(seed)"
   ]
  },
  {
   "cell_type": "code",
   "execution_count": 68,
   "metadata": {
    "collapsed": true
   },
   "outputs": [],
   "source": [
    "train_indices = np.random.choice(len(x_vals), round(len(x_vals)*0.8), replace=False)\n",
    "test_indices = np.array(list(set(range(len(x_vals))) - set(train_indices)))\n",
    "x_vals_train = x_vals[train_indices]\n",
    "x_vals_test = x_vals[test_indices]\n",
    "y_vals_train = y_vals[train_indices]\n",
    "y_vals_test = y_vals[test_indices]\n",
    "\n",
    "def normalize_cols(m):\n",
    "    col_max = m.max(axis=0)\n",
    "    col_min = m.min(axis=0)\n",
    "    return (m-col_min) / (col_max - col_min)\n",
    "\n",
    "x_vals_train = np.nan_to_num(normalize_cols(x_vals_train))\n",
    "x_vals_test = np.nan_to_num(normalize_cols(x_vals_test))"
   ]
  },
  {
   "cell_type": "code",
   "execution_count": 69,
   "metadata": {
    "collapsed": true
   },
   "outputs": [],
   "source": [
    "batch_size = 50\n",
    "x_data = tf.placeholder(shape=[None, 3], dtype=tf.float32)\n",
    "y_target = tf.placeholder(shape=[None, 1], dtype=tf.float32)"
   ]
  },
  {
   "cell_type": "code",
   "execution_count": 70,
   "metadata": {
    "collapsed": true
   },
   "outputs": [],
   "source": [
    "hidden_layer_nodes = 5\n",
    "A1 = tf.Variable(tf.random_normal(shape=[3,hidden_layer_nodes]))\n",
    "b1 = tf.Variable(tf.random_normal(shape=[hidden_layer_nodes]))\n",
    "A2 = tf.Variable(tf.random_normal(shape=[hidden_layer_nodes,1]))\n",
    "b2 = tf.Variable(tf.random_normal(shape=[1]))"
   ]
  },
  {
   "cell_type": "code",
   "execution_count": 71,
   "metadata": {
    "collapsed": true
   },
   "outputs": [],
   "source": [
    "hidden_output = tf.nn.relu(tf.add(tf.matmul(x_data, A1), b1))\n",
    "final_output = tf.nn.relu(tf.add(tf.matmul(hidden_output, A2),\n",
    "b2))"
   ]
  },
  {
   "cell_type": "code",
   "execution_count": 72,
   "metadata": {
    "collapsed": true
   },
   "outputs": [],
   "source": [
    "loss = tf.reduce_mean(tf.square(y_target - final_output))"
   ]
  },
  {
   "cell_type": "code",
   "execution_count": 73,
   "metadata": {},
   "outputs": [
    {
     "name": "stdout",
     "output_type": "stream",
     "text": [
      "WARNING:tensorflow:From <ipython-input-73-fb14de7c5c6a>:3 in <module>.: initialize_all_variables (from tensorflow.python.ops.variables) is deprecated and will be removed after 2017-03-02.\n",
      "Instructions for updating:\n",
      "Use `tf.global_variables_initializer` instead.\n"
     ]
    }
   ],
   "source": [
    "my_opt = tf.train.GradientDescentOptimizer(0.005)\n",
    "train_step = my_opt.minimize(loss)\n",
    "init = tf.initialize_all_variables()\n",
    "sess.run(init)"
   ]
  },
  {
   "cell_type": "code",
   "execution_count": 74,
   "metadata": {},
   "outputs": [
    {
     "name": "stdout",
     "output_type": "stream",
     "text": [
      "Generation: 50. Loss = 0.1773\n",
      "Generation: 100. Loss = 0.118572\n",
      "Generation: 150. Loss = 0.0923036\n",
      "Generation: 200. Loss = 0.0709243\n",
      "Generation: 250. Loss = 0.0513695\n",
      "Generation: 300. Loss = 0.0697432\n",
      "Generation: 350. Loss = 0.065231\n",
      "Generation: 400. Loss = 0.0680753\n",
      "Generation: 450. Loss = 0.0712517\n",
      "Generation: 500. Loss = 0.0550388\n"
     ]
    }
   ],
   "source": [
    "# First we initialize the loss vectors for storage.\n",
    "loss_vec = []\n",
    "test_loss = []\n",
    "for i in range(500):\n",
    "    # First we select a random set of indices for the batch.\n",
    "    rand_index = np.random.choice(len(x_vals_train), size=batch_size)\n",
    "    # We then select the training values\n",
    "    rand_x = x_vals_train[rand_index]\n",
    "    rand_y = np.transpose([y_vals_train[rand_index]])\n",
    "    # Now we run the training step\n",
    "    sess.run(train_step, feed_dict={x_data: rand_x, y_target: rand_y})\n",
    "    # We save the training loss\n",
    "    temp_loss = sess.run(loss, feed_dict={x_data: rand_x, y_target: rand_y})\n",
    "    loss_vec.append(np.sqrt(temp_loss))\n",
    "\n",
    "    # Finally, we run the test-set loss and save it.\n",
    "    test_temp_loss = sess.run(loss, feed_dict={x_data: x_vals_test, y_target: np.transpose([y_vals_test])})\n",
    "    test_loss.append(np.sqrt(test_temp_loss))\n",
    "    if (i+1)%50==0:\n",
    "        print('Generation: ' + str(i+1) + '. Loss = ' + str(temp_loss))"
   ]
  },
  {
   "cell_type": "code",
   "execution_count": 75,
   "metadata": {},
   "outputs": [
    {
     "data": {
      "image/png": "[encoded data removed]",
      "text/plain": [
       "<matplotlib.figure.Figure at 0x155b87fe7b8>"
      ]
     },
     "metadata": {},
     "output_type": "display_data"
    }
   ],
   "source": [
    "plt.plot(loss_vec, 'k-', label='Train Loss')\n",
    "plt.plot(test_loss, 'r--', label='Test Loss')\n",
    "plt.title('Loss (MSE) per Generation')\n",
    "plt.xlabel('Generation')\n",
    "plt.ylabel('Loss')\n",
    "plt.legend(loc='upper right')\n",
    "plt.show()"
   ]
  },
  {
   "cell_type": "code",
   "execution_count": null,
   "metadata": {
    "collapsed": true
   },
   "outputs": [],
   "source": []
  }
 ],
 "metadata": {
  "kernelspec": {
   "display_name": "Python 3",
   "language": "python",
   "name": "python3"
  },
  "language_info": {
   "codemirror_mode": {
    "name": "ipython",
    "version": 3
   },
   "file_extension": ".py",
   "mimetype": "text/x-python",
   "name": "python",
   "nbconvert_exporter": "python",
   "pygments_lexer": "ipython3",
   "version": "3.5.0"
  }
 },
 "nbformat": 4,
 "nbformat_minor": 2
}
