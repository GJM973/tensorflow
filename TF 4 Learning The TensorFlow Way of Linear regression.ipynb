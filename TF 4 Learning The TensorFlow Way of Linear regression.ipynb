{
 "cells": [
  {
   "cell_type": "code",
   "execution_count": 28,
   "metadata": {
    "collapsed": true
   },
   "outputs": [],
   "source": [
    "import numpy as np\n",
    "import tensorflow as tf\n",
    "from tensorflow.python.framework import ops\n",
    "ops.reset_default_graph()"
   ]
  },
  {
   "cell_type": "code",
   "execution_count": 29,
   "metadata": {
    "collapsed": true
   },
   "outputs": [],
   "source": [
    "x = np.linspace(0,10,10000)\n",
    "y = 2*x + 5\n",
    "n_samples = x.shape[0]"
   ]
  },
  {
   "cell_type": "code",
   "execution_count": 30,
   "metadata": {
    "collapsed": true
   },
   "outputs": [],
   "source": [
    "#Randomly initialize A & b\n",
    "A = tf.Variable(tf.random_normal(shape=[1,1]))\n",
    "b = tf.Variable(tf.random_normal(shape=[1,1]))"
   ]
  },
  {
   "cell_type": "code",
   "execution_count": 31,
   "metadata": {
    "collapsed": true
   },
   "outputs": [],
   "source": [
    "x_data = tf.placeholder(shape=[None,1],dtype=tf.float32)\n",
    "y_target = tf.placeholder(shape=[None,1], dtype=tf.float32)"
   ]
  },
  {
   "cell_type": "code",
   "execution_count": 32,
   "metadata": {
    "collapsed": true
   },
   "outputs": [],
   "source": [
    "model_output = tf.add(tf.multiply(x_data,A), b) "
   ]
  },
  {
   "cell_type": "code",
   "execution_count": 33,
   "metadata": {
    "collapsed": true
   },
   "outputs": [],
   "source": [
    "#loss = tf.reduce_mean(tf.square(y_target - model_output))\n",
    "loss = tf.reduce_sum(tf.pow(model_output-y_target, 2))/(2*n_samples)"
   ]
  },
  {
   "cell_type": "code",
   "execution_count": 34,
   "metadata": {
    "collapsed": true
   },
   "outputs": [],
   "source": [
    "learning_rate = 0.1\n",
    "gd = tf.train.GradientDescentOptimizer(learning_rate)"
   ]
  },
  {
   "cell_type": "code",
   "execution_count": 35,
   "metadata": {
    "collapsed": true
   },
   "outputs": [],
   "source": [
    "train_process = gd.minimize(loss)"
   ]
  },
  {
   "cell_type": "code",
   "execution_count": 36,
   "metadata": {},
   "outputs": [
    {
     "name": "stdout",
     "output_type": "stream",
     "text": [
      "0.0186446\n",
      "0.020076\n",
      "0.0170944\n",
      "0.0218088\n",
      "0.0127065\n",
      "0.0106144\n",
      "0.0100828\n",
      "0.0111777\n",
      "0.00911181\n",
      "0.00831482\n",
      "0.00904369\n",
      "0.00614624\n",
      "0.00799923\n",
      "0.00650492\n",
      "0.00438732\n",
      "0.00450495\n",
      "0.00488206\n",
      "0.00453333\n",
      "0.00501029\n",
      "0.00445537\n"
     ]
    }
   ],
   "source": [
    "batch_size = 25\n",
    "with tf.Session() as sess:\n",
    "    sess.run(A.initializer)\n",
    "    sess.run(b.initializer)\n",
    "    for i in range(100):\n",
    "        rand_index = np.random.choice(len(x),batch_size)\n",
    "        rand_x = x[rand_index]\n",
    "        rand_y = x[rand_index]\n",
    "        sess.run(train_process,feed_dict={x_data: np.transpose([rand_x]),y_target: np.transpose([rand_y])})\n",
    "        if i%5 == 0:\n",
    "            print (sess.run(loss, feed_dict={x_data: np.transpose([rand_x]),y_target: np.transpose([rand_y])}))"
   ]
  },
  {
   "cell_type": "code",
   "execution_count": null,
   "metadata": {
    "collapsed": true
   },
   "outputs": [],
   "source": []
  },
  {
   "cell_type": "code",
   "execution_count": null,
   "metadata": {
    "collapsed": true
   },
   "outputs": [],
   "source": []
  }
 ],
 "metadata": {
  "kernelspec": {
   "display_name": "Python 3",
   "language": "python",
   "name": "python3"
  },
  "language_info": {
   "codemirror_mode": {
    "name": "ipython",
    "version": 3
   },
   "file_extension": ".py",
   "mimetype": "text/x-python",
   "name": "python",
   "nbconvert_exporter": "python",
   "pygments_lexer": "ipython3",
   "version": "3.5.4"
  }
 },
 "nbformat": 4,
 "nbformat_minor": 2
}
