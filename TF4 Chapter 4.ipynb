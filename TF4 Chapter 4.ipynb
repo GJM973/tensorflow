{
 "cells": [
  {
   "cell_type": "code",
   "execution_count": 10,
   "metadata": {
    "collapsed": true
   },
   "outputs": [],
   "source": [
    "import numpy as np\n",
    "import tensorflow as tf\n",
    "from tensorflow.python.framework import ops\n",
    "ops.reset_default_graph()"
   ]
  },
  {
   "cell_type": "code",
   "execution_count": 11,
   "metadata": {
    "collapsed": true
   },
   "outputs": [],
   "source": [
    "x = np.linspace(0,10,10000)\n",
    "y = 2*x + 5"
   ]
  },
  {
   "cell_type": "code",
   "execution_count": 12,
   "metadata": {
    "collapsed": true
   },
   "outputs": [],
   "source": [
    "#Randomly initialize A & b\n",
    "A = tf.Variable(tf.random_normal(shape=[1,1]))\n",
    "b = tf.Variable(tf.random_normal(shape=[1,1]))"
   ]
  },
  {
   "cell_type": "code",
   "execution_count": 13,
   "metadata": {
    "collapsed": true
   },
   "outputs": [],
   "source": [
    "x_data = tf.placeholder(shape=[None,1],dtype=tf.float32)\n",
    "y_target = tf.placeholder(shape=[None,1], dtype=tf.float32)"
   ]
  },
  {
   "cell_type": "code",
   "execution_count": 14,
   "metadata": {
    "collapsed": true
   },
   "outputs": [],
   "source": [
    "model_output = tf.add(tf.matmul(x_data,A), b) "
   ]
  },
  {
   "cell_type": "code",
   "execution_count": 15,
   "metadata": {
    "collapsed": true
   },
   "outputs": [],
   "source": [
    "loss = tf.reduce_mean(tf.square(y_target - model_output))"
   ]
  },
  {
   "cell_type": "code",
   "execution_count": 16,
   "metadata": {
    "collapsed": true
   },
   "outputs": [],
   "source": [
    "learning_rate = 0.1\n",
    "gd = tf.train.GradientDescentOptimizer(learning_rate)"
   ]
  },
  {
   "cell_type": "code",
   "execution_count": 17,
   "metadata": {},
   "outputs": [],
   "source": [
    "train_process = gd.minimize(loss)"
   ]
  },
  {
   "cell_type": "code",
   "execution_count": 18,
   "metadata": {},
   "outputs": [
    {
     "name": "stdout",
     "output_type": "stream",
     "text": [
      "260.106\n",
      "9189.24\n",
      "339425.0\n",
      "7.56234e+06\n",
      "1.48939e+08\n",
      "3.39488e+09\n",
      "9.57288e+10\n",
      "5.26483e+12\n",
      "5.21763e+13\n",
      "3.32789e+15\n"
     ]
    }
   ],
   "source": [
    "batch_size = 25\n",
    "with tf.Session() as sess:\n",
    "    sess.run(A.initializer)\n",
    "    sess.run(b.initializer)\n",
    "    for i in range(10):\n",
    "        rand_index = np.random.choice(len(x),batch_size)\n",
    "        rand_x = x[rand_index]\n",
    "        rand_y = x[rand_index]\n",
    "        sess.run(train_process,feed_dict={x_data: np.transpose([rand_x]),y_target: np.transpose([rand_y])})\n",
    "        print (sess.run(loss, feed_dict={x_data: np.transpose([rand_x]),y_target: np.transpose([rand_y])}))"
   ]
  },
  {
   "cell_type": "code",
   "execution_count": null,
   "metadata": {
    "collapsed": true
   },
   "outputs": [],
   "source": []
  }
 ],
 "metadata": {
  "kernelspec": {
   "display_name": "Python 3",
   "language": "python",
   "name": "python3"
  },
  "language_info": {
   "codemirror_mode": {
    "name": "ipython",
    "version": 3
   },
   "file_extension": ".py",
   "mimetype": "text/x-python",
   "name": "python",
   "nbconvert_exporter": "python",
   "pygments_lexer": "ipython3",
   "version": "3.5.4"
  }
 },
 "nbformat": 4,
 "nbformat_minor": 2
}
